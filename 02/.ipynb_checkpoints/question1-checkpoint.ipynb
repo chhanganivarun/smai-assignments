{
 "cells": [
  {
   "cell_type": "markdown",
   "metadata": {
    "id": "vpWQigP0msj9"
   },
   "source": [
    "**Part 1:** \n",
    "\n",
    "Use the **Fashion-MNIST** dataset for this question."
   ]
  },
  {
   "cell_type": "markdown",
   "metadata": {
    "id": "vpWQigP0msj9"
   },
   "source": [
    "1) Load the dataset and perform splitting into training and validation sets with 70:30 ratio.\n",
    "\n",
    "> Do we need to normalise data? [If so Does it make any difference?]\n",
    "\n",
    "2) Implement the K Means algorithm. You need to find the optimal number of clusters using the\n",
    "    elbow method and silhouette method. \n",
    "\n",
    "3) Define the initial clusters’ centroids using:</br>\n",
    "> i) Forgy</br>\n",
    "\n",
    "> ii) Random Partition\n",
    "\n",
    "4) Experiment with different distance measures[Euclidean distance, Manhattan distance].\n",
    "\n",
    "5) Plot the error vs number of clusters graph while using the elbow method and silhouette \n",
    "    method. Report the optimal number of clusters found.\n",
    "\n",
    "6) Report the training and the validation accuracy and Compare your trained model with a model trained by the scikit-learn\n",
    "\n",
    "7) Visualize the dataset to depict the clusters formed. #Prefer T-SNE\n",
    "\n",
    "8) Implement K-means++, and repeat task 1 to task 7 again.</br>\n",
    "</br>\n",
    "</br>\n",
    "</br>\n",
    "</br>\n",
    "\n",
    "\n",
    "**Part 2:**\n",
    "</br>\n",
    "In this task, you will perform operations on [data.csv](https://drive.google.com/file/d/15NPkfXFoTkiRBlcI4ffe_Lp_BFOyf8UY/view?usp=sharing)`[data.csv](https://drive.google.com/file/d/15NPkfXFoTkiRBlcI4ffe_Lp_BFOyf8UY/view?usp=sharing)`, data.csv is a  latent space representation of  Fashion-MNIST, before doing this task please read about latent space representation.\n",
    "\n",
    "9) Load the data.csv file and apply Kmeans and Kmeans++, You need to find the optimal number of clusters using the elbow method and silhouette method.\n",
    "\n",
    "10) Visualize the dataset to depict the clusters formed. # Prefer T-SNE\n",
    "\n",
    "11) From these experiments(Part 1 and Part 2), compare accuracy or error, and report which one is better and why?\n",
    "</br>\n",
    "</br>\n",
    "**Note:** If the model takes a lot of time to train you can use MiniBatchKMeans.\n",
    " "
   ]
  },
  {
   "cell_type": "code",
   "execution_count": 52,
   "metadata": {},
   "outputs": [],
   "source": [
    "import numpy as np\n",
    "from tqdm.notebook import tqdm"
   ]
  },
  {
   "cell_type": "code",
   "execution_count": 27,
   "metadata": {},
   "outputs": [],
   "source": [
    "def dist(x1,x2,distance):\n",
    "    x1 = np.array(x1)\n",
    "    x2 = np.array(x2)\n",
    "    assert x1.shape == x2.shape\n",
    "    if distance == 'l2':\n",
    "        return np.linalg.norm(x1-x2,2)\n",
    "    if distance == 'l1':\n",
    "        return np.linalg.norm(x1-x2,1)\n",
    "    "
   ]
  },
  {
   "cell_type": "code",
   "execution_count": 42,
   "metadata": {},
   "outputs": [
    {
     "data": {
      "text/plain": [
       "array([2.23606798, 4.47213595, 5.83095189])"
      ]
     },
     "execution_count": 42,
     "metadata": {},
     "output_type": "execute_result"
    }
   ],
   "source": [
    "np.linalg.norm(np.array([[1,2],[4,2],[5,3]]),2,axis=1)"
   ]
  },
  {
   "cell_type": "code",
   "execution_count": null,
   "metadata": {
    "id": "yY8uMDe9quTE"
   },
   "outputs": [],
   "source": [
    "#implement elbow method from scratch\n",
    "def elbow(X,y,centers):\n",
    "    labels = np.unique(y)\n",
    "    for label in labels:\n",
    "        A = X[y==label]\n",
    "        "
   ]
  },
  {
   "cell_type": "code",
   "execution_count": 32,
   "metadata": {},
   "outputs": [
    {
     "data": {
      "text/plain": [
       "array([1, 2, 3])"
      ]
     },
     "execution_count": 32,
     "metadata": {},
     "output_type": "execute_result"
    }
   ],
   "source": [
    "np.unique([3,2,1])"
   ]
  },
  {
   "cell_type": "code",
   "execution_count": 64,
   "metadata": {
    "id": "32x9M36qq2fO"
   },
   "outputs": [],
   "source": [
    "#implement silhouette method from scratch\n",
    "def silhouette(X,y,distance='l2'):\n",
    "    labels = np.unique(y)\n",
    "    scores = 0\n",
    "    pbar = tqdm(total=X.shape[0])\n",
    "    for label in labels:\n",
    "        A = X[y==label]\n",
    "        B = X[y!=label]\n",
    "        if distance == 'l2':        \n",
    "            ai = np.sqrt(np.sum((A[:,None]-A)**2,axis=2)).T\n",
    "            bi = np.sqrt(np.sum((B[:,None]-A)**2,axis=2)).T\n",
    "            print(ai.shape)\n",
    "            print(bi.shape)\n",
    "        elif distance == 'l1':\n",
    "            ai = np.sum(np.abs(A[:,None]-A),axis=2).T\n",
    "            bi = np.sum(np.abs(B[:,None]-A),axis=2).T\n",
    "        else:\n",
    "            print('Metric not defined')\n",
    "            return -2\n",
    "        scores+= np.mean((bi-ai))*A.shape[0]\n",
    "    return scores/X.shape[0]"
   ]
  },
  {
   "cell_type": "code",
   "execution_count": 28,
   "metadata": {
    "id": "AW0iiyC6qDlb"
   },
   "outputs": [],
   "source": [
    "#implement Kmeans from scratch\n",
    "class Kmeans:\n",
    "    def __init__(self,k = 2, max_iterations = 100, tolerance = 0.1,distance='l2'):\n",
    "        self.k = k\n",
    "        self.max_iterations = max_iterations\n",
    "        self.tolerance = tolerance\n",
    "        self.distance=distance\n",
    "    def fit(self, X,init='forgy'):\n",
    "        X = X.copy()\n",
    "        np.random.shuffle(X)\n",
    "        if init=='forgy':\n",
    "            self.centers = X[:self.k]\n",
    "        else:\n",
    "            temp_assign = np.random.randint(self.k,size=X.shape[0])\n",
    "            self.centers = X[:self.k]\n",
    "            for i in range(self.k):\n",
    "                self.centers[i] = np.mean(X[temp_assign==i],axis=0)\n",
    "        \n",
    "        for iter_n in range(self.max_iterations):\n",
    "            self.new_close = list(range(self.k))\n",
    "            \n",
    "            for i in range(self.k):\n",
    "                self.new_close[i] = []\n",
    "                \n",
    "            for x in X:\n",
    "                closest = np.argmin(np.array([ dist(x,self.centers[i],self.distance) for i in range(self.k)]))\n",
    "                self.new_close[closest].append(x)\n",
    "                \n",
    "            self.new_centers = self.centers.copy()\n",
    "            \n",
    "            for i in range(self.k):\n",
    "                self.new_centers[i] = np.mean(np.array(self.new_close[i]),axis = 0)\n",
    "\n",
    "            cf = 0\n",
    "            for i in range(self.k):\n",
    "                if dist(self.new_centers[i],self.centers[i],self.distance) > self.tolerance:\n",
    "                    cf = 1\n",
    "                \n",
    "            self.centers = self.new_centers.copy()        \n",
    "            if not cf:\n",
    "                break\n",
    "                \n",
    "    def predict(self, X):\n",
    "        n = X.shape[0]\n",
    "        labels = np.zeros(X.shape[0])\n",
    "        for i in range(n):\n",
    "            labels[i] = np.argmin(np.array([ dist(X[i],self.centers[j],self.distance) for j in range(self.k)]))\n",
    "        return labels\n",
    "    \n",
    "    def inertia(self,X):\n",
    "        sq_sum=0\n",
    "        n = X.shape[0]\n",
    "        for i in range(n):\n",
    "            sq_sum+=np.min(np.array([ dist(X[i],self.centers[j],self.distance) for j in range(self.k)]))\n",
    "        return sq_sum"
   ]
  },
  {
   "cell_type": "code",
   "execution_count": 58,
   "metadata": {
    "id": "h4dn0bULqg1I"
   },
   "outputs": [],
   "source": [
    "#implement Kmeans++ from scratch\n",
    "class Kmeansplusplus:\n",
    "    def __init__(self,k = 2, max_iterations = 100, tolerance = 0.1,distance='l2'):\n",
    "        self.k = k\n",
    "        self.max_iterations = max_iterations\n",
    "        self.tolerance = tolerance\n",
    "        self.distance=distance\n",
    "    def fit(self, X,init='forgy'):\n",
    "        X = X.copy()\n",
    "        np.random.shuffle(X)\n",
    "\n",
    "        if init=='forgy':\n",
    "            self.centers = X[:self.k]\n",
    "        else:\n",
    "            temp_assign = np.random.randint(self.k,size=X.shape[0])\n",
    "            self.centers = X[:self.k]\n",
    "            for i in range(1): #rest will have to be reselected anyways\n",
    "                self.centers[i] = np.mean(X[temp_assign==i],axis=0)\n",
    "        \n",
    "        for curr_center in range(1,self.k):\n",
    "            dists = np.zeros(X.shape[0])\n",
    "            for ind,x in enumerate(X):\n",
    "                dists[ind] = np.max(np.array([ dist(x,self.centers[i],self.distance) for i in range(curr_center)]))\n",
    "            self.centers[curr_center] = X[np.random.choice(X.shape[0],p = dists/np.sum(dists))]\n",
    "\n",
    "        for iter_n in range(self.max_iterations):\n",
    "            self.new_close = list(range(self.k))\n",
    "            \n",
    "            for i in range(self.k):\n",
    "                self.new_close[i] = []\n",
    "                \n",
    "            for x in X:\n",
    "                closest = np.argmin(np.array([ dist(x,self.centers[i],self.distance) for i in range(self.k)]))\n",
    "                self.new_close[closest].append(x)\n",
    "                \n",
    "            self.new_centers = self.centers.copy()\n",
    "            \n",
    "            for i in range(self.k):\n",
    "                self.new_centers[i] = np.mean(np.array(self.new_close[i]),axis = 0)\n",
    "\n",
    "            cf = 0\n",
    "            for i in range(self.k):\n",
    "                if dist(self.new_centers[i],self.centers[i],self.distance) > self.tolerance:\n",
    "                    cf = 1\n",
    "                \n",
    "            self.centers = self.new_centers.copy()        \n",
    "            if not cf:\n",
    "                break\n",
    "                \n",
    "    def predict(self, X):\n",
    "        n = X.shape[0]\n",
    "        labels = np.zeros(X.shape[0])\n",
    "        for i in range(n):\n",
    "            labels[i] = np.argmin(np.array([ dist(X[i],self.centers[j],self.distance) for j in range(self.k)]))\n",
    "        return labels\n",
    "    \n",
    "    def inertia(self,X):\n",
    "        sq_sum=0\n",
    "        n = X.shape[0]\n",
    "        for i in range(n):\n",
    "            sq_sum+=np.min(np.array([ dist(X[i],self.centers[j],self.distance) for j in range(self.k)]))\n",
    "        return sq_sum        "
   ]
  },
  {
   "cell_type": "code",
   "execution_count": 1,
   "metadata": {
    "id": "6j7nYmipmrC6"
   },
   "outputs": [
    {
     "name": "stdout",
     "output_type": "stream",
     "text": [
      "Downloading data from https://storage.googleapis.com/tensorflow/tf-keras-datasets/train-labels-idx1-ubyte.gz\n",
      "32768/29515 [=================================] - 0s 0us/step\n",
      "Downloading data from https://storage.googleapis.com/tensorflow/tf-keras-datasets/train-images-idx3-ubyte.gz\n",
      "26427392/26421880 [==============================] - 4s 0us/step\n",
      "Downloading data from https://storage.googleapis.com/tensorflow/tf-keras-datasets/t10k-labels-idx1-ubyte.gz\n",
      "8192/5148 [===============================================] - 0s 0us/step\n",
      "Downloading data from https://storage.googleapis.com/tensorflow/tf-keras-datasets/t10k-images-idx3-ubyte.gz\n",
      "4423680/4422102 [==============================] - 0s 0us/step\n"
     ]
    }
   ],
   "source": [
    "from keras.datasets import fashion_mnist\n",
    "(trainX, trainy), (testX, testy) = fashion_mnist.load_data()"
   ]
  },
  {
   "cell_type": "code",
   "execution_count": 7,
   "metadata": {},
   "outputs": [
    {
     "data": {
      "text/plain": [
       "(60000, 784)"
      ]
     },
     "execution_count": 7,
     "metadata": {},
     "output_type": "execute_result"
    }
   ],
   "source": [
    "trainX = trainX.reshape((-1,28*28))\n",
    "trainX.shape"
   ]
  },
  {
   "cell_type": "code",
   "execution_count": 8,
   "metadata": {},
   "outputs": [
    {
     "data": {
      "text/plain": [
       "(10000, 784)"
      ]
     },
     "execution_count": 8,
     "metadata": {},
     "output_type": "execute_result"
    }
   ],
   "source": [
    "testX = testX.reshape((-1,28*28))\n",
    "testX.shape"
   ]
  },
  {
   "cell_type": "code",
   "execution_count": 12,
   "metadata": {},
   "outputs": [],
   "source": [
    "from sklearn.model_selection import train_test_split\n",
    "from sklearn.preprocessing import Normalizer"
   ]
  },
  {
   "cell_type": "code",
   "execution_count": 13,
   "metadata": {},
   "outputs": [],
   "source": [
    "normalizer = Normalizer()\n",
    "trainX = normalizer.fit_transform(trainX)\n",
    "testX = normalizer.transform(testX)"
   ]
  },
  {
   "cell_type": "code",
   "execution_count": 14,
   "metadata": {},
   "outputs": [],
   "source": [
    "X_train, X_val, y_train, y_val = train_test_split(trainX,trainy,test_size=0.3,random_state=42)"
   ]
  },
  {
   "cell_type": "code",
   "execution_count": 25,
   "metadata": {},
   "outputs": [],
   "source": [
    "from sklearn.metrics import silhouette_score"
   ]
  },
  {
   "cell_type": "code",
   "execution_count": 59,
   "metadata": {},
   "outputs": [],
   "source": [
    "kmeans = Kmeansplusplus(k=3,distance='l2')\n",
    "kmeans.fit(X_train)"
   ]
  },
  {
   "cell_type": "code",
   "execution_count": 60,
   "metadata": {},
   "outputs": [
    {
     "data": {
      "text/plain": [
       "0.15754469706484744"
      ]
     },
     "execution_count": 60,
     "metadata": {},
     "output_type": "execute_result"
    }
   ],
   "source": [
    "silhouette_score(X_val,kmeans.predict(X_val))"
   ]
  },
  {
   "cell_type": "code",
   "execution_count": 65,
   "metadata": {},
   "outputs": [
    {
     "data": {
      "application/vnd.jupyter.widget-view+json": {
       "model_id": "b61bc0fda51d4307bb00f9b148c23b3b",
       "version_major": 2,
       "version_minor": 0
      },
      "text/plain": [
       "HBox(children=(FloatProgress(value=0.0, max=18000.0), HTML(value='')))"
      ]
     },
     "metadata": {},
     "output_type": "display_data"
    },
    {
     "ename": "MemoryError",
     "evalue": "Unable to allocate 213. GiB for an array with shape (6033, 6033, 784) and data type float64",
     "output_type": "error",
     "traceback": [
      "\u001b[0;31m---------------------------------------------------------------------------\u001b[0m",
      "\u001b[0;31mMemoryError\u001b[0m                               Traceback (most recent call last)",
      "\u001b[0;32m<ipython-input-65-2cb80ad29927>\u001b[0m in \u001b[0;36m<module>\u001b[0;34m\u001b[0m\n\u001b[0;32m----> 1\u001b[0;31m \u001b[0msilhouette\u001b[0m\u001b[0;34m(\u001b[0m\u001b[0mX_val\u001b[0m\u001b[0;34m,\u001b[0m\u001b[0mkmeans\u001b[0m\u001b[0;34m.\u001b[0m\u001b[0mpredict\u001b[0m\u001b[0;34m(\u001b[0m\u001b[0mX_val\u001b[0m\u001b[0;34m)\u001b[0m\u001b[0;34m)\u001b[0m\u001b[0;34m\u001b[0m\u001b[0;34m\u001b[0m\u001b[0m\n\u001b[0m",
      "\u001b[0;32m<ipython-input-64-82a463604a1a>\u001b[0m in \u001b[0;36msilhouette\u001b[0;34m(X, y, distance)\u001b[0m\n\u001b[1;32m      8\u001b[0m         \u001b[0mB\u001b[0m \u001b[0;34m=\u001b[0m \u001b[0mX\u001b[0m\u001b[0;34m[\u001b[0m\u001b[0my\u001b[0m\u001b[0;34m!=\u001b[0m\u001b[0mlabel\u001b[0m\u001b[0;34m]\u001b[0m\u001b[0;34m\u001b[0m\u001b[0;34m\u001b[0m\u001b[0m\n\u001b[1;32m      9\u001b[0m         \u001b[0;32mif\u001b[0m \u001b[0mdistance\u001b[0m \u001b[0;34m==\u001b[0m \u001b[0;34m'l2'\u001b[0m\u001b[0;34m:\u001b[0m\u001b[0;34m\u001b[0m\u001b[0;34m\u001b[0m\u001b[0m\n\u001b[0;32m---> 10\u001b[0;31m             \u001b[0mai\u001b[0m \u001b[0;34m=\u001b[0m \u001b[0mnp\u001b[0m\u001b[0;34m.\u001b[0m\u001b[0msqrt\u001b[0m\u001b[0;34m(\u001b[0m\u001b[0mnp\u001b[0m\u001b[0;34m.\u001b[0m\u001b[0msum\u001b[0m\u001b[0;34m(\u001b[0m\u001b[0;34m(\u001b[0m\u001b[0mA\u001b[0m\u001b[0;34m[\u001b[0m\u001b[0;34m:\u001b[0m\u001b[0;34m,\u001b[0m\u001b[0;32mNone\u001b[0m\u001b[0;34m]\u001b[0m\u001b[0;34m-\u001b[0m\u001b[0mA\u001b[0m\u001b[0;34m)\u001b[0m\u001b[0;34m**\u001b[0m\u001b[0;36m2\u001b[0m\u001b[0;34m,\u001b[0m\u001b[0maxis\u001b[0m\u001b[0;34m=\u001b[0m\u001b[0;36m2\u001b[0m\u001b[0;34m)\u001b[0m\u001b[0;34m)\u001b[0m\u001b[0;34m.\u001b[0m\u001b[0mT\u001b[0m\u001b[0;34m\u001b[0m\u001b[0;34m\u001b[0m\u001b[0m\n\u001b[0m\u001b[1;32m     11\u001b[0m             \u001b[0mbi\u001b[0m \u001b[0;34m=\u001b[0m \u001b[0mnp\u001b[0m\u001b[0;34m.\u001b[0m\u001b[0msqrt\u001b[0m\u001b[0;34m(\u001b[0m\u001b[0mnp\u001b[0m\u001b[0;34m.\u001b[0m\u001b[0msum\u001b[0m\u001b[0;34m(\u001b[0m\u001b[0;34m(\u001b[0m\u001b[0mB\u001b[0m\u001b[0;34m[\u001b[0m\u001b[0;34m:\u001b[0m\u001b[0;34m,\u001b[0m\u001b[0;32mNone\u001b[0m\u001b[0;34m]\u001b[0m\u001b[0;34m-\u001b[0m\u001b[0mA\u001b[0m\u001b[0;34m)\u001b[0m\u001b[0;34m**\u001b[0m\u001b[0;36m2\u001b[0m\u001b[0;34m,\u001b[0m\u001b[0maxis\u001b[0m\u001b[0;34m=\u001b[0m\u001b[0;36m2\u001b[0m\u001b[0;34m)\u001b[0m\u001b[0;34m)\u001b[0m\u001b[0;34m.\u001b[0m\u001b[0mT\u001b[0m\u001b[0;34m\u001b[0m\u001b[0;34m\u001b[0m\u001b[0m\n\u001b[1;32m     12\u001b[0m             \u001b[0mprint\u001b[0m\u001b[0;34m(\u001b[0m\u001b[0mai\u001b[0m\u001b[0;34m.\u001b[0m\u001b[0mshape\u001b[0m\u001b[0;34m)\u001b[0m\u001b[0;34m\u001b[0m\u001b[0;34m\u001b[0m\u001b[0m\n",
      "\u001b[0;31mMemoryError\u001b[0m: Unable to allocate 213. GiB for an array with shape (6033, 6033, 784) and data type float64"
     ]
    }
   ],
   "source": [
    "silhouette(X_val,kmeans.predict(X_val))"
   ]
  },
  {
   "cell_type": "code",
   "execution_count": null,
   "metadata": {},
   "outputs": [],
   "source": []
  }
 ],
 "metadata": {
  "colab": {
   "name": "Clustering.ipynb",
   "provenance": []
  },
  "kernelspec": {
   "display_name": "env",
   "language": "python",
   "name": "env"
  },
  "language_info": {
   "codemirror_mode": {
    "name": "ipython",
    "version": 3
   },
   "file_extension": ".py",
   "mimetype": "text/x-python",
   "name": "python",
   "nbconvert_exporter": "python",
   "pygments_lexer": "ipython3",
   "version": "3.7.4"
  }
 },
 "nbformat": 4,
 "nbformat_minor": 1
}
