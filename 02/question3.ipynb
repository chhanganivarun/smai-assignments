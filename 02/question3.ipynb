{
 "cells": [
  {
   "cell_type": "markdown",
   "metadata": {},
   "source": [
    "\n",
    "1. You are provided the titanic dataset. Load the dataset and perform splitting into training and test sets with 70:30 ratio randomly using test train split.\n",
    "2. Use the Logistic regression created from scratch (from the prev question) in this question as well.\n",
    "3. Data cleaning plays a major role in this question. Report all the methods used by you in the ipynb.\n",
    "\n",
    "--> \n",
    "\n",
    "i. Check for missing values\n",
    "\n",
    "ii. Drop Columns & Handle missing values\n",
    "\n",
    "iii. Create dummies for categorical features\n",
    "\n",
    "you are free to perform other data cleaning to improve your results.\n",
    "\n",
    "\n",
    "\n",
    "4. Report accuracy score, Confusion matrix, heat map, classifiaction report and any other metrics you feel useful."
   ]
  },
  {
   "cell_type": "markdown",
   "metadata": {},
   "source": [
    "dataset link : \n",
    "https://iiitaphyd-my.sharepoint.com/:f:/g/personal/apurva_jadhav_students_iiit_ac_in/Eictt5_qmoxNqezgQQiMWeIBph4sxlfA6jWAJNPnV2SF9Q?e=mQmYN0 \n",
    "\n",
    "(titanic.csv)\n"
   ]
  },
  {
   "cell_type": "code",
   "execution_count": null,
   "metadata": {},
   "outputs": [],
   "source": []
  }
 ],
 "metadata": {
  "kernelspec": {
   "display_name": "Python 3",
   "language": "python",
   "name": "python3"
  },
  "language_info": {
   "codemirror_mode": {
    "name": "ipython",
    "version": 3
   },
   "file_extension": ".py",
   "mimetype": "text/x-python",
   "name": "python",
   "nbconvert_exporter": "python",
   "pygments_lexer": "ipython3",
   "version": "3.7.6"
  }
 },
 "nbformat": 4,
 "nbformat_minor": 4
}
