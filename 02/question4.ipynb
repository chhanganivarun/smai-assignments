{
 "cells": [
  {
   "cell_type": "markdown",
   "metadata": {},
   "source": [
    "# Support Vector Machines\n",
    "\n",
    "In this section of the assignment, you will get to implement Support Vector Machines which are among the best (and many believe are indeed the best)“off-the-shelf” supervised learning algorithm.\n",
    "\n",
    "This section is further divided into 3 subsections.\n",
    "\n",
    "\n",
    "*   In the first subsection, you will work on a synthetic dataset and visualize the boundary predicted by SVM. You will also vary the value of C-parameter and see how the decision boundary changes. **Please note that you cannot use inbuilt sklearn function for SVM in this sub-section**. You can only use a QCQP (Quadratically Constrained Quadratic Program) solver like CVXPY. \n",
    "\n",
    "  References which you may find helpful for this subsection: \n",
    "  \n",
    "  1.   https://www.cvxpy.org/\n",
    "  2.   https://www.cvxpy.org/examples/basic/quadratic_program.html\n",
    "\n",
    "  Note that in this section you are expected to show how you derived the Quadratically Constrained form(which can be passed into the solver) from the basic principles of SVM algorithm\n",
    "*  In the next subsection you will use be using the famous MNIST dataset to explore various kernels and report the results. **Please note you may use inbuilt sklearn SVM functions in this subsection**\n"
   ]
  },
  {
   "cell_type": "code",
   "execution_count": null,
   "metadata": {},
   "outputs": [],
   "source": [
    "!pip install numpy\n",
    "!pip install matplotlib\n",
    "!pip install cvxpy\n",
    "import numpy as np\n",
    "import cvxpy as cp\n",
    "import matplotlib.pyplot as plt"
   ]
  },
  {
   "cell_type": "markdown",
   "metadata": {},
   "source": [
    "### Subsection 1"
   ]
  },
  {
   "cell_type": "code",
   "execution_count": null,
   "metadata": {},
   "outputs": [],
   "source": [
    "# Feel free to use this helper function to visualize 2D points X with labels +1 or -1\n",
    "def plot_points(X, Y):\n",
    "    reds = []\n",
    "    blues = []\n",
    "    for i in range(Y.shape[0]):\n",
    "        if Y[i] == 1:\n",
    "            reds.append(X[i])\n",
    "        else:\n",
    "            blues.append(X[i])\n",
    "    reds = np.array(reds)\n",
    "    blues = np.array(blues)\n",
    "    plt.scatter(reds[:, 0], reds[:, 1], c = 'r')\n",
    "    plt.scatter(blues[:, 0], blues[:, 1], c = 'b')"
   ]
  },
  {
   "cell_type": "code",
   "execution_count": null,
   "metadata": {},
   "outputs": [],
   "source": [
    "# Create Synthetic Data and visualize the points\n",
    "X = np.array([[-3.5, -1], [-3, 0], [-3, 1], [-2.7, -1.3], [-2, -1], [-2, -2.7], \n",
    "              [-1, -2.5], [0, -3], [-1.1, 0], [0, 2.5], [1, 2], [0.7, 4], \n",
    "              [2.1, 0.2], [2.3, 1], [2.8, 1.8], [2.2, 2.8]])\n",
    "y = np.array([1, 1, 1, 1, 1, 1, 1, 1, -1, -1, -1, -1, -1, -1, -1, -1])\n",
    "\n",
    "plot_points(X, y)\n",
    "plt.show()"
   ]
  },
  {
   "cell_type": "markdown",
   "metadata": {},
   "source": [
    "In the next cell you are required to derive the Quadratic Constrained Quadratic form of SVM **without soft constraints** from the basic principles. Start with the idea that SVM tries to maximize the margin and then derive the form which you can feed to the solver.\n",
    "\n",
    "Please print the values of w, b. \n",
    "\n",
    "**Note: You are also required to upload a page of the derivation. You may also type it in markdown here**\n",
    "\n",
    "**Note: You cannot use sklearn SVM functions here**"
   ]
  },
  {
   "cell_type": "code",
   "execution_count": null,
   "metadata": {},
   "outputs": [],
   "source": [
    "# Write your code here"
   ]
  },
  {
   "cell_type": "markdown",
   "metadata": {},
   "source": [
    "In the next cell you are required to visualize the boundary predicted by the solver. You may want to revise up on how to plot the a line given w, b. Please plot w vector as well as the margin lines\n",
    "\n",
    "You may want to create a function to plot the line of separation as you would require this frequently in the subsequent parts of the assignment."
   ]
  },
  {
   "cell_type": "code",
   "execution_count": null,
   "metadata": {},
   "outputs": [],
   "source": [
    "# Write your code here"
   ]
  },
  {
   "cell_type": "markdown",
   "metadata": {},
   "source": [
    "In the next cell please plot only the support vectors along with the boundary, w vector, and margins. \n",
    "\n",
    "**Note: You are not supposed to hard-code the points here**"
   ]
  },
  {
   "cell_type": "code",
   "execution_count": null,
   "metadata": {},
   "outputs": [],
   "source": [
    "# Write your code here"
   ]
  },
  {
   "cell_type": "markdown",
   "metadata": {},
   "source": [
    "In the next cell add the following points:\n",
    "* (-4, -10) with label 1\n",
    "* (4, 4) with label -1\n",
    "\n",
    "Is the decision boundary changed after adding the points? Explain your observations theoretically."
   ]
  },
  {
   "cell_type": "code",
   "execution_count": null,
   "metadata": {},
   "outputs": [],
   "source": [
    "# Re-create the Synthetic Data by adding the points and visualize the points"
   ]
  },
  {
   "cell_type": "code",
   "execution_count": null,
   "metadata": {},
   "outputs": [],
   "source": [
    "# Solve for the decision boundary using this modified dataset"
   ]
  },
  {
   "cell_type": "markdown",
   "metadata": {},
   "source": [
    "In the next cell you are required to modify your framing of optimisation problem to incorporate soft constraints also known as slack. Plot the decision boundary, w and margin lines for various values of C: $0.01$, $0.1$, $3$, $10$, $100$.\n",
    "\n",
    "Explain your results theoretically. How does the boundary change with varying values of C? Why?\n",
    "\n",
    "**Note: Use the modified X and y i.e after adding points in previous cell**"
   ]
  },
  {
   "cell_type": "code",
   "execution_count": null,
   "metadata": {},
   "outputs": [],
   "source": [
    "# Write your code here for C= 0.01"
   ]
  },
  {
   "cell_type": "code",
   "execution_count": null,
   "metadata": {},
   "outputs": [],
   "source": [
    "# Write your code here for C= 0.1"
   ]
  },
  {
   "cell_type": "code",
   "execution_count": null,
   "metadata": {},
   "outputs": [],
   "source": [
    "# Write your code here for C= 3"
   ]
  },
  {
   "cell_type": "code",
   "execution_count": null,
   "metadata": {},
   "outputs": [],
   "source": [
    "# Write your code here for C= 10"
   ]
  },
  {
   "cell_type": "code",
   "execution_count": null,
   "metadata": {},
   "outputs": [],
   "source": [
    "# Write your code here for C= 100"
   ]
  },
  {
   "cell_type": "markdown",
   "metadata": {},
   "source": [
    "Take the case of C = 100 and remove the support vectors. Does the boundary change after the deletion?\n",
    "Explain why? Show your results by appropriate plots?"
   ]
  },
  {
   "cell_type": "code",
   "execution_count": null,
   "metadata": {},
   "outputs": [],
   "source": [
    "# Write your Code here"
   ]
  },
  {
   "cell_type": "markdown",
   "metadata": {},
   "source": [
    "### Subsection 2"
   ]
  },
  {
   "cell_type": "code",
   "execution_count": null,
   "metadata": {},
   "outputs": [],
   "source": [
    "!pip install python-mnist\n",
    "!rm -rf samples\n",
    "!mkdir samples\n",
    "!wget http://yann.lecun.com/exdb/mnist/train-images-idx3-ubyte.gz -P samples/\n",
    "!gunzip samples/train-images-idx3-ubyte.gz\n",
    "!wget http://yann.lecun.com/exdb/mnist/train-labels-idx1-ubyte.gz -P samples/\n",
    "!gunzip samples/train-labels-idx1-ubyte.gz\n",
    "!wget http://yann.lecun.com/exdb/mnist/t10k-images-idx3-ubyte.gz -P samples/\n",
    "!gunzip samples/t10k-images-idx3-ubyte.gz\n",
    "!wget http://yann.lecun.com/exdb/mnist/t10k-labels-idx1-ubyte.gz -P samples/\n",
    "!gunzip samples/t10k-labels-idx1-ubyte.gz"
   ]
  },
  {
   "cell_type": "code",
   "execution_count": null,
   "metadata": {},
   "outputs": [],
   "source": [
    "# Import Relevant Packages\n",
    "from sklearn.svm import SVC\n",
    "import numpy as np\n",
    "from mnist.loader import MNIST"
   ]
  },
  {
   "cell_type": "code",
   "execution_count": null,
   "metadata": {},
   "outputs": [],
   "source": [
    "mndata = MNIST('samples')\n",
    "\n",
    "# Load training dataset\n",
    "images, labels = mndata.load_training()\n",
    "l = len(labels)\n",
    "images_train = np.array(images)\n",
    "labels_train = np.array(labels)\n",
    "\n",
    "print(images_train.shape)\n",
    "print(labels_train.shape)"
   ]
  },
  {
   "cell_type": "code",
   "execution_count": null,
   "metadata": {},
   "outputs": [],
   "source": [
    "# Load testing dataset\n",
    "images, labels = mndata.load_testing()\n",
    "l = len(labels)\n",
    "images_test = np.array(images)\n",
    "labels_test = np.array(labels)\n",
    "\n",
    "print(images_test.shape)\n",
    "print(labels_test.shape)"
   ]
  },
  {
   "cell_type": "markdown",
   "metadata": {},
   "source": [
    "- Tweak different parameters like the C Parameter and gamma parameter of the Linear SVM and report the results.\n",
    "- Experiment different kernels for classification and report the results.\n",
    "\n",
    "Report accuracy score, F1-score, Confusion matrix and any other metrics you feel useful."
   ]
  },
  {
   "cell_type": "code",
   "execution_count": null,
   "metadata": {},
   "outputs": [],
   "source": []
  }
 ],
 "metadata": {
  "kernelspec": {
   "display_name": "Python 3",
   "language": "python",
   "name": "python3"
  },
  "language_info": {
   "codemirror_mode": {
    "name": "ipython",
    "version": 3
   },
   "file_extension": ".py",
   "mimetype": "text/x-python",
   "name": "python",
   "nbconvert_exporter": "python",
   "pygments_lexer": "ipython3",
   "version": "3.8.3"
  }
 },
 "nbformat": 4,
 "nbformat_minor": 4
}
