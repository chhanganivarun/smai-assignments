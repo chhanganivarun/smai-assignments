{
 "cells": [
  {
   "cell_type": "code",
   "execution_count": 1,
   "metadata": {},
   "outputs": [],
   "source": [
    "import codecs\n",
    "import errno\n",
    "import matplotlib.pyplot as plt\n",
    "import numpy as np\n",
    "import os\n",
    "from PIL import Image\n",
    "import random\n",
    "import torch\n",
    "from torch import nn\n",
    "from torch import optim\n",
    "import torch.nn.functional as F\n",
    "import torchvision.datasets.mnist\n",
    "from torchvision import transforms\n",
    "from tqdm import tqdm"
   ]
  },
  {
   "cell_type": "code",
   "execution_count": 2,
   "metadata": {},
   "outputs": [],
   "source": [
    "device = torch.device('cuda' if torch.cuda.is_available() else 'cpu')"
   ]
  },
  {
   "cell_type": "code",
   "execution_count": 3,
   "metadata": {},
   "outputs": [],
   "source": [
    "def get_int(b):\n",
    "    return int(codecs.encode(b, 'hex'), 16)"
   ]
  },
  {
   "cell_type": "code",
   "execution_count": 4,
   "metadata": {},
   "outputs": [],
   "source": [
    "def read_label_file(path):\n",
    "    with open(path, 'rb') as f:\n",
    "        data = f.read()\n",
    "    assert get_int(data[:4]) == 2049\n",
    "    length = get_int(data[4:8])\n",
    "    parsed = np.frombuffer(data, dtype=np.uint8, offset=8)\n",
    "    return torch.from_numpy(parsed).view(length).long()"
   ]
  },
  {
   "cell_type": "code",
   "execution_count": 5,
   "metadata": {},
   "outputs": [],
   "source": [
    "def read_image_file(path):\n",
    "    with open(path, 'rb') as f:\n",
    "        data = f.read()\n",
    "    assert get_int(data[:4]) == 2051\n",
    "    length = get_int(data[4:8])\n",
    "    num_rows = get_int(data[8:12])\n",
    "    num_cols = get_int(data[12:16])\n",
    "    images = []\n",
    "    parsed = np.frombuffer(data, dtype=np.uint8, offset=16)\n",
    "    return torch.from_numpy(parsed).view(length, num_rows, num_cols)"
   ]
  },
  {
   "cell_type": "code",
   "execution_count": 6,
   "metadata": {},
   "outputs": [],
   "source": [
    "class MNISTPairs(torch.utils.data.Dataset):\n",
    "    raw_folder = 'MNIST/raw'\n",
    "    processed_folder = 'MNIST/processed'\n",
    "    training_file = 'training.pt'\n",
    "    test_file = 'test.pt'\n",
    "\n",
    "    def __init__(self, root, train=True, transform=None, target_transform=None):\n",
    "        self.root = os.path.expanduser(root)\n",
    "        self.transform = transform\n",
    "        self.target_transform = target_transform\n",
    "        self.train = train # training set or test set\n",
    "\n",
    "        if self.train:\n",
    "            self.train_data, self.train_labels = torch.load(\n",
    "                os.path.join(self.root, self.processed_folder, self.training_file))\n",
    "\n",
    "            train_labels_class = []\n",
    "            train_data_class = []\n",
    "            for i in range(10):\n",
    "                indices = torch.squeeze((self.train_labels == i).nonzero())\n",
    "                train_labels_class.append(torch.index_select(self.train_labels, 0, indices))\n",
    "                train_data_class.append(torch.index_select(self.train_data, 0, indices))\n",
    "\n",
    "            # generate balanced pairs\n",
    "            self.train_data = []\n",
    "            self.train_labels = []\n",
    "            lengths = [x.shape[0] for x in train_labels_class]\n",
    "            for i in range(10):\n",
    "                for j in range(500): # create 500 pairs\n",
    "                    rnd_cls = random.randint(0,8) # choose random class that is not the same class\n",
    "                    if rnd_cls >= i:\n",
    "                        rnd_cls = rnd_cls + 1\n",
    "\n",
    "                    rnd_dist = random.randint(0, 100)\n",
    "\n",
    "                    self.train_data.append(torch.stack([train_data_class[i][j], train_data_class[i][j+rnd_dist], train_data_class[rnd_cls][j]]))\n",
    "                    self.train_labels.append([1,0])\n",
    "\n",
    "            self.train_data = torch.stack(self.train_data)\n",
    "            self.train_labels = torch.tensor(self.train_labels)\n",
    "\n",
    "        else:\n",
    "            self.test_data, self.test_labels = torch.load(\n",
    "                os.path.join(self.root, self.processed_folder, self.test_file))\n",
    "\n",
    "            test_labels_class = []\n",
    "            test_data_class = []\n",
    "            for i in range(10):\n",
    "                indices = torch.squeeze((self.test_labels == i).nonzero())\n",
    "                test_labels_class.append(torch.index_select(self.test_labels, 0, indices))\n",
    "                test_data_class.append(torch.index_select(self.test_data, 0, indices))\n",
    "\n",
    "            # generate balanced pairs\n",
    "            self.test_data = []\n",
    "            self.test_labels = []\n",
    "            lengths = [x.shape[0] for x in test_labels_class]\n",
    "            for i in range(10):\n",
    "                for j in range(500): # create 500 pairs\n",
    "                    rnd_cls = random.randint(0,8) # choose random class that is not the same class\n",
    "                    if rnd_cls >= i:\n",
    "                        rnd_cls = rnd_cls + 1\n",
    "\n",
    "                    rnd_dist = random.randint(0, 100)\n",
    "\n",
    "                    self.test_data.append(torch.stack([test_data_class[i][j], test_data_class[i][j+rnd_dist], test_data_class[rnd_cls][j]]))\n",
    "                    self.test_labels.append([1,0])\n",
    "\n",
    "            self.test_data = torch.stack(self.test_data)\n",
    "            self.test_labels = torch.tensor(self.test_labels)\n",
    "\n",
    "    def __getitem__(self, index):\n",
    "        if self.train:\n",
    "            imgs, target = self.train_data[index], self.train_labels[index]\n",
    "        else:\n",
    "            imgs, target = self.test_data[index], self.test_labels[index]\n",
    "\n",
    "        img_ar = []\n",
    "        for i in range(len(imgs)):\n",
    "            img = Image.fromarray(imgs[i].numpy(), mode='L')\n",
    "            if self.transform is not None:\n",
    "                img = self.transform(img)\n",
    "            img_ar.append(img)\n",
    "\n",
    "        if self.target_transform is not None:\n",
    "            target = self.target_transform(target)\n",
    "\n",
    "        return img_ar, target\n",
    "\n",
    "    def __len__(self):\n",
    "        if self.train:\n",
    "            return len(self.train_data)\n",
    "        else:\n",
    "            return len(self.test_data)"
   ]
  },
  {
   "cell_type": "code",
   "execution_count": 69,
   "metadata": {},
   "outputs": [],
   "source": [
    "class DiffNet(nn.Module):\n",
    "    def __init__(self):\n",
    "        super().__init__()\n",
    "\n",
    "        self.linear = nn.Linear(512, 2)\n",
    "    def forward(self, emb1, emb2):\n",
    "        res = torch.abs(emb2 - emb1)\n",
    "        res = self.linear(res)\n",
    "        return res"
   ]
  },
  {
   "cell_type": "code",
   "execution_count": 75,
   "metadata": {},
   "outputs": [],
   "source": [
    "class Net(nn.Module):\n",
    "    def __init__(self,diffnet):\n",
    "        super(Net,self).__init__()\n",
    "        self.diffnet = diffnet\n",
    "        self.conv1 = nn.Conv2d(1, 64, 7)\n",
    "        self.pool1 = nn.MaxPool2d(2)\n",
    "        self.conv2 = nn.Conv2d(64, 128, 5)\n",
    "        self.conv3 = nn.Conv2d(128, 256, 5)\n",
    "        self.linear1 = nn.Linear(2304, 512)\n",
    "        self.linear2 = nn.Linear(512, 512)\n",
    "    def get_embedding(self, x):\n",
    "        x = self.conv1(x)\n",
    "        x = F.relu(x)\n",
    "        x = self.pool1(x)\n",
    "        x = self.conv2(x)\n",
    "        x = F.relu(x)\n",
    "        x = self.conv3(x)\n",
    "        x = F.relu(x)\n",
    "\n",
    "        x = x.view(x.shape[0], -1)\n",
    "        x = F.relu(self.linear1(x))\n",
    "        x = self.linear2(x)\n",
    "        x = F.relu(x)\n",
    "        return x\n",
    "    def forward_from_embedding(self, emb1, emb2):\n",
    "        res = self.diffnet(emb1,emb2)\n",
    "        return res\n",
    "\n",
    "    def forward(self, data):\n",
    "        res = []\n",
    "        for i in range(2): # Siamese nets; sharing weights\n",
    "            x = data[i]\n",
    "            x = self.conv1(x)\n",
    "            x = F.relu(x)\n",
    "            x = self.pool1(x)\n",
    "            x = self.conv2(x)\n",
    "            x = F.relu(x)\n",
    "            x = self.conv3(x)\n",
    "            x = F.relu(x)\n",
    "\n",
    "            x = x.view(x.shape[0], -1)\n",
    "            x = F.relu(self.linear1(x))\n",
    "            x = self.linear2(x)\n",
    "            x = F.relu(x)\n",
    "            res.append(x)\n",
    "\n",
    "        res = self.diffnet(res[0],res[1])\n",
    "        return res\n",
    "   "
   ]
  },
  {
   "cell_type": "code",
   "execution_count": 41,
   "metadata": {},
   "outputs": [],
   "source": [
    "class ContrastiveLoss(torch.nn.Module):\n",
    "    \"\"\"\n",
    "    Contrastive loss function.\n",
    "    Based on: http://yann.lecun.com/exdb/publis/pdf/hadsell-chopra-lecun-06.pdf\n",
    "    \"\"\"\n",
    "\n",
    "    def __init__(self, margin=2.0):\n",
    "        super(ContrastiveLoss, self).__init__()\n",
    "        self.margin = margin\n",
    "\n",
    "    def forward_dist_label(self, dist, label):\n",
    "        loss = torch.mean(1/2*(label) * torch.pow(dist, 2) +\n",
    "                                      1/2*(1-label) * torch.pow(torch.clamp(self.margin - dist, min=0.0), 2))\n",
    "\n",
    "\n",
    "        return loss\n",
    "    def forward(self, anchor, positive, negative, op_p, op_n, t_p, t_n):\n",
    "        dist1 = F.pairwise_distance(anchor,positive)\n",
    "#         dist1 = (anchor - positive).pow(2).sum(1)\n",
    "        label1 = t_p\n",
    "        \n",
    "        dist2 = F.pairwise_distance(anchor,negative)\n",
    "#         dist2 = (anchor - negative).pow(2).sum(1)\n",
    "        label2 = t_n\n",
    "        \n",
    "        loss = self.forward_dist_label(dist1,label1) + self.forward_dist_label(dist2,label2)\n",
    "        return loss"
   ]
  },
  {
   "cell_type": "code",
   "execution_count": 42,
   "metadata": {},
   "outputs": [],
   "source": [
    "class TripletLoss(torch.nn.Module):\n",
    "    \"\"\"\n",
    "    Triplet loss function.\n",
    "    \"\"\"\n",
    "\n",
    "    def __init__(self, margin=2.0):\n",
    "        super(TripletLoss, self).__init__()\n",
    "        self.margin = margin\n",
    "\n",
    "    def forward(self, anchor, positive, negative, op_p, op_n, t_p, t_n):\n",
    "\n",
    "#         squarred_distance_1 = torch.norm(anchor-positive,dim=1)\n",
    "        \n",
    "#         squarred_distance_2 = torch.norm(anchor-negative,dim=1)\n",
    "\n",
    "        squarred_distance_1 = (anchor - positive).pow(2).sum(1)\n",
    "        \n",
    "        squarred_distance_2 = (anchor - negative).pow(2).sum(1)\n",
    "        \n",
    "        triplet_loss = F.relu( self.margin + squarred_distance_1 - squarred_distance_2 ).mean()\n",
    "        \n",
    "        return triplet_loss"
   ]
  },
  {
   "cell_type": "code",
   "execution_count": 43,
   "metadata": {},
   "outputs": [],
   "source": [
    "class CrossEntLoss(torch.nn.Module):\n",
    "    \"\"\"\n",
    "    Cross Entropy loss function.\n",
    "    \"\"\"\n",
    "\n",
    "    def __init__(self):\n",
    "        super(CrossEntLoss, self).__init__()\n",
    "\n",
    "    def forward(self, anchor, positive, negative, op_p, op_n, t_p, t_n):\n",
    "\n",
    "        loss_positive = F.cross_entropy(op_p, t_p)\n",
    "        loss_negative = F.cross_entropy(op_n, t_n)\n",
    "        loss = loss_positive + loss_negative\n",
    "        \n",
    "        return loss"
   ]
  },
  {
   "cell_type": "code",
   "execution_count": 78,
   "metadata": {},
   "outputs": [],
   "source": [
    "def train(model, diffnet, device, train_loader, epoch, optimizer, optimizer2, loss_fn):\n",
    "    model.train()\n",
    "    diffnet.train()\n",
    "    curr_loss = 0\n",
    "    for batch_idx, (data, target) in enumerate(train_loader):\n",
    "        for i in range(len(data)):\n",
    "            data[i] = data[i].to(device)\n",
    "        \n",
    "        optimizer.zero_grad()\n",
    "        embedding_anchor = model.get_embedding(data[0])\n",
    "        embedding_positive = model.get_embedding(data[1])\n",
    "        embedding_negative = model.get_embedding(data[2])\n",
    "        \n",
    "        output_positive = diffnet(embedding_anchor, embedding_positive)\n",
    "        output_negative = diffnet(embedding_anchor, embedding_negative)\n",
    "#         output_positive = model([data[0], data[1]])\n",
    "#         output_negative = model([data[0], data[2]])\n",
    "\n",
    "        target = target.type(torch.LongTensor).to(device)\n",
    "        target_positive = torch.squeeze(target[:,0])\n",
    "        target_negative = torch.squeeze(target[:,1])\n",
    "\n",
    "#         loss_positive = F.cross_entropy(output_positive, target_positive)\n",
    "#         loss_negative = F.cross_entropy(output_negative, target_negative)\n",
    "#         loss = loss_positive + loss_negative\n",
    "        \n",
    "        loss = loss_fn(embedding_anchor,embedding_positive,embedding_negative,\n",
    "                       output_positive,output_negative, target_positive, target_negative)\n",
    "\n",
    "\n",
    "        \n",
    "        loss.backward()\n",
    "        optimizer.step()\n",
    "        \n",
    "        optimizer2.zero_grad()\n",
    "        output_positive = diffnet(embedding_anchor.data,embedding_positive.data)\n",
    "        output_negative = diffnet(embedding_anchor.data,embedding_negative.data)\n",
    "        loss2 = F.cross_entropy(output_positive, target_positive) + F.cross_entropy(output_negative, target_negative)\n",
    "        loss2.backward()\n",
    "        optimizer2.step()\n",
    "        \n",
    "        \n",
    "        \n",
    "        \n",
    "        curr_loss += loss.item()\n",
    "        \n",
    "        print('\\rTrain Epoch: {} [{}/{} ({:.0f}%)]\\tLoss: {:.6f}'.format(\n",
    "                epoch, (batch_idx+1)*batch_size, len(train_loader.dataset), 100. * (batch_idx+1)*batch_size / len(train_loader.dataset),\n",
    "                curr_loss*1.0/((batch_idx+1)*batch_size)),end='\\t\\t\\t')\n",
    "    print('')"
   ]
  },
  {
   "cell_type": "code",
   "execution_count": 81,
   "metadata": {},
   "outputs": [],
   "source": [
    "def test(model, diffnet, device, test_loader, loss_fn):\n",
    "    model.eval()\n",
    "    \n",
    "    with torch.no_grad():\n",
    "        accurate_labels = 0\n",
    "        all_labels = 0\n",
    "        loss = 0\n",
    "        for batch_idx, (data, target) in enumerate(test_loader):\n",
    "            for i in range(len(data)):\n",
    "                data[i] = data[i].to(device)\n",
    "            \n",
    "            embedding_anchor = model.get_embedding(data[0])\n",
    "            embedding_positive = model.get_embedding(data[1])\n",
    "            embedding_negative = model.get_embedding(data[2])\n",
    "\n",
    "            output_positive = diffnet(embedding_anchor, embedding_positive)\n",
    "            output_negative = diffnet(embedding_anchor, embedding_negative)\n",
    "#             output_positive = model([data[0], data[1]])\n",
    "#             output_negative = model([data[0], data[2]])\n",
    "\n",
    "            target = target.type(torch.LongTensor).to(device)\n",
    "            target_positive = torch.squeeze(target[:,0])\n",
    "            target_negative = torch.squeeze(target[:,1])\n",
    "\n",
    "#             loss_positive = F.cross_entropy(output_positive, target_positive)\n",
    "#             loss_negative = F.cross_entropy(output_negative, target_negative)\n",
    "\n",
    "#             loss += loss_positive + loss_negative\n",
    "\n",
    "            loss += loss_fn(embedding_anchor,embedding_positive,embedding_negative,\n",
    "                           output_positive, output_negative, target_positive, target_negative)\n",
    "    \n",
    "            accurate_labels_positive = torch.sum(torch.argmax(output_positive, dim=1) == target_positive).cpu()\n",
    "            accurate_labels_negative = torch.sum(torch.argmax(output_negative, dim=1) == target_negative).cpu()\n",
    "\n",
    "            accurate_labels = accurate_labels + accurate_labels_positive + accurate_labels_negative\n",
    "            all_labels = all_labels + len(target_positive) + len(target_negative)\n",
    "\n",
    "        accuracy = 100. * accurate_labels / all_labels\n",
    "        print('Test accuracy: {}/{} ({:.3f}%)\\tLoss: {:.6f}'.format(accurate_labels, all_labels, accuracy, loss/all_labels))\n",
    "#         print('Test Loss: {:.6f}'.format(loss/all_labels))\n",
    "   "
   ]
  },
  {
   "cell_type": "code",
   "execution_count": 96,
   "metadata": {},
   "outputs": [],
   "source": [
    "def oneshot(model, diffnet, device, data):\n",
    "    model.eval()\n",
    "    diffnet.eval()\n",
    "    with torch.no_grad():\n",
    "        for i in range(len(data)):\n",
    "            data[i] = data[i].to(device)\n",
    "        out1 = model.get_embedding(data[0])\n",
    "        out2 = model.get_embedding(data[1])\n",
    "        output = diffnet(out1,out2)\n",
    "        return torch.squeeze(torch.argmax(output, dim=1)).cpu().item()"
   ]
  },
  {
   "cell_type": "code",
   "execution_count": 65,
   "metadata": {},
   "outputs": [],
   "source": [
    "batch_size = 20\n"
   ]
  },
  {
   "cell_type": "code",
   "execution_count": 66,
   "metadata": {
    "scrolled": true
   },
   "outputs": [],
   "source": [
    "device = torch.device('cuda' if torch.cuda.is_available() else 'cpu')\n",
    "trans = transforms.Compose([transforms.ToTensor(), transforms.Normalize((0.5,), (1.0,))])"
   ]
  },
  {
   "cell_type": "code",
   "execution_count": 67,
   "metadata": {},
   "outputs": [],
   "source": [
    "train_loader = torch.utils.data.DataLoader(MNISTPairs('~/.pytorch/MNIST/', train=True, transform=trans), batch_size=batch_size, shuffle=True)\n",
    "test_loader = torch.utils.data.DataLoader(MNISTPairs('~/.pytorch/MNIST/', train=False, transform=trans), batch_size=batch_size, shuffle=False)"
   ]
  },
  {
   "cell_type": "markdown",
   "metadata": {},
   "source": [
    "### Contrastive Loss"
   ]
  },
  {
   "cell_type": "code",
   "execution_count": 84,
   "metadata": {},
   "outputs": [
    {
     "name": "stdout",
     "output_type": "stream",
     "text": [
      "Train Epoch: 0 [5000/5000 (100%)]\tLoss: 0.022719\t\t\t\n",
      "Test accuracy: 9197/10000 (91.970%)\tLoss: 0.007307\n",
      "Train Epoch: 1 [5000/5000 (100%)]\tLoss: 0.008628\t\t\t\n",
      "Test accuracy: 9575/10000 (95.750%)\tLoss: 0.004752\n",
      "Train Epoch: 2 [5000/5000 (100%)]\tLoss: 0.004560\t\t\t\n",
      "Test accuracy: 9594/10000 (95.940%)\tLoss: 0.003922\n",
      "Train Epoch: 3 [5000/5000 (100%)]\tLoss: 0.002469\t\t\t\t\t\t\t\t\n",
      "Test accuracy: 9602/10000 (96.020%)\tLoss: 0.003743\n",
      "Train Epoch: 4 [5000/5000 (100%)]\tLoss: 0.001510\t\t\t\n",
      "Test accuracy: 9673/10000 (96.730%)\tLoss: 0.003177\n",
      "Train Epoch: 5 [5000/5000 (100%)]\tLoss: 0.001123\t\t\t\n",
      "Test accuracy: 9670/10000 (96.700%)\tLoss: 0.002798\n",
      "Train Epoch: 6 [5000/5000 (100%)]\tLoss: 0.000814\t\t\t\t\t\n",
      "Test accuracy: 9727/10000 (97.270%)\tLoss: 0.002393\n",
      "Train Epoch: 7 [5000/5000 (100%)]\tLoss: 0.000705\t\t\t\t\n",
      "Test accuracy: 9574/10000 (95.740%)\tLoss: 0.003858\n",
      "Train Epoch: 8 [5000/5000 (100%)]\tLoss: 0.001108\t\t\t\t\t\t\n",
      "Test accuracy: 9629/10000 (96.290%)\tLoss: 0.003662\n",
      "Train Epoch: 9 [5000/5000 (100%)]\tLoss: 0.000854\t\t\t\t\t\n",
      "Test accuracy: 9705/10000 (97.050%)\tLoss: 0.002688\n"
     ]
    }
   ],
   "source": [
    "# embedding_net = EmbeddingNet().to(device)\n",
    "diffnet = DiffNet().to(device)\n",
    "model = Net(diffnet).to(device)\n",
    "\n",
    "lr = 0.001\n",
    "num_epochs = 10\n",
    "weight_decay = 1e-6\n",
    "\n",
    "optimizer = optim.Adam(model.parameters(), lr=lr, weight_decay=weight_decay)\n",
    "optim2 = optim.Adam(diffnet.parameters(), lr=0.01, weight_decay=weight_decay)\n",
    "loss_fn = ContrastiveLoss()\n",
    "for epoch in range(num_epochs):\n",
    "    train(model, diffnet, device, train_loader, epoch, optimizer, optim2,loss_fn)\n",
    "    test(model, diffnet, device, test_loader,loss_fn)"
   ]
  },
  {
   "cell_type": "code",
   "execution_count": 99,
   "metadata": {},
   "outputs": [
    {
     "name": "stdout",
     "output_type": "stream",
     "text": [
      "Train Epoch: 0 [5000/5000 (100%)]\tLoss: 10.101742\t\t\t\n",
      "Test accuracy: 5826/10000 (58.260%)\tLoss: 0.026652\n",
      "Train Epoch: 1 [5000/5000 (100%)]\tLoss: 0.051721\t\t\t\n",
      "Test accuracy: 6167/10000 (61.670%)\tLoss: 0.024067\n",
      "Train Epoch: 2 [5000/5000 (100%)]\tLoss: 0.043309\t\t\t\n",
      "Test accuracy: 6711/10000 (67.110%)\tLoss: 0.019698\n",
      "Train Epoch: 3 [5000/5000 (100%)]\tLoss: 0.035721\t\t\t\n",
      "Test accuracy: 7722/10000 (77.220%)\tLoss: 0.015684\n",
      "Train Epoch: 4 [5000/5000 (100%)]\tLoss: 0.027921\t\t\t\n",
      "Test accuracy: 8065/10000 (80.650%)\tLoss: 0.013545\n",
      "Train Epoch: 5 [5000/5000 (100%)]\tLoss: 0.024074\t\t\t\n",
      "Test accuracy: 8445/10000 (84.450%)\tLoss: 0.012242\n",
      "Train Epoch: 6 [5000/5000 (100%)]\tLoss: 0.018997\t\t\t\n",
      "Test accuracy: 8821/10000 (88.210%)\tLoss: 0.009812\n",
      "Train Epoch: 7 [5000/5000 (100%)]\tLoss: 0.013971\t\t\t\n",
      "Test accuracy: 9027/10000 (90.270%)\tLoss: 0.008740\n",
      "Train Epoch: 8 [5000/5000 (100%)]\tLoss: 0.009617\t\t\t\n",
      "Test accuracy: 9142/10000 (91.420%)\tLoss: 0.007081\n",
      "Train Epoch: 9 [5000/5000 (100%)]\tLoss: 0.006249\t\t\t\n",
      "Test accuracy: 9163/10000 (91.630%)\tLoss: 0.006438\n",
      "Train Epoch: 10 [5000/5000 (100%)]\tLoss: 0.004311\t\t\t\n",
      "Test accuracy: 9571/10000 (95.710%)\tLoss: 0.004259\n",
      "Train Epoch: 11 [5000/5000 (100%)]\tLoss: 0.002893\t\t\t\n",
      "Test accuracy: 9609/10000 (96.090%)\tLoss: 0.003794\n",
      "Train Epoch: 12 [5000/5000 (100%)]\tLoss: 0.002178\t\t\t\n",
      "Test accuracy: 9564/10000 (95.640%)\tLoss: 0.004488\n",
      "Train Epoch: 13 [5000/5000 (100%)]\tLoss: 0.002107\t\t\t\n",
      "Test accuracy: 9608/10000 (96.080%)\tLoss: 0.003818\n",
      "Train Epoch: 14 [5000/5000 (100%)]\tLoss: 0.001318\t\t\t\n",
      "Test accuracy: 9617/10000 (96.170%)\tLoss: 0.003587\n",
      "Train Epoch: 15 [5000/5000 (100%)]\tLoss: 0.001334\t\t\t\n",
      "Test accuracy: 9697/10000 (96.970%)\tLoss: 0.003010\n",
      "Train Epoch: 16 [5000/5000 (100%)]\tLoss: 0.000942\t\t\t\n",
      "Test accuracy: 9659/10000 (96.590%)\tLoss: 0.003210\n",
      "Train Epoch: 17 [5000/5000 (100%)]\tLoss: 0.000819\t\t\t\n",
      "Test accuracy: 9699/10000 (96.990%)\tLoss: 0.002998\n",
      "Train Epoch: 18 [5000/5000 (100%)]\tLoss: 0.000949\t\t\t\n",
      "Test accuracy: 9547/10000 (95.470%)\tLoss: 0.004218\n",
      "Train Epoch: 19 [5000/5000 (100%)]\tLoss: 0.000651\t\t\t\n",
      "Test accuracy: 9660/10000 (96.600%)\tLoss: 0.003453\n"
     ]
    }
   ],
   "source": [
    "# embedding_net = EmbeddingNet().to(device)\n",
    "diffnet = DiffNet().to(device)\n",
    "model = Net(diffnet).to(device)\n",
    "\n",
    "lr = 0.001\n",
    "num_epochs = 20\n",
    "weight_decay = 1e-6\n",
    "\n",
    "optimizer = optim.RMSprop(model.parameters(), lr=lr, weight_decay=weight_decay)\n",
    "optim2 = optim.RMSprop(diffnet.parameters(), lr=0.01, weight_decay=weight_decay)\n",
    "loss_fn = ContrastiveLoss()\n",
    "for epoch in range(num_epochs):\n",
    "    train(model, diffnet, device, train_loader, epoch, optimizer, optim2,loss_fn)\n",
    "    test(model, diffnet, device, test_loader,loss_fn)"
   ]
  },
  {
   "cell_type": "code",
   "execution_count": 101,
   "metadata": {},
   "outputs": [
    {
     "name": "stdout",
     "output_type": "stream",
     "text": [
      "Train Epoch: 0 [5000/5000 (100%)]\tLoss: 0.024764\t\t\t\n",
      "Test accuracy: 8712/10000 (87.120%)\tLoss: 0.007680\n",
      "Train Epoch: 1 [5000/5000 (100%)]\tLoss: 0.010342\t\t\t\n",
      "Test accuracy: 9479/10000 (94.790%)\tLoss: 0.005001\n",
      "Train Epoch: 2 [5000/5000 (100%)]\tLoss: 0.006145\t\t\t\n",
      "Test accuracy: 9573/10000 (95.730%)\tLoss: 0.004206\n",
      "Train Epoch: 3 [5000/5000 (100%)]\tLoss: 0.004153\t\t\t\n",
      "Test accuracy: 9735/10000 (97.350%)\tLoss: 0.003152\n",
      "Train Epoch: 4 [5000/5000 (100%)]\tLoss: 0.002890\t\t\t\n",
      "Test accuracy: 9772/10000 (97.720%)\tLoss: 0.002805\n",
      "Train Epoch: 5 [5000/5000 (100%)]\tLoss: 0.002037\t\t\t\n",
      "Test accuracy: 9764/10000 (97.640%)\tLoss: 0.002616\n",
      "Train Epoch: 6 [5000/5000 (100%)]\tLoss: 0.001434\t\t\t\n",
      "Test accuracy: 9750/10000 (97.500%)\tLoss: 0.002553\n",
      "Train Epoch: 7 [5000/5000 (100%)]\tLoss: 0.001026\t\t\t\n",
      "Test accuracy: 9737/10000 (97.370%)\tLoss: 0.002559\n",
      "Train Epoch: 8 [5000/5000 (100%)]\tLoss: 0.000816\t\t\t\n",
      "Test accuracy: 9729/10000 (97.290%)\tLoss: 0.002501\n",
      "Train Epoch: 9 [5000/5000 (100%)]\tLoss: 0.000580\t\t\t\n",
      "Test accuracy: 9750/10000 (97.500%)\tLoss: 0.002452\n",
      "Train Epoch: 10 [5000/5000 (100%)]\tLoss: 0.000466\t\t\t\n",
      "Test accuracy: 9712/10000 (97.120%)\tLoss: 0.002581\n",
      "Train Epoch: 11 [5000/5000 (100%)]\tLoss: 0.000370\t\t\t\n",
      "Test accuracy: 9750/10000 (97.500%)\tLoss: 0.002281\n",
      "Train Epoch: 12 [5000/5000 (100%)]\tLoss: 0.000313\t\t\t\n",
      "Test accuracy: 9745/10000 (97.450%)\tLoss: 0.002260\n",
      "Train Epoch: 13 [5000/5000 (100%)]\tLoss: 0.000256\t\t\t\n",
      "Test accuracy: 9738/10000 (97.380%)\tLoss: 0.002221\n",
      "Train Epoch: 14 [5000/5000 (100%)]\tLoss: 0.000219\t\t\t\n",
      "Test accuracy: 9755/10000 (97.550%)\tLoss: 0.002224\n",
      "Train Epoch: 15 [5000/5000 (100%)]\tLoss: 0.000187\t\t\t\n",
      "Test accuracy: 9739/10000 (97.390%)\tLoss: 0.002202\n",
      "Train Epoch: 16 [5000/5000 (100%)]\tLoss: 0.000170\t\t\t\n",
      "Test accuracy: 9741/10000 (97.410%)\tLoss: 0.002206\n",
      "Train Epoch: 17 [5000/5000 (100%)]\tLoss: 0.000151\t\t\t\n",
      "Test accuracy: 9746/10000 (97.460%)\tLoss: 0.002167\n",
      "Train Epoch: 18 [5000/5000 (100%)]\tLoss: 0.000137\t\t\t\n",
      "Test accuracy: 9742/10000 (97.420%)\tLoss: 0.002173\n",
      "Train Epoch: 19 [5000/5000 (100%)]\tLoss: 0.000122\t\t\t\n",
      "Test accuracy: 9749/10000 (97.490%)\tLoss: 0.002122\n"
     ]
    }
   ],
   "source": [
    "# embedding_net = EmbeddingNet().to(device)\n",
    "diffnet = DiffNet().to(device)\n",
    "model = Net(diffnet).to(device)\n",
    "\n",
    "lr = 0.1\n",
    "num_epochs = 20\n",
    "weight_decay = 1e-6\n",
    "\n",
    "optimizer = optim.SGD(model.parameters(), lr=lr, weight_decay=weight_decay)\n",
    "optim2 = optim.SGD(diffnet.parameters(), lr=0.01, weight_decay=weight_decay)\n",
    "loss_fn = ContrastiveLoss()\n",
    "for epoch in range(num_epochs):\n",
    "    train(model, diffnet, device, train_loader, epoch, optimizer, optim2,loss_fn)\n",
    "    test(model, diffnet, device, test_loader,loss_fn)"
   ]
  },
  {
   "cell_type": "markdown",
   "metadata": {},
   "source": [
    "### Triplet Loss"
   ]
  },
  {
   "cell_type": "code",
   "execution_count": 104,
   "metadata": {},
   "outputs": [
    {
     "name": "stdout",
     "output_type": "stream",
     "text": [
      "Train Epoch: 0 [5000/5000 (100%)]\tLoss: 0.039015\t\t\t\n",
      "Test accuracy: 7977/10000 (79.770%)\tLoss: 0.013628\n",
      "Train Epoch: 1 [5000/5000 (100%)]\tLoss: 0.021679\t\t\t\n",
      "Test accuracy: 8649/10000 (86.490%)\tLoss: 0.007936\n",
      "Train Epoch: 2 [5000/5000 (100%)]\tLoss: 0.012866\t\t\t\n",
      "Test accuracy: 8643/10000 (86.430%)\tLoss: 0.009263\n",
      "Train Epoch: 3 [5000/5000 (100%)]\tLoss: 0.007842\t\t\t\n",
      "Test accuracy: 8955/10000 (89.550%)\tLoss: 0.005655\n",
      "Train Epoch: 4 [5000/5000 (100%)]\tLoss: 0.005465\t\t\t\n",
      "Test accuracy: 8995/10000 (89.950%)\tLoss: 0.005945\n",
      "Train Epoch: 5 [5000/5000 (100%)]\tLoss: 0.006890\t\t\t\n",
      "Test accuracy: 9130/10000 (91.300%)\tLoss: 0.003907\n",
      "Train Epoch: 6 [5000/5000 (100%)]\tLoss: 0.003036\t\t\t\n",
      "Test accuracy: 8557/10000 (85.570%)\tLoss: 0.008241\n",
      "Train Epoch: 7 [5000/5000 (100%)]\tLoss: 0.004518\t\t\t\n",
      "Test accuracy: 9080/10000 (90.800%)\tLoss: 0.004053\n",
      "Train Epoch: 8 [5000/5000 (100%)]\tLoss: 0.002544\t\t\t\n",
      "Test accuracy: 9221/10000 (92.210%)\tLoss: 0.003867\n",
      "Train Epoch: 9 [5000/5000 (100%)]\tLoss: 0.002026\t\t\t\n",
      "Test accuracy: 9348/10000 (93.480%)\tLoss: 0.005283\n",
      "Train Epoch: 10 [5000/5000 (100%)]\tLoss: 0.003618\t\t\t\n",
      "Test accuracy: 9232/10000 (92.320%)\tLoss: 0.003556\n",
      "Train Epoch: 11 [5000/5000 (100%)]\tLoss: 0.002464\t\t\t\n",
      "Test accuracy: 8964/10000 (89.640%)\tLoss: 0.006551\n",
      "Train Epoch: 12 [5000/5000 (100%)]\tLoss: 0.003128\t\t\t\n",
      "Test accuracy: 9178/10000 (91.780%)\tLoss: 0.004798\n",
      "Train Epoch: 13 [5000/5000 (100%)]\tLoss: 0.001849\t\t\t\n",
      "Test accuracy: 9187/10000 (91.870%)\tLoss: 0.004629\n",
      "Train Epoch: 14 [5000/5000 (100%)]\tLoss: 0.004585\t\t\t\n",
      "Test accuracy: 9329/10000 (93.290%)\tLoss: 0.003671\n"
     ]
    }
   ],
   "source": [
    "# embedding_net = EmbeddingNet().to(device)\n",
    "diffnet = DiffNet().to(device)\n",
    "model = Net(diffnet).to(device)\n",
    "\n",
    "lr = 0.001\n",
    "num_epochs = 15\n",
    "weight_decay = 1e-4\n",
    "\n",
    "optimizer = optim.Adam(model.parameters(), lr=lr, weight_decay=weight_decay)\n",
    "optim2 = optim.Adam(diffnet.parameters(), lr=0.01, weight_decay=weight_decay)\n",
    "loss_fn = TripletLoss()\n",
    "for epoch in range(num_epochs):\n",
    "    train(model, diffnet, device, train_loader, epoch, optimizer, optim2,loss_fn)\n",
    "    test(model, diffnet, device, test_loader,loss_fn)"
   ]
  },
  {
   "cell_type": "code",
   "execution_count": 105,
   "metadata": {},
   "outputs": [
    {
     "name": "stdout",
     "output_type": "stream",
     "text": [
      "Train Epoch: 0 [5000/5000 (100%)]\tLoss: 0.362484\t\t\t\n",
      "Test accuracy: 7045/10000 (70.450%)\tLoss: 0.034241\n",
      "Train Epoch: 1 [5000/5000 (100%)]\tLoss: 0.040159\t\t\t\n",
      "Test accuracy: 7431/10000 (74.310%)\tLoss: 0.023254\n",
      "Train Epoch: 2 [5000/5000 (100%)]\tLoss: 0.036623\t\t\t\n",
      "Test accuracy: 7924/10000 (79.240%)\tLoss: 0.014214\n",
      "Train Epoch: 3 [5000/5000 (100%)]\tLoss: 0.023953\t\t\t\n",
      "Test accuracy: 8492/10000 (84.920%)\tLoss: 0.009547\n",
      "Train Epoch: 4 [5000/5000 (100%)]\tLoss: 0.025232\t\t\t\n",
      "Test accuracy: 7231/10000 (72.310%)\tLoss: 0.024949\n",
      "Train Epoch: 5 [5000/5000 (100%)]\tLoss: 0.016236\t\t\t\n",
      "Test accuracy: 8366/10000 (83.660%)\tLoss: 0.011879\n",
      "Train Epoch: 6 [5000/5000 (100%)]\tLoss: 0.010804\t\t\t\n",
      "Test accuracy: 9153/10000 (91.530%)\tLoss: 0.005326\n",
      "Train Epoch: 7 [5000/5000 (100%)]\tLoss: 0.009599\t\t\t\n",
      "Test accuracy: 8826/10000 (88.260%)\tLoss: 0.006891\n",
      "Train Epoch: 8 [5000/5000 (100%)]\tLoss: 0.007982\t\t\t\n",
      "Test accuracy: 9124/10000 (91.240%)\tLoss: 0.006533\n",
      "Train Epoch: 9 [5000/5000 (100%)]\tLoss: 0.007442\t\t\t\n",
      "Test accuracy: 9177/10000 (91.770%)\tLoss: 0.005093\n",
      "Train Epoch: 10 [5000/5000 (100%)]\tLoss: 0.005251\t\t\t\n",
      "Test accuracy: 8999/10000 (89.990%)\tLoss: 0.007030\n",
      "Train Epoch: 11 [5000/5000 (100%)]\tLoss: 0.004810\t\t\t\n",
      "Test accuracy: 9321/10000 (93.210%)\tLoss: 0.004594\n",
      "Train Epoch: 12 [5000/5000 (100%)]\tLoss: 0.004679\t\t\t\n",
      "Test accuracy: 9359/10000 (93.590%)\tLoss: 0.003847\n",
      "Train Epoch: 13 [5000/5000 (100%)]\tLoss: 0.004639\t\t\t\n",
      "Test accuracy: 9302/10000 (93.020%)\tLoss: 0.005368\n",
      "Train Epoch: 14 [5000/5000 (100%)]\tLoss: 0.003144\t\t\t\n",
      "Test accuracy: 9307/10000 (93.070%)\tLoss: 0.003462\n"
     ]
    }
   ],
   "source": [
    "# embedding_net = EmbeddingNet().to(device)\n",
    "diffnet = DiffNet().to(device)\n",
    "model = Net(diffnet).to(device)\n",
    "\n",
    "lr = 0.001\n",
    "num_epochs = 15\n",
    "weight_decay = 1e-4\n",
    "\n",
    "optimizer = optim.RMSprop(model.parameters(), lr=lr, weight_decay=weight_decay)\n",
    "optim2 = optim.RMSprop(diffnet.parameters(), lr=0.01, weight_decay=weight_decay)\n",
    "loss_fn = TripletLoss()\n",
    "for epoch in range(num_epochs):\n",
    "    train(model, diffnet, device, train_loader, epoch, optimizer, optim2,loss_fn)\n",
    "    test(model, diffnet, device, test_loader,loss_fn)"
   ]
  },
  {
   "cell_type": "code",
   "execution_count": 107,
   "metadata": {},
   "outputs": [
    {
     "name": "stdout",
     "output_type": "stream",
     "text": [
      "Train Epoch: 0 [5000/5000 (100%)]\tLoss: 0.089908\t\t\t\n",
      "Test accuracy: 6364/10000 (63.640%)\tLoss: 0.036409\n",
      "Train Epoch: 1 [5000/5000 (100%)]\tLoss: 0.038660\t\t\t\n",
      "Test accuracy: 7883/10000 (78.830%)\tLoss: 0.013033\n",
      "Train Epoch: 2 [5000/5000 (100%)]\tLoss: 0.015324\t\t\t\n",
      "Test accuracy: 8754/10000 (87.540%)\tLoss: 0.006955\n",
      "Train Epoch: 3 [5000/5000 (100%)]\tLoss: 0.007559\t\t\t\n",
      "Test accuracy: 8740/10000 (87.400%)\tLoss: 0.008350\n",
      "Train Epoch: 4 [5000/5000 (100%)]\tLoss: 0.006200\t\t\t\n",
      "Test accuracy: 8715/10000 (87.150%)\tLoss: 0.008283\n",
      "Train Epoch: 5 [5000/5000 (100%)]\tLoss: 0.003912\t\t\t\n",
      "Test accuracy: 9163/10000 (91.630%)\tLoss: 0.004131\n",
      "Train Epoch: 6 [5000/5000 (100%)]\tLoss: 0.002471\t\t\t\n",
      "Test accuracy: 9232/10000 (92.320%)\tLoss: 0.004217\n",
      "Train Epoch: 7 [5000/5000 (100%)]\tLoss: 0.002708\t\t\t\n",
      "Test accuracy: 9298/10000 (92.980%)\tLoss: 0.003720\n",
      "Train Epoch: 8 [5000/5000 (100%)]\tLoss: 0.002026\t\t\t\n",
      "Test accuracy: 9291/10000 (92.910%)\tLoss: 0.003644\n",
      "Train Epoch: 9 [5000/5000 (100%)]\tLoss: 0.001564\t\t\t\n",
      "Test accuracy: 9101/10000 (91.010%)\tLoss: 0.005406\n",
      "Train Epoch: 10 [5000/5000 (100%)]\tLoss: 0.003097\t\t\t\n",
      "Test accuracy: 9409/10000 (94.090%)\tLoss: 0.002825\n",
      "Train Epoch: 11 [5000/5000 (100%)]\tLoss: 0.002466\t\t\t\n",
      "Test accuracy: 9421/10000 (94.210%)\tLoss: 0.003095\n",
      "Train Epoch: 12 [5000/5000 (100%)]\tLoss: 0.000935\t\t\t\n",
      "Test accuracy: 9380/10000 (93.800%)\tLoss: 0.002984\n",
      "Train Epoch: 13 [5000/5000 (100%)]\tLoss: 0.001302\t\t\t\n",
      "Test accuracy: 9468/10000 (94.680%)\tLoss: 0.002378\n",
      "Train Epoch: 14 [5000/5000 (100%)]\tLoss: 0.000266\t\t\t\n",
      "Test accuracy: 9398/10000 (93.980%)\tLoss: 0.002697\n",
      "Train Epoch: 15 [5000/5000 (100%)]\tLoss: 0.000249\t\t\t\n",
      "Test accuracy: 9427/10000 (94.270%)\tLoss: 0.003118\n",
      "Train Epoch: 16 [5000/5000 (100%)]\tLoss: 0.000992\t\t\t\n",
      "Test accuracy: 9279/10000 (92.790%)\tLoss: 0.004174\n",
      "Train Epoch: 17 [5000/5000 (100%)]\tLoss: 0.001207\t\t\t\n",
      "Test accuracy: 9419/10000 (94.190%)\tLoss: 0.003111\n",
      "Train Epoch: 18 [5000/5000 (100%)]\tLoss: 0.001650\t\t\t\n",
      "Test accuracy: 9252/10000 (92.520%)\tLoss: 0.004748\n",
      "Train Epoch: 19 [5000/5000 (100%)]\tLoss: 0.001270\t\t\t\n",
      "Test accuracy: 9451/10000 (94.510%)\tLoss: 0.003096\n"
     ]
    }
   ],
   "source": [
    "# embedding_net = EmbeddingNet().to(device)\n",
    "diffnet = DiffNet().to(device)\n",
    "model = Net(diffnet).to(device)\n",
    "\n",
    "lr = 0.1\n",
    "num_epochs = 20\n",
    "weight_decay = 1e-6\n",
    "\n",
    "optimizer = optim.SGD(model.parameters(), lr=lr, weight_decay=weight_decay)\n",
    "optim2 = optim.SGD(diffnet.parameters(), lr=0.01, weight_decay=weight_decay)\n",
    "loss_fn = TripletLoss()\n",
    "for epoch in range(num_epochs):\n",
    "    train(model, diffnet, device, train_loader, epoch, optimizer, optim2,loss_fn)\n",
    "    test(model, diffnet, device, test_loader,loss_fn)"
   ]
  },
  {
   "cell_type": "markdown",
   "metadata": {},
   "source": [
    "### Cross Entropy Loss"
   ]
  },
  {
   "cell_type": "code",
   "execution_count": 97,
   "metadata": {},
   "outputs": [
    {
     "name": "stdout",
     "output_type": "stream",
     "text": [
      "Train Epoch: 0 [5000/5000 (100%)]\tLoss: 0.041965\t\t\t\n",
      "Test accuracy: 8945/10000 (89.450%)\tLoss: 0.013701\n",
      "Train Epoch: 1 [5000/5000 (100%)]\tLoss: 0.018692\t\t\t\n",
      "Test accuracy: 9455/10000 (94.550%)\tLoss: 0.007590\n",
      "Train Epoch: 2 [5000/5000 (100%)]\tLoss: 0.008346\t\t\t\n",
      "Test accuracy: 9523/10000 (95.230%)\tLoss: 0.007134\n",
      "Train Epoch: 3 [5000/5000 (100%)]\tLoss: 0.005229\t\t\t\n",
      "Test accuracy: 9576/10000 (95.760%)\tLoss: 0.006094\n",
      "Train Epoch: 4 [5000/5000 (100%)]\tLoss: 0.003980\t\t\t\n",
      "Test accuracy: 9643/10000 (96.430%)\tLoss: 0.005126\n",
      "Train Epoch: 5 [5000/5000 (100%)]\tLoss: 0.002906\t\t\t\n",
      "Test accuracy: 9492/10000 (94.920%)\tLoss: 0.007216\n",
      "Train Epoch: 6 [5000/5000 (100%)]\tLoss: 0.001797\t\t\t\n",
      "Test accuracy: 9602/10000 (96.020%)\tLoss: 0.006493\n",
      "Train Epoch: 7 [5000/5000 (100%)]\tLoss: 0.000726\t\t\t\n",
      "Test accuracy: 9611/10000 (96.110%)\tLoss: 0.007618\n",
      "Train Epoch: 8 [5000/5000 (100%)]\tLoss: 0.002747\t\t\t\n",
      "Test accuracy: 9405/10000 (94.050%)\tLoss: 0.010278\n",
      "Train Epoch: 9 [5000/5000 (100%)]\tLoss: 0.002087\t\t\t\n",
      "Test accuracy: 9649/10000 (96.490%)\tLoss: 0.005753\n"
     ]
    }
   ],
   "source": [
    "# embedding_net = EmbeddingNet().to(device)\n",
    "diffnet = DiffNet().to(device)\n",
    "model = Net(diffnet).to(device)\n",
    "\n",
    "lr = 0.001\n",
    "num_epochs = 10\n",
    "weight_decay = 1e-6\n",
    "\n",
    "optimizer = optim.Adam(model.parameters(), lr=lr, weight_decay=weight_decay)\n",
    "optim2 = optim.Adam(diffnet.parameters(), lr=0.01, weight_decay=weight_decay)\n",
    "loss_fn = CrossEntLoss()\n",
    "for epoch in range(num_epochs):\n",
    "    train(model, diffnet, device, train_loader, epoch, optimizer, optim2,loss_fn)\n",
    "    test(model, diffnet, device, test_loader,loss_fn)"
   ]
  },
  {
   "cell_type": "code",
   "execution_count": 109,
   "metadata": {},
   "outputs": [
    {
     "name": "stdout",
     "output_type": "stream",
     "text": [
      "Train Epoch: 0 [5000/5000 (100%)]\tLoss: 0.214392\t\t\t\n",
      "Test accuracy: 7961/10000 (79.610%)\tLoss: 0.022513\n",
      "Train Epoch: 1 [5000/5000 (100%)]\tLoss: 0.037502\t\t\t\n",
      "Test accuracy: 8524/10000 (85.240%)\tLoss: 0.017401\n",
      "Train Epoch: 2 [5000/5000 (100%)]\tLoss: 0.029639\t\t\t\n",
      "Test accuracy: 8756/10000 (87.560%)\tLoss: 0.015108\n",
      "Train Epoch: 3 [5000/5000 (100%)]\tLoss: 0.023023\t\t\t\n",
      "Test accuracy: 9022/10000 (90.220%)\tLoss: 0.011641\n",
      "Train Epoch: 4 [5000/5000 (100%)]\tLoss: 0.017402\t\t\t\n",
      "Test accuracy: 9203/10000 (92.030%)\tLoss: 0.010449\n",
      "Train Epoch: 5 [5000/5000 (100%)]\tLoss: 0.013319\t\t\t\n",
      "Test accuracy: 9301/10000 (93.010%)\tLoss: 0.009136\n",
      "Train Epoch: 6 [5000/5000 (100%)]\tLoss: 0.008708\t\t\t\n",
      "Test accuracy: 9459/10000 (94.590%)\tLoss: 0.007664\n",
      "Train Epoch: 7 [5000/5000 (100%)]\tLoss: 0.008169\t\t\t\n",
      "Test accuracy: 9451/10000 (94.510%)\tLoss: 0.007528\n",
      "Train Epoch: 8 [5000/5000 (100%)]\tLoss: 0.005251\t\t\t\n",
      "Test accuracy: 9490/10000 (94.900%)\tLoss: 0.007813\n",
      "Train Epoch: 9 [5000/5000 (100%)]\tLoss: 0.005577\t\t\t\n",
      "Test accuracy: 9522/10000 (95.220%)\tLoss: 0.006699\n",
      "Train Epoch: 10 [5000/5000 (100%)]\tLoss: 0.004193\t\t\t\n",
      "Test accuracy: 9622/10000 (96.220%)\tLoss: 0.005555\n",
      "Train Epoch: 11 [5000/5000 (100%)]\tLoss: 0.002823\t\t\t\n",
      "Test accuracy: 9618/10000 (96.180%)\tLoss: 0.005917\n",
      "Train Epoch: 12 [5000/5000 (100%)]\tLoss: 0.003563\t\t\t\n",
      "Test accuracy: 9585/10000 (95.850%)\tLoss: 0.006937\n",
      "Train Epoch: 13 [5000/5000 (100%)]\tLoss: 0.002657\t\t\t\n",
      "Test accuracy: 9584/10000 (95.840%)\tLoss: 0.007205\n",
      "Train Epoch: 14 [5000/5000 (100%)]\tLoss: 0.001853\t\t\t\n",
      "Test accuracy: 9673/10000 (96.730%)\tLoss: 0.005842\n",
      "Train Epoch: 15 [5000/5000 (100%)]\tLoss: 0.002606\t\t\t\n",
      "Test accuracy: 9628/10000 (96.280%)\tLoss: 0.006786\n",
      "Train Epoch: 16 [5000/5000 (100%)]\tLoss: 0.002224\t\t\t\n",
      "Test accuracy: 9664/10000 (96.640%)\tLoss: 0.005318\n",
      "Train Epoch: 17 [5000/5000 (100%)]\tLoss: 0.001122\t\t\t\n",
      "Test accuracy: 9668/10000 (96.680%)\tLoss: 0.006323\n",
      "Train Epoch: 18 [5000/5000 (100%)]\tLoss: 0.001954\t\t\t\n",
      "Test accuracy: 9621/10000 (96.210%)\tLoss: 0.007535\n",
      "Train Epoch: 19 [5000/5000 (100%)]\tLoss: 0.001541\t\t\t\n",
      "Test accuracy: 9446/10000 (94.460%)\tLoss: 0.013067\n"
     ]
    }
   ],
   "source": [
    "# embedding_net = EmbeddingNet().to(device)\n",
    "diffnet = DiffNet().to(device)\n",
    "model = Net(diffnet).to(device)\n",
    "\n",
    "lr = 0.001\n",
    "num_epochs = 20\n",
    "weight_decay = 1e-6\n",
    "\n",
    "optimizer = optim.RMSprop(model.parameters(), lr=lr, weight_decay=weight_decay)\n",
    "optim2 = optim.RMSprop(diffnet.parameters(), lr=0.01, weight_decay=weight_decay)\n",
    "loss_fn = CrossEntLoss()\n",
    "for epoch in range(num_epochs):\n",
    "    train(model, diffnet, device, train_loader, epoch, optimizer, optim2,loss_fn)\n",
    "    test(model, diffnet, device, test_loader,loss_fn)"
   ]
  },
  {
   "cell_type": "code",
   "execution_count": 110,
   "metadata": {},
   "outputs": [
    {
     "name": "stdout",
     "output_type": "stream",
     "text": [
      "Train Epoch: 0 [5000/5000 (100%)]\tLoss: 0.052443\t\t\t\n",
      "Test accuracy: 8803/10000 (88.030%)\tLoss: 0.015094\n",
      "Train Epoch: 1 [5000/5000 (100%)]\tLoss: 0.023354\t\t\t\n",
      "Test accuracy: 9348/10000 (93.480%)\tLoss: 0.008459\n",
      "Train Epoch: 2 [5000/5000 (100%)]\tLoss: 0.010240\t\t\t\n",
      "Test accuracy: 9391/10000 (93.910%)\tLoss: 0.008779\n",
      "Train Epoch: 3 [5000/5000 (100%)]\tLoss: 0.005696\t\t\t\n",
      "Test accuracy: 9629/10000 (96.290%)\tLoss: 0.005070\n",
      "Train Epoch: 4 [5000/5000 (100%)]\tLoss: 0.003205\t\t\t\n",
      "Test accuracy: 9595/10000 (95.950%)\tLoss: 0.005497\n",
      "Train Epoch: 5 [5000/5000 (100%)]\tLoss: 0.001867\t\t\t\n",
      "Test accuracy: 9699/10000 (96.990%)\tLoss: 0.004434\n",
      "Train Epoch: 6 [5000/5000 (100%)]\tLoss: 0.001507\t\t\t\n",
      "Test accuracy: 9704/10000 (97.040%)\tLoss: 0.004278\n",
      "Train Epoch: 7 [5000/5000 (100%)]\tLoss: 0.000459\t\t\t\n",
      "Test accuracy: 9766/10000 (97.660%)\tLoss: 0.003878\n",
      "Train Epoch: 8 [5000/5000 (100%)]\tLoss: 0.000226\t\t\t\n",
      "Test accuracy: 9753/10000 (97.530%)\tLoss: 0.004444\n",
      "Train Epoch: 9 [5000/5000 (100%)]\tLoss: 0.000065\t\t\t\n",
      "Test accuracy: 9750/10000 (97.500%)\tLoss: 0.004644\n",
      "Train Epoch: 10 [5000/5000 (100%)]\tLoss: 0.000039\t\t\t\n",
      "Test accuracy: 9750/10000 (97.500%)\tLoss: 0.004899\n",
      "Train Epoch: 11 [5000/5000 (100%)]\tLoss: 0.000029\t\t\t\n",
      "Test accuracy: 9745/10000 (97.450%)\tLoss: 0.005197\n",
      "Train Epoch: 12 [5000/5000 (100%)]\tLoss: 0.000024\t\t\t\n",
      "Test accuracy: 9749/10000 (97.490%)\tLoss: 0.005341\n",
      "Train Epoch: 13 [5000/5000 (100%)]\tLoss: 0.000020\t\t\t\n",
      "Test accuracy: 9749/10000 (97.490%)\tLoss: 0.005531\n",
      "Train Epoch: 14 [5000/5000 (100%)]\tLoss: 0.000018\t\t\t\n",
      "Test accuracy: 9747/10000 (97.470%)\tLoss: 0.005680\n",
      "Train Epoch: 15 [5000/5000 (100%)]\tLoss: 0.000015\t\t\t\n",
      "Test accuracy: 9745/10000 (97.450%)\tLoss: 0.005780\n",
      "Train Epoch: 16 [5000/5000 (100%)]\tLoss: 0.000014\t\t\t\n",
      "Test accuracy: 9745/10000 (97.450%)\tLoss: 0.005927\n",
      "Train Epoch: 17 [5000/5000 (100%)]\tLoss: 0.000013\t\t\t\n",
      "Test accuracy: 9741/10000 (97.410%)\tLoss: 0.006045\n",
      "Train Epoch: 18 [5000/5000 (100%)]\tLoss: 0.000011\t\t\t\n",
      "Test accuracy: 9739/10000 (97.390%)\tLoss: 0.006131\n",
      "Train Epoch: 19 [5000/5000 (100%)]\tLoss: 0.000011\t\t\t\n",
      "Test accuracy: 9738/10000 (97.380%)\tLoss: 0.006210\n"
     ]
    }
   ],
   "source": [
    "# embedding_net = EmbeddingNet().to(device)\n",
    "diffnet = DiffNet().to(device)\n",
    "model = Net(diffnet).to(device)\n",
    "\n",
    "lr = 0.1\n",
    "num_epochs = 20\n",
    "weight_decay = 1e-6\n",
    "\n",
    "optimizer = optim.SGD(model.parameters(), lr=lr, weight_decay=weight_decay)\n",
    "optim2 = optim.SGD(diffnet.parameters(), lr=0.01, weight_decay=weight_decay)\n",
    "loss_fn = CrossEntLoss()\n",
    "for epoch in range(num_epochs):\n",
    "    train(model, diffnet, device, train_loader, epoch, optimizer, optim2,loss_fn)\n",
    "    test(model, diffnet, device, test_loader,loss_fn)"
   ]
  },
  {
   "cell_type": "markdown",
   "metadata": {},
   "source": [
    "### Sample"
   ]
  },
  {
   "cell_type": "code",
   "execution_count": 111,
   "metadata": {},
   "outputs": [],
   "source": [
    "from matplotlib import pyplot as plt"
   ]
  },
  {
   "cell_type": "code",
   "execution_count": 113,
   "metadata": {},
   "outputs": [],
   "source": [
    "prediction_loader = torch.utils.data.DataLoader(MNISTPairs('~/.pytorch/MNIST/', train=False, transform=trans), batch_size=1, shuffle=True)"
   ]
  },
  {
   "cell_type": "code",
   "execution_count": 114,
   "metadata": {},
   "outputs": [
    {
     "data": {
      "image/png": "[encoded data removed]",
      "text/plain": [
       "<Figure size 432x288 with 2 Axes>"
      ]
     },
     "metadata": {
      "needs_background": "light"
     },
     "output_type": "display_data"
    },
    {
     "name": "stdout",
     "output_type": "stream",
     "text": [
      "These two images are not of the same number\n"
     ]
    },
    {
     "data": {
      "image/png": "[encoded data removed]",
      "text/plain": [
       "<Figure size 432x288 with 2 Axes>"
      ]
     },
     "metadata": {
      "needs_background": "light"
     },
     "output_type": "display_data"
    },
    {
     "name": "stdout",
     "output_type": "stream",
     "text": [
      "These two images are of the same number\n"
     ]
    },
    {
     "data": {
      "image/png": "[encoded data removed]",
      "text/plain": [
       "<Figure size 432x288 with 2 Axes>"
      ]
     },
     "metadata": {
      "needs_background": "light"
     },
     "output_type": "display_data"
    },
    {
     "name": "stdout",
     "output_type": "stream",
     "text": [
      "These two images are not of the same number\n"
     ]
    },
    {
     "data": {
      "image/png": "[encoded data removed]",
      "text/plain": [
       "<Figure size 432x288 with 2 Axes>"
      ]
     },
     "metadata": {
      "needs_background": "light"
     },
     "output_type": "display_data"
    },
    {
     "name": "stdout",
     "output_type": "stream",
     "text": [
      "These two images are of the same number\n"
     ]
    },
    {
     "data": {
      "image/png": "[encoded data removed]",
      "text/plain": [
       "<Figure size 432x288 with 2 Axes>"
      ]
     },
     "metadata": {
      "needs_background": "light"
     },
     "output_type": "display_data"
    },
    {
     "name": "stdout",
     "output_type": "stream",
     "text": [
      "These two images are not of the same number\n"
     ]
    },
    {
     "data": {
      "image/png": "[encoded data removed]",
      "text/plain": [
       "<Figure size 432x288 with 2 Axes>"
      ]
     },
     "metadata": {
      "needs_background": "light"
     },
     "output_type": "display_data"
    },
    {
     "name": "stdout",
     "output_type": "stream",
     "text": [
      "These two images are of the same number\n"
     ]
    },
    {
     "data": {
      "image/png": "[encoded data removed]",
      "text/plain": [
       "<Figure size 432x288 with 2 Axes>"
      ]
     },
     "metadata": {
      "needs_background": "light"
     },
     "output_type": "display_data"
    },
    {
     "name": "stdout",
     "output_type": "stream",
     "text": [
      "These two images are not of the same number\n"
     ]
    },
    {
     "data": {
      "image/png": "[encoded data removed]",
      "text/plain": [
       "<Figure size 432x288 with 2 Axes>"
      ]
     },
     "metadata": {
      "needs_background": "light"
     },
     "output_type": "display_data"
    },
    {
     "name": "stdout",
     "output_type": "stream",
     "text": [
      "These two images are not of the same number\n"
     ]
    },
    {
     "data": {
      "image/png": "[encoded data removed]",
      "text/plain": [
       "<Figure size 432x288 with 2 Axes>"
      ]
     },
     "metadata": {
      "needs_background": "light"
     },
     "output_type": "display_data"
    },
    {
     "name": "stdout",
     "output_type": "stream",
     "text": [
      "These two images are not of the same number\n"
     ]
    },
    {
     "data": {
      "image/png": "[encoded data removed]",
      "text/plain": [
       "<Figure size 432x288 with 2 Axes>"
      ]
     },
     "metadata": {
      "needs_background": "light"
     },
     "output_type": "display_data"
    },
    {
     "name": "stdout",
     "output_type": "stream",
     "text": [
      "These two images are of the same number\n"
     ]
    }
   ],
   "source": [
    "for i in range(5):\n",
    "    triplets = next(iter(prediction_loader))\n",
    "\n",
    "    data = []\n",
    "    data.extend(triplets[0][:3:2])\n",
    "    fig, axes = plt.subplots(1,2)\n",
    "    axes[0].imshow(data[0].numpy()[0,0])\n",
    "    axes[1].imshow(data[1].numpy()[0,0])\n",
    "    plt.show()\n",
    "    same = oneshot(model, diffnet, device, data)\n",
    "    if same > 0:\n",
    "        print('These two images are of the same number')\n",
    "    else:\n",
    "        print('These two images are not of the same number')\n",
    "\n",
    "    data = []\n",
    "    data.extend(triplets[0][:2])\n",
    "    fig, axes = plt.subplots(1,2)\n",
    "    axes[0].imshow(data[0].numpy()[0,0])\n",
    "    axes[1].imshow(data[1].numpy()[0,0])\n",
    "    plt.show()\n",
    "    same = oneshot(model, diffnet, device, data)\n",
    "    if same > 0:\n",
    "        print('These two images are of the same number')\n",
    "    else:\n",
    "        print('These two images are not of the same number')"
   ]
  },
  {
   "cell_type": "markdown",
   "metadata": {},
   "source": [
    "## Comparison of results\n",
    "\n",
    "|         |  contrastive loss | triplet loss | cross entropy |\n",
    "|---------|-------------------|--------------|---------------|\n",
    "|  Adam   |    97.50%         |     93.29%   |  96.49%       |\n",
    "| RMSprop |    96.60%         |     93.07%   |  94.46%       |\n",
    "|  SGD    |    97.49%         |     94.51%   |  97.38%       |\n",
    "\n",
    "Adam works best for high accuracy. This is because Adam maintains a per-parameter learning rate that improves performance on problems with sparse gradients.\n",
    "\n",
    "Stochastic gradient descent maintains a single learning rate (termed alpha) for all weight updates and the learning rate does not change during training.\n",
    "\n",
    "RMSprop also maintains per-parameter learning rates that are adapted based on the average of recent magnitudes of the gradients for the weight. This means the algorithm does well on online and non-stationary problem."
   ]
  },
  {
   "cell_type": "markdown",
   "metadata": {},
   "source": [
    "## Experiments on Hyper parameters\n",
    "\n",
    "### Weight decay:\n",
    "Increasing the weight decay decreases learning per epoch, however too low weight decay makes the model susceptible to overfiting and getting into local minimas.\n",
    "Tried weight decays: 1e-3, 1e-4, 1e-5, 1e-6\n",
    "\n",
    "### Learning Rate:\n",
    "Too high learning rate makes the loss unstable and this is also one of the ways you find that your learning rate is too high.\n",
    "Too low learning rate makes the learning very slow.\n",
    "\n",
    "Tried learning rates: 0.1, 0.01, 0.005, 0.0015, 0.001, 0.0001"
   ]
  },
  {
   "cell_type": "markdown",
   "metadata": {},
   "source": [
    "## Pros and Cons of Siamese Network\n",
    "\n",
    "### Pros:\n",
    "1. **More Robust to class Imbalance**: With the aid of One-shot learning, given a few images per class is sufficient for Siamese Networks to recognize those images in the future\n",
    "2. **Nice to an ensemble with the best classifier**: Given that its learning mechanism is somewhat different from Classification, simple averaging of it with a Classifier can do much better than average 2 correlated Supervised models (e.g. GBM & RF classifier)\n",
    "3. **Learning from Semantic Similarity**: Siamese focuses on learning embeddings (in the deeper layer) that place the same classes/concepts close together. Hence, can learn semantic similarity.\n",
    "\n",
    "### Cons:\n",
    "1. **Needs more training time than normal networks**: Since Siamese Networks involves quadratic pairs to learn from (to see all information available) it is slower than normal classification type of learning(pointwise learning)\n",
    "2. **Doesn’t output probabilities**: Since training involves pairwise learning, it won’t output the probabilities of the prediction, but the distance from each class\n",
    "\n"
   ]
  }
 ],
 "metadata": {
  "kernelspec": {
   "display_name": "env",
   "language": "python",
   "name": "env"
  },
  "language_info": {
   "codemirror_mode": {
    "name": "ipython",
    "version": 3
   },
   "file_extension": ".py",
   "mimetype": "text/x-python",
   "name": "python",
   "nbconvert_exporter": "python",
   "pygments_lexer": "ipython3",
   "version": "3.7.4"
  }
 },
 "nbformat": 4,
 "nbformat_minor": 4
}
