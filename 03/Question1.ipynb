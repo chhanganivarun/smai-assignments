{
 "cells": [
  {
   "cell_type": "code",
   "execution_count": 2,
   "metadata": {},
   "outputs": [],
   "source": [
    "import torch\n",
    "import numpy as np\n",
    "from torch import nn\n",
    "import torchvision\n",
    "from torchvision import transforms, datasets\n",
    "from torch import optim\n",
    "from torch.utils.data.sampler import SubsetRandomSampler"
   ]
  },
  {
   "cell_type": "code",
   "execution_count": 3,
   "metadata": {},
   "outputs": [],
   "source": [
    "from matplotlib import pyplot as plt"
   ]
  },
  {
   "cell_type": "code",
   "execution_count": 4,
   "metadata": {},
   "outputs": [],
   "source": [
    "import torch.nn.functional as F"
   ]
  },
  {
   "cell_type": "code",
   "execution_count": 5,
   "metadata": {},
   "outputs": [],
   "source": [
    "transform = transforms.Compose([transforms.ToTensor(),\n",
    "                              transforms.Normalize((0.5,),(0.5,)),\n",
    "                              ])"
   ]
  },
  {
   "cell_type": "code",
   "execution_count": 6,
   "metadata": {},
   "outputs": [
    {
     "name": "stdout",
     "output_type": "stream",
     "text": [
      "Files already downloaded and verified\n",
      "Files already downloaded and verified\n",
      "Files already downloaded and verified\n"
     ]
    }
   ],
   "source": [
    "trainset= datasets.CIFAR10('~/.pytorch/CIFAR10_data/', train=True, download=True, transform=transform)\n",
    "\n",
    "validset= datasets.CIFAR10('~/.pytorch/CIFAR10_data/', train=True, download=True, transform=transform)\n",
    "\n",
    "testset= datasets.CIFAR10('~/.pytorch/CIFAR10_data/', train=False, download=True,transform=transform)"
   ]
  },
  {
   "cell_type": "code",
   "execution_count": 7,
   "metadata": {},
   "outputs": [],
   "source": [
    "num_train = len(trainset)\n",
    "num_test = len(testset)\n",
    "indices = list(range(num_train))\n",
    "split = int(np.floor(0.3 * num_train))\n",
    "\n",
    "np.random.seed(42)\n",
    "np.random.shuffle(indices)\n",
    "batch_size = 100\n",
    "pin_memory = 1\n",
    "num_workers = 1"
   ]
  },
  {
   "cell_type": "code",
   "execution_count": 8,
   "metadata": {},
   "outputs": [],
   "source": [
    "train_idx, valid_idx = indices[split:], indices[:split]\n",
    "train_sampler = SubsetRandomSampler(train_idx)\n",
    "valid_sampler = SubsetRandomSampler(valid_idx)\n",
    "train_loader = torch.utils.data.DataLoader(\n",
    "    trainset, batch_size=batch_size, sampler=train_sampler,\n",
    "    num_workers=num_workers, pin_memory=pin_memory,\n",
    ")\n",
    "valid_loader = torch.utils.data.DataLoader(\n",
    "    validset, batch_size=batch_size, sampler=valid_sampler,\n",
    "    num_workers=num_workers, pin_memory=pin_memory,\n",
    ")\n",
    "\n",
    "test_loader = torch.utils.data.DataLoader(\n",
    "    testset, batch_size=batch_size, num_workers=num_workers, \n",
    "    pin_memory=pin_memory, shuffle=True\n",
    ")"
   ]
  },
  {
   "cell_type": "code",
   "execution_count": 9,
   "metadata": {},
   "outputs": [
    {
     "name": "stdout",
     "output_type": "stream",
     "text": [
      "torch.Size([100, 3, 32, 32]) torch.Size([100])\n"
     ]
    }
   ],
   "source": [
    "for imgs,labels in test_loader:\n",
    "    print(imgs.shape,labels.shape)\n",
    "    break"
   ]
  },
  {
   "cell_type": "markdown",
   "metadata": {},
   "source": [
    "## 1 CNN, 1 BNorm, 1 Dense"
   ]
  },
  {
   "cell_type": "code",
   "execution_count": 10,
   "metadata": {},
   "outputs": [],
   "source": [
    "class CNNModel(nn.Module):\n",
    "    def __init__(self):\n",
    "        super().__init__()\n",
    "        self.cnn1 = nn.Conv2d(3,10,kernel_size=3,padding=1)\n",
    "        self.bnorm1 = nn.BatchNorm2d(10)\n",
    "        self.maxpool1 = nn.MaxPool2d(2)\n",
    "        self.dense1 = nn.Linear(10*16*16,10)\n",
    "    def forward(self,x):\n",
    "        out = self.cnn1(x)\n",
    "        out = self.bnorm1(out)\n",
    "        out = self.maxpool1(out)\n",
    "        \n",
    "        out = out.view(out.shape[0],-1)\n",
    "        \n",
    "        out = self.dense1(out)\n",
    "#         out = F.softmax(out)\n",
    "        \n",
    "        return out\n",
    "        \n",
    "        "
   ]
  },
  {
   "cell_type": "code",
   "execution_count": 11,
   "metadata": {},
   "outputs": [],
   "source": [
    "device = \"cuda\" if torch.cuda.is_available() else \"cpu\""
   ]
  },
  {
   "cell_type": "code",
   "execution_count": 12,
   "metadata": {},
   "outputs": [],
   "source": [
    "CNN = CNNModel().to(device)"
   ]
  },
  {
   "cell_type": "code",
   "execution_count": 13,
   "metadata": {},
   "outputs": [],
   "source": [
    "lr = 0.001\n",
    "optimizer = optim.SGD(CNN.parameters(),lr= lr,momentum=0.6)\n",
    "criterion = nn.CrossEntropyLoss()"
   ]
  },
  {
   "cell_type": "code",
   "execution_count": 14,
   "metadata": {},
   "outputs": [],
   "source": [
    "epochs = 25\n",
    "iter_n = 0"
   ]
  },
  {
   "cell_type": "code",
   "execution_count": 15,
   "metadata": {},
   "outputs": [
    {
     "name": "stdout",
     "output_type": "stream",
     "text": [
      "Epoch 1 of 25\n",
      "Iteration: 175. Loss: 1.9514120817184448. Accuracy: 34.0\n",
      "Iteration: 350. Loss: 1.6736445426940918. Accuracy: 44.0\n",
      "Epoch 2 of 25\n",
      "Iteration: 175. Loss: 1.6885426044464111. Accuracy: 40.0\n",
      "Iteration: 350. Loss: 1.6934655904769897. Accuracy: 38.0\n",
      "Epoch 3 of 25\n",
      "Iteration: 175. Loss: 1.531061053276062. Accuracy: 40.0\n",
      "Iteration: 350. Loss: 1.5542184114456177. Accuracy: 45.0\n",
      "Epoch 4 of 25\n",
      "Iteration: 175. Loss: 1.5590788125991821. Accuracy: 53.0\n",
      "Iteration: 350. Loss: 1.6739698648452759. Accuracy: 51.0\n",
      "Epoch 5 of 25\n",
      "Iteration: 175. Loss: 1.3293052911758423. Accuracy: 43.0\n",
      "Iteration: 350. Loss: 1.60245943069458. Accuracy: 48.0\n",
      "Epoch 6 of 25\n",
      "Iteration: 175. Loss: 1.3968756198883057. Accuracy: 55.0\n",
      "Iteration: 350. Loss: 1.5265984535217285. Accuracy: 40.0\n",
      "Epoch 7 of 25\n",
      "Iteration: 175. Loss: 1.4167370796203613. Accuracy: 61.0\n",
      "Iteration: 350. Loss: 1.4756475687026978. Accuracy: 45.0\n",
      "Epoch 8 of 25\n",
      "Iteration: 175. Loss: 1.153502345085144. Accuracy: 52.0\n",
      "Iteration: 350. Loss: 1.2677546739578247. Accuracy: 55.0\n",
      "Epoch 9 of 25\n",
      "Iteration: 175. Loss: 1.3749140501022339. Accuracy: 50.0\n",
      "Iteration: 350. Loss: 1.3614332675933838. Accuracy: 54.0\n",
      "Epoch 10 of 25\n",
      "Iteration: 175. Loss: 1.4658474922180176. Accuracy: 61.0\n",
      "Iteration: 350. Loss: 1.1800626516342163. Accuracy: 55.0\n",
      "Epoch 11 of 25\n",
      "Iteration: 175. Loss: 1.220808744430542. Accuracy: 50.0\n",
      "Iteration: 350. Loss: 1.344322681427002. Accuracy: 44.0\n",
      "Epoch 12 of 25\n",
      "Iteration: 175. Loss: 1.2503083944320679. Accuracy: 49.0\n",
      "Iteration: 350. Loss: 1.0743592977523804. Accuracy: 43.0\n",
      "Epoch 13 of 25\n",
      "Iteration: 175. Loss: 1.2321430444717407. Accuracy: 56.0\n",
      "Iteration: 350. Loss: 1.1022964715957642. Accuracy: 52.0\n",
      "Epoch 14 of 25\n",
      "Iteration: 175. Loss: 1.0216052532196045. Accuracy: 58.0\n",
      "Iteration: 350. Loss: 1.150765061378479. Accuracy: 55.0\n",
      "Epoch 15 of 25\n",
      "Iteration: 175. Loss: 1.21747624874115. Accuracy: 47.0\n",
      "Iteration: 350. Loss: 1.3605250120162964. Accuracy: 64.0\n",
      "Epoch 16 of 25\n",
      "Iteration: 175. Loss: 1.2059659957885742. Accuracy: 45.0\n",
      "Iteration: 350. Loss: 1.1948068141937256. Accuracy: 54.0\n",
      "Epoch 17 of 25\n",
      "Iteration: 175. Loss: 1.1958491802215576. Accuracy: 59.0\n",
      "Iteration: 350. Loss: 1.2874423265457153. Accuracy: 57.0\n",
      "Epoch 18 of 25\n",
      "Iteration: 175. Loss: 1.286973476409912. Accuracy: 56.0\n",
      "Iteration: 350. Loss: 1.2098621129989624. Accuracy: 62.0\n",
      "Epoch 19 of 25\n",
      "Iteration: 175. Loss: 0.9888509511947632. Accuracy: 61.0\n",
      "Iteration: 350. Loss: 1.1125218868255615. Accuracy: 53.0\n",
      "Epoch 20 of 25\n",
      "Iteration: 175. Loss: 1.1526702642440796. Accuracy: 62.0\n",
      "Iteration: 350. Loss: 1.3672592639923096. Accuracy: 55.0\n",
      "Epoch 21 of 25\n",
      "Iteration: 175. Loss: 1.1968153715133667. Accuracy: 60.0\n",
      "Iteration: 350. Loss: 1.0491684675216675. Accuracy: 64.0\n",
      "Epoch 22 of 25\n",
      "Iteration: 175. Loss: 0.9269121289253235. Accuracy: 60.0\n",
      "Iteration: 350. Loss: 1.1345148086547852. Accuracy: 63.0\n",
      "Epoch 23 of 25\n",
      "Iteration: 175. Loss: 0.9935253858566284. Accuracy: 54.0\n",
      "Iteration: 350. Loss: 1.127218246459961. Accuracy: 46.0\n",
      "Epoch 24 of 25\n",
      "Iteration: 175. Loss: 0.9910901784896851. Accuracy: 61.0\n",
      "Iteration: 350. Loss: 1.2092660665512085. Accuracy: 57.0\n",
      "Epoch 25 of 25\n",
      "Iteration: 175. Loss: 1.1660138368606567. Accuracy: 62.0\n",
      "Iteration: 350. Loss: 1.2103580236434937. Accuracy: 58.0\n"
     ]
    }
   ],
   "source": [
    "for e in range(epochs):\n",
    "    iter_n = 0\n",
    "    print(\"Epoch %d of %d\"%(e+1,epochs))\n",
    "    for imgs,labels in train_loader:\n",
    "        \n",
    "        imgs = imgs.to(device)\n",
    "        labels = labels.to(device)\n",
    "#         print(imgs.shape)\n",
    "        optimizer.zero_grad()\n",
    "        \n",
    "        preds = CNN(imgs)\n",
    "        loss = criterion(preds,labels)\n",
    "        \n",
    "        loss.backward()\n",
    "        optimizer.step()\n",
    "        \n",
    "        iter_n+=1\n",
    "#         print(iter_n)\n",
    "        if iter_n % 175 == 0:\n",
    "            total = 0\n",
    "            correct = 0\n",
    "            \n",
    "            for imgs,labels in valid_loader:\n",
    "                imgs = imgs.to(device)\n",
    "                labels = labels.to(device)\n",
    "                \n",
    "                preds = CNN(imgs)\n",
    "                outputs = torch.argmax(preds.data,1)\n",
    "                \n",
    "                total += imgs.shape[0]\n",
    "                \n",
    "                correct += 100.0*(outputs.cpu() == labels.cpu()).sum()\n",
    "                \n",
    "                if total>= 50:\n",
    "                    break\n",
    "            accuracy = correct/total\n",
    "            print('Iteration: {}. Loss: {}. Accuracy: {}'.format(iter_n, loss.item(), accuracy))\n",
    "                \n",
    "        "
   ]
  },
  {
   "cell_type": "code",
   "execution_count": 16,
   "metadata": {},
   "outputs": [
    {
     "name": "stdout",
     "output_type": "stream",
     "text": [
      "Accuracy: 58.70000076293945\n"
     ]
    }
   ],
   "source": [
    "total = 0\n",
    "correct = 0\n",
    "for imgs,labels in valid_loader:\n",
    "    imgs = imgs.to(device)\n",
    "    labels = labels.to(device)\n",
    "\n",
    "    preds = CNN(imgs)\n",
    "    outputs = torch.argmax(preds.data,1)\n",
    "\n",
    "    total += imgs.shape[0]\n",
    "\n",
    "    correct += 100.0*(outputs.cpu() == labels.cpu()).sum()\n",
    "accuracy = correct/total\n",
    "print('Accuracy: {}'.format(accuracy))\n"
   ]
  },
  {
   "cell_type": "code",
   "execution_count": 17,
   "metadata": {},
   "outputs": [
    {
     "name": "stdout",
     "output_type": "stream",
     "text": [
      "Training Accuracy: 64.67428588867188\n"
     ]
    }
   ],
   "source": [
    "total = 0\n",
    "correct = 0\n",
    "for imgs,labels in train_loader:\n",
    "    imgs = imgs.to(device)\n",
    "    labels = labels.to(device)\n",
    "\n",
    "    preds = CNN(imgs)\n",
    "    outputs = torch.argmax(preds.data,1)\n",
    "\n",
    "    total += imgs.shape[0]\n",
    "\n",
    "    correct += 100.0*(outputs.cpu() == labels.cpu()).sum()\n",
    "accuracy = correct/total\n",
    "print('Training Accuracy: {}'.format(accuracy))\n"
   ]
  },
  {
   "cell_type": "markdown",
   "metadata": {},
   "source": [
    "## 1 CNN, 0 BNorm, 1 Dense"
   ]
  },
  {
   "cell_type": "code",
   "execution_count": 18,
   "metadata": {},
   "outputs": [],
   "source": [
    "class CNNModel(nn.Module):\n",
    "    def __init__(self):\n",
    "        super().__init__()\n",
    "        self.cnn1 = nn.Conv2d(3,10,kernel_size=3,padding=1)\n",
    "        self.maxpool1 = nn.MaxPool2d(2)\n",
    "        self.dense1 = nn.Linear(10*16*16,10)\n",
    "    def forward(self,x):\n",
    "        out = self.cnn1(x)\n",
    "        out = self.maxpool1(out)\n",
    "        \n",
    "        out = out.view(out.shape[0],-1)\n",
    "        \n",
    "        out = self.dense1(out)\n",
    "#         out = F.softmax(out)\n",
    "        \n",
    "        return out\n",
    "        \n",
    "        "
   ]
  },
  {
   "cell_type": "code",
   "execution_count": 19,
   "metadata": {},
   "outputs": [],
   "source": [
    "device = \"cuda\" if torch.cuda.is_available() else \"cpu\""
   ]
  },
  {
   "cell_type": "code",
   "execution_count": 20,
   "metadata": {},
   "outputs": [],
   "source": [
    "CNN = CNNModel().to(device)"
   ]
  },
  {
   "cell_type": "code",
   "execution_count": 21,
   "metadata": {},
   "outputs": [],
   "source": [
    "lr = 0.001\n",
    "optimizer = optim.SGD(CNN.parameters(),lr= lr,momentum=0.6)\n",
    "criterion = nn.CrossEntropyLoss()"
   ]
  },
  {
   "cell_type": "code",
   "execution_count": 22,
   "metadata": {},
   "outputs": [],
   "source": [
    "epochs = 25\n",
    "iter_n = 0"
   ]
  },
  {
   "cell_type": "code",
   "execution_count": 23,
   "metadata": {},
   "outputs": [
    {
     "name": "stdout",
     "output_type": "stream",
     "text": [
      "Epoch 1 of 25\n",
      "Iteration: 175. Loss: 2.124326705932617. Accuracy: 28.0\n",
      "Iteration: 350. Loss: 1.9787156581878662. Accuracy: 33.0\n",
      "Epoch 2 of 25\n",
      "Iteration: 175. Loss: 2.013085126876831. Accuracy: 39.0\n",
      "Iteration: 350. Loss: 1.9163126945495605. Accuracy: 32.0\n",
      "Epoch 3 of 25\n",
      "Iteration: 175. Loss: 1.774092197418213. Accuracy: 33.0\n",
      "Iteration: 350. Loss: 1.7162063121795654. Accuracy: 40.0\n",
      "Epoch 4 of 25\n",
      "Iteration: 175. Loss: 1.7078090906143188. Accuracy: 46.0\n",
      "Iteration: 350. Loss: 1.845811367034912. Accuracy: 44.0\n",
      "Epoch 5 of 25\n",
      "Iteration: 175. Loss: 1.7281628847122192. Accuracy: 40.0\n",
      "Iteration: 350. Loss: 1.7075647115707397. Accuracy: 43.0\n",
      "Epoch 6 of 25\n",
      "Iteration: 175. Loss: 1.7761001586914062. Accuracy: 33.0\n",
      "Iteration: 350. Loss: 1.8249270915985107. Accuracy: 56.0\n",
      "Epoch 7 of 25\n",
      "Iteration: 175. Loss: 1.672524094581604. Accuracy: 42.0\n",
      "Iteration: 350. Loss: 1.5903080701828003. Accuracy: 38.0\n",
      "Epoch 8 of 25\n",
      "Iteration: 175. Loss: 1.6998672485351562. Accuracy: 43.0\n",
      "Iteration: 350. Loss: 1.709164023399353. Accuracy: 47.0\n",
      "Epoch 9 of 25\n",
      "Iteration: 175. Loss: 1.5956379175186157. Accuracy: 50.0\n",
      "Iteration: 350. Loss: 1.6750233173370361. Accuracy: 42.0\n",
      "Epoch 10 of 25\n",
      "Iteration: 175. Loss: 1.7792787551879883. Accuracy: 44.0\n",
      "Iteration: 350. Loss: 1.5069831609725952. Accuracy: 56.0\n",
      "Epoch 11 of 25\n",
      "Iteration: 175. Loss: 1.8373302221298218. Accuracy: 43.0\n",
      "Iteration: 350. Loss: 1.7328410148620605. Accuracy: 46.0\n",
      "Epoch 12 of 25\n",
      "Iteration: 175. Loss: 1.5402179956436157. Accuracy: 41.0\n",
      "Iteration: 350. Loss: 1.7363003492355347. Accuracy: 43.0\n",
      "Epoch 13 of 25\n",
      "Iteration: 175. Loss: 1.3887906074523926. Accuracy: 44.0\n",
      "Iteration: 350. Loss: 1.6053810119628906. Accuracy: 51.0\n",
      "Epoch 14 of 25\n",
      "Iteration: 175. Loss: 1.7104957103729248. Accuracy: 43.0\n",
      "Iteration: 350. Loss: 1.5798208713531494. Accuracy: 45.0\n",
      "Epoch 15 of 25\n",
      "Iteration: 175. Loss: 1.5584110021591187. Accuracy: 40.0\n",
      "Iteration: 350. Loss: 1.538930058479309. Accuracy: 45.0\n",
      "Epoch 16 of 25\n",
      "Iteration: 175. Loss: 1.6357786655426025. Accuracy: 38.0\n",
      "Iteration: 350. Loss: 1.426658272743225. Accuracy: 56.0\n",
      "Epoch 17 of 25\n",
      "Iteration: 175. Loss: 1.4148690700531006. Accuracy: 41.0\n",
      "Iteration: 350. Loss: 1.5943841934204102. Accuracy: 48.0\n",
      "Epoch 18 of 25\n",
      "Iteration: 175. Loss: 1.508500099182129. Accuracy: 47.0\n",
      "Iteration: 350. Loss: 1.7761098146438599. Accuracy: 50.0\n",
      "Epoch 19 of 25\n",
      "Iteration: 175. Loss: 1.5149095058441162. Accuracy: 45.0\n",
      "Iteration: 350. Loss: 1.5899462699890137. Accuracy: 52.0\n",
      "Epoch 20 of 25\n",
      "Iteration: 175. Loss: 1.4336788654327393. Accuracy: 44.0\n",
      "Iteration: 350. Loss: 1.5952725410461426. Accuracy: 56.0\n",
      "Epoch 21 of 25\n",
      "Iteration: 175. Loss: 1.349664330482483. Accuracy: 55.0\n",
      "Iteration: 350. Loss: 1.3977562189102173. Accuracy: 50.0\n",
      "Epoch 22 of 25\n",
      "Iteration: 175. Loss: 1.5957229137420654. Accuracy: 45.0\n",
      "Iteration: 350. Loss: 1.2351897954940796. Accuracy: 52.0\n",
      "Epoch 23 of 25\n",
      "Iteration: 175. Loss: 1.2860561609268188. Accuracy: 56.0\n",
      "Iteration: 350. Loss: 1.4628493785858154. Accuracy: 57.0\n",
      "Epoch 24 of 25\n",
      "Iteration: 175. Loss: 1.3280270099639893. Accuracy: 50.0\n",
      "Iteration: 350. Loss: 1.2865849733352661. Accuracy: 43.0\n",
      "Epoch 25 of 25\n",
      "Iteration: 175. Loss: 1.4760870933532715. Accuracy: 53.0\n",
      "Iteration: 350. Loss: 1.4938381910324097. Accuracy: 53.0\n"
     ]
    }
   ],
   "source": [
    "for e in range(epochs):\n",
    "    iter_n = 0\n",
    "    print(\"Epoch %d of %d\"%(e+1,epochs))\n",
    "    for imgs,labels in train_loader:\n",
    "        \n",
    "        imgs = imgs.to(device)\n",
    "        labels = labels.to(device)\n",
    "#         print(imgs.shape)\n",
    "        optimizer.zero_grad()\n",
    "        \n",
    "        preds = CNN(imgs)\n",
    "        loss = criterion(preds,labels)\n",
    "        \n",
    "        loss.backward()\n",
    "        optimizer.step()\n",
    "        \n",
    "        iter_n+=1\n",
    "#         print(iter_n)\n",
    "        if iter_n % 175 == 0:\n",
    "            total = 0\n",
    "            correct = 0\n",
    "            \n",
    "            for imgs,labels in valid_loader:\n",
    "                imgs = imgs.to(device)\n",
    "                labels = labels.to(device)\n",
    "                \n",
    "                preds = CNN(imgs)\n",
    "                outputs = torch.argmax(preds.data,1)\n",
    "                \n",
    "                total += imgs.shape[0]\n",
    "                \n",
    "                correct += 100.0*(outputs.cpu() == labels.cpu()).sum()\n",
    "                \n",
    "                if total>= 50:\n",
    "                    break\n",
    "            accuracy = correct/total\n",
    "            print('Iteration: {}. Loss: {}. Accuracy: {}'.format(iter_n, loss.item(), accuracy))\n",
    "                \n",
    "        "
   ]
  },
  {
   "cell_type": "code",
   "execution_count": 24,
   "metadata": {},
   "outputs": [
    {
     "name": "stdout",
     "output_type": "stream",
     "text": [
      "Accuracy: 51.186668395996094\n"
     ]
    }
   ],
   "source": [
    "total = 0\n",
    "correct = 0\n",
    "for imgs,labels in valid_loader:\n",
    "    imgs = imgs.to(device)\n",
    "    labels = labels.to(device)\n",
    "\n",
    "    preds = CNN(imgs)\n",
    "    outputs = torch.argmax(preds.data,1)\n",
    "\n",
    "    total += imgs.shape[0]\n",
    "\n",
    "    correct += 100.0*(outputs.cpu() == labels.cpu()).sum()\n",
    "accuracy = correct/total\n",
    "print('Accuracy: {}'.format(accuracy))\n"
   ]
  },
  {
   "cell_type": "code",
   "execution_count": 25,
   "metadata": {},
   "outputs": [
    {
     "name": "stdout",
     "output_type": "stream",
     "text": [
      "Training Accuracy: 52.702857971191406\n"
     ]
    }
   ],
   "source": [
    "total = 0\n",
    "correct = 0\n",
    "for imgs,labels in train_loader:\n",
    "    imgs = imgs.to(device)\n",
    "    labels = labels.to(device)\n",
    "\n",
    "    preds = CNN(imgs)\n",
    "    outputs = torch.argmax(preds.data,1)\n",
    "\n",
    "    total += imgs.shape[0]\n",
    "\n",
    "    correct += 100.0*(outputs.cpu() == labels.cpu()).sum()\n",
    "accuracy = correct/total\n",
    "print('Training Accuracy: {}'.format(accuracy))\n"
   ]
  },
  {
   "cell_type": "markdown",
   "metadata": {},
   "source": [
    "## 1 CNN, 1 BNorm, 2 Dense"
   ]
  },
  {
   "cell_type": "code",
   "execution_count": 26,
   "metadata": {},
   "outputs": [],
   "source": [
    "class CNNModel(nn.Module):\n",
    "    def __init__(self):\n",
    "        super().__init__()\n",
    "        self.cnn1 = nn.Conv2d(3,10,kernel_size=3,padding=1)\n",
    "        self.bnorm1 = nn.BatchNorm2d(10)\n",
    "        self.maxpool1 = nn.MaxPool2d(2)\n",
    "        self.dense1 = nn.Linear(10*16*16,64)\n",
    "        self.dense2 = nn.Linear(64,10)\n",
    "    def forward(self,x):\n",
    "        out = self.cnn1(x)\n",
    "        out = self.bnorm1(out)\n",
    "        out = self.maxpool1(out)\n",
    "        \n",
    "        out = out.view(out.shape[0],-1)\n",
    "        \n",
    "        out = F.relu(self.dense1(out))\n",
    "        out = self.dense2(out)\n",
    "#         out = F.softmax(out)\n",
    "        \n",
    "        return out\n",
    "        \n",
    "        "
   ]
  },
  {
   "cell_type": "code",
   "execution_count": 27,
   "metadata": {},
   "outputs": [],
   "source": [
    "device = \"cuda\" if torch.cuda.is_available() else \"cpu\""
   ]
  },
  {
   "cell_type": "code",
   "execution_count": 28,
   "metadata": {},
   "outputs": [],
   "source": [
    "CNN = CNNModel().to(device)"
   ]
  },
  {
   "cell_type": "code",
   "execution_count": 29,
   "metadata": {},
   "outputs": [],
   "source": [
    "lr = 0.001\n",
    "optimizer = optim.SGD(CNN.parameters(),lr= lr,momentum=0.6)\n",
    "criterion = nn.CrossEntropyLoss()"
   ]
  },
  {
   "cell_type": "code",
   "execution_count": 30,
   "metadata": {},
   "outputs": [],
   "source": [
    "epochs = 25\n",
    "iter_n = 0"
   ]
  },
  {
   "cell_type": "code",
   "execution_count": 31,
   "metadata": {},
   "outputs": [
    {
     "name": "stdout",
     "output_type": "stream",
     "text": [
      "Epoch 1 of 25\n",
      "Iteration: 175. Loss: 2.023902416229248. Accuracy: 25.0\n",
      "Iteration: 350. Loss: 1.8540083169937134. Accuracy: 34.0\n",
      "Epoch 2 of 25\n",
      "Iteration: 175. Loss: 1.7243174314498901. Accuracy: 42.0\n",
      "Iteration: 350. Loss: 1.6832270622253418. Accuracy: 41.0\n",
      "Epoch 3 of 25\n",
      "Iteration: 175. Loss: 1.773441195487976. Accuracy: 53.0\n",
      "Iteration: 350. Loss: 1.5154191255569458. Accuracy: 45.0\n",
      "Epoch 4 of 25\n",
      "Iteration: 175. Loss: 1.5528068542480469. Accuracy: 46.0\n",
      "Iteration: 350. Loss: 1.4188392162322998. Accuracy: 60.0\n",
      "Epoch 5 of 25\n",
      "Iteration: 175. Loss: 1.4498469829559326. Accuracy: 57.0\n",
      "Iteration: 350. Loss: 1.51395583152771. Accuracy: 49.0\n",
      "Epoch 6 of 25\n",
      "Iteration: 175. Loss: 1.5980825424194336. Accuracy: 47.0\n",
      "Iteration: 350. Loss: 1.4037319421768188. Accuracy: 45.0\n",
      "Epoch 7 of 25\n",
      "Iteration: 175. Loss: 1.406535029411316. Accuracy: 46.0\n",
      "Iteration: 350. Loss: 1.347397804260254. Accuracy: 46.0\n",
      "Epoch 8 of 25\n",
      "Iteration: 175. Loss: 1.3898385763168335. Accuracy: 49.0\n",
      "Iteration: 350. Loss: 1.2868565320968628. Accuracy: 53.0\n",
      "Epoch 9 of 25\n",
      "Iteration: 175. Loss: 1.2586497068405151. Accuracy: 55.0\n",
      "Iteration: 350. Loss: 1.3653243780136108. Accuracy: 46.0\n",
      "Epoch 10 of 25\n",
      "Iteration: 175. Loss: 1.237270474433899. Accuracy: 55.0\n",
      "Iteration: 350. Loss: 1.2376576662063599. Accuracy: 57.0\n",
      "Epoch 11 of 25\n",
      "Iteration: 175. Loss: 1.4653087854385376. Accuracy: 58.0\n",
      "Iteration: 350. Loss: 1.1152544021606445. Accuracy: 51.0\n",
      "Epoch 12 of 25\n",
      "Iteration: 175. Loss: 1.0319942235946655. Accuracy: 59.0\n",
      "Iteration: 350. Loss: 1.3084263801574707. Accuracy: 57.0\n",
      "Epoch 13 of 25\n",
      "Iteration: 175. Loss: 1.1617445945739746. Accuracy: 65.0\n",
      "Iteration: 350. Loss: 1.2047637701034546. Accuracy: 61.0\n",
      "Epoch 14 of 25\n",
      "Iteration: 175. Loss: 1.2550143003463745. Accuracy: 53.0\n",
      "Iteration: 350. Loss: 1.330048680305481. Accuracy: 59.0\n",
      "Epoch 15 of 25\n",
      "Iteration: 175. Loss: 1.217016577720642. Accuracy: 55.0\n",
      "Iteration: 350. Loss: 1.1601678133010864. Accuracy: 57.0\n",
      "Epoch 16 of 25\n",
      "Iteration: 175. Loss: 1.2384686470031738. Accuracy: 54.0\n",
      "Iteration: 350. Loss: 1.0458282232284546. Accuracy: 60.0\n",
      "Epoch 17 of 25\n",
      "Iteration: 175. Loss: 1.1002635955810547. Accuracy: 61.0\n",
      "Iteration: 350. Loss: 1.0341126918792725. Accuracy: 66.0\n",
      "Epoch 18 of 25\n",
      "Iteration: 175. Loss: 1.0560619831085205. Accuracy: 65.0\n",
      "Iteration: 350. Loss: 0.9316098093986511. Accuracy: 56.0\n",
      "Epoch 19 of 25\n",
      "Iteration: 175. Loss: 1.3132221698760986. Accuracy: 59.0\n",
      "Iteration: 350. Loss: 0.9631852507591248. Accuracy: 69.0\n",
      "Epoch 20 of 25\n",
      "Iteration: 175. Loss: 1.0124735832214355. Accuracy: 54.0\n",
      "Iteration: 350. Loss: 1.0144743919372559. Accuracy: 51.0\n",
      "Epoch 21 of 25\n",
      "Iteration: 175. Loss: 1.0863909721374512. Accuracy: 62.0\n",
      "Iteration: 350. Loss: 1.0654873847961426. Accuracy: 61.0\n",
      "Epoch 22 of 25\n",
      "Iteration: 175. Loss: 0.9505099654197693. Accuracy: 67.0\n",
      "Iteration: 350. Loss: 1.0087658166885376. Accuracy: 67.0\n",
      "Epoch 23 of 25\n",
      "Iteration: 175. Loss: 0.9027659893035889. Accuracy: 58.0\n",
      "Iteration: 350. Loss: 1.1367120742797852. Accuracy: 62.0\n",
      "Epoch 24 of 25\n",
      "Iteration: 175. Loss: 0.9059455990791321. Accuracy: 61.0\n",
      "Iteration: 350. Loss: 0.8982940912246704. Accuracy: 59.0\n",
      "Epoch 25 of 25\n",
      "Iteration: 175. Loss: 1.059083104133606. Accuracy: 55.0\n",
      "Iteration: 350. Loss: 1.1373575925827026. Accuracy: 61.0\n"
     ]
    }
   ],
   "source": [
    "for e in range(epochs):\n",
    "    iter_n = 0\n",
    "    print(\"Epoch %d of %d\"%(e+1,epochs))\n",
    "    for imgs,labels in train_loader:\n",
    "        \n",
    "        imgs = imgs.to(device)\n",
    "        labels = labels.to(device)\n",
    "#         print(imgs.shape)\n",
    "        optimizer.zero_grad()\n",
    "        \n",
    "        preds = CNN(imgs)\n",
    "        loss = criterion(preds,labels)\n",
    "        \n",
    "        loss.backward()\n",
    "        optimizer.step()\n",
    "        \n",
    "        iter_n+=1\n",
    "#         print(iter_n)\n",
    "        if iter_n % 175 == 0:\n",
    "            total = 0\n",
    "            correct = 0\n",
    "            \n",
    "            for imgs,labels in valid_loader:\n",
    "                imgs = imgs.to(device)\n",
    "                labels = labels.to(device)\n",
    "                \n",
    "                preds = CNN(imgs)\n",
    "                outputs = torch.argmax(preds.data,1)\n",
    "                \n",
    "                total += imgs.shape[0]\n",
    "                \n",
    "                correct += 100.0*(outputs.cpu() == labels.cpu()).sum()\n",
    "                \n",
    "                if total>= 50:\n",
    "                    break\n",
    "            accuracy = correct/total\n",
    "            print('Iteration: {}. Loss: {}. Accuracy: {}'.format(iter_n, loss.item(), accuracy))\n",
    "                \n",
    "        "
   ]
  },
  {
   "cell_type": "code",
   "execution_count": 32,
   "metadata": {},
   "outputs": [
    {
     "name": "stdout",
     "output_type": "stream",
     "text": [
      "Accuracy: 61.393333435058594\n"
     ]
    }
   ],
   "source": [
    "total = 0\n",
    "correct = 0\n",
    "for imgs,labels in valid_loader:\n",
    "    imgs = imgs.to(device)\n",
    "    labels = labels.to(device)\n",
    "\n",
    "    preds = CNN(imgs)\n",
    "    outputs = torch.argmax(preds.data,1)\n",
    "\n",
    "    total += imgs.shape[0]\n",
    "\n",
    "    correct += 100.0*(outputs.cpu() == labels.cpu()).sum()\n",
    "accuracy = correct/total\n",
    "print('Accuracy: {}'.format(accuracy))\n"
   ]
  },
  {
   "cell_type": "code",
   "execution_count": 33,
   "metadata": {},
   "outputs": [
    {
     "name": "stdout",
     "output_type": "stream",
     "text": [
      "Training Accuracy: 67.55714416503906\n"
     ]
    }
   ],
   "source": [
    "total = 0\n",
    "correct = 0\n",
    "for imgs,labels in train_loader:\n",
    "    imgs = imgs.to(device)\n",
    "    labels = labels.to(device)\n",
    "\n",
    "    preds = CNN(imgs)\n",
    "    outputs = torch.argmax(preds.data,1)\n",
    "\n",
    "    total += imgs.shape[0]\n",
    "\n",
    "    correct += 100.0*(outputs.cpu() == labels.cpu()).sum()\n",
    "accuracy = correct/total\n",
    "print('Training Accuracy: {}'.format(accuracy))\n"
   ]
  },
  {
   "cell_type": "markdown",
   "metadata": {},
   "source": [
    "## 2 CNN, 1 BNorm, 1 Dense"
   ]
  },
  {
   "cell_type": "code",
   "execution_count": 34,
   "metadata": {},
   "outputs": [],
   "source": [
    "class CNNModel(nn.Module):\n",
    "    def __init__(self):\n",
    "        super().__init__()\n",
    "        self.cnn1 = nn.Conv2d(3,10,kernel_size=3,padding=1)\n",
    "        self.cnn2 = nn.Conv2d(10,20,kernel_size=3,padding=1)\n",
    "        self.bnorm1 = nn.BatchNorm2d(20)\n",
    "        self.maxpool1 = nn.MaxPool2d(2)\n",
    "        self.dense1 = nn.Linear(20*16*16,10)\n",
    "    def forward(self,x):\n",
    "        out = self.cnn1(x)\n",
    "        out = self.cnn2(out)\n",
    "        out = self.bnorm1(out)\n",
    "        out = self.maxpool1(out)\n",
    "        \n",
    "        out = out.view(out.shape[0],-1)\n",
    "        \n",
    "        out = self.dense1(out)\n",
    "#         out = F.softmax(out)\n",
    "        \n",
    "        return out\n",
    "        \n",
    "        "
   ]
  },
  {
   "cell_type": "code",
   "execution_count": 35,
   "metadata": {},
   "outputs": [],
   "source": [
    "device = \"cuda\" if torch.cuda.is_available() else \"cpu\""
   ]
  },
  {
   "cell_type": "code",
   "execution_count": 36,
   "metadata": {},
   "outputs": [],
   "source": [
    "CNN = CNNModel().to(device)"
   ]
  },
  {
   "cell_type": "code",
   "execution_count": 37,
   "metadata": {},
   "outputs": [],
   "source": [
    "lr = 0.001\n",
    "optimizer = optim.SGD(CNN.parameters(),lr= lr,momentum=0.6)\n",
    "criterion = nn.CrossEntropyLoss()"
   ]
  },
  {
   "cell_type": "code",
   "execution_count": 38,
   "metadata": {},
   "outputs": [],
   "source": [
    "epochs = 25\n",
    "iter_n = 0\n",
    "iter_total = 0\n",
    "stats_list = list()"
   ]
  },
  {
   "cell_type": "code",
   "execution_count": 39,
   "metadata": {},
   "outputs": [
    {
     "name": "stdout",
     "output_type": "stream",
     "text": [
      "Epoch 1 of 25\n",
      "Iteration: 175. Loss: 1.6239798069000244. Accuracy: 31.0\n",
      "Iteration: 350. Loss: 1.701645016670227. Accuracy: 35.0\n",
      "Epoch 2 of 25\n",
      "Iteration: 175. Loss: 1.4557839632034302. Accuracy: 49.0\n",
      "Iteration: 350. Loss: 1.7034544944763184. Accuracy: 49.0\n",
      "Epoch 3 of 25\n",
      "Iteration: 175. Loss: 1.5431945323944092. Accuracy: 48.0\n",
      "Iteration: 350. Loss: 1.2970494031906128. Accuracy: 56.0\n",
      "Epoch 4 of 25\n",
      "Iteration: 175. Loss: 1.2917627096176147. Accuracy: 47.0\n",
      "Iteration: 350. Loss: 1.3724523782730103. Accuracy: 56.0\n",
      "Epoch 5 of 25\n",
      "Iteration: 175. Loss: 1.1539332866668701. Accuracy: 56.0\n",
      "Iteration: 350. Loss: 1.1712507009506226. Accuracy: 62.0\n",
      "Epoch 6 of 25\n",
      "Iteration: 175. Loss: 1.1930333375930786. Accuracy: 48.0\n",
      "Iteration: 350. Loss: 1.1797661781311035. Accuracy: 51.0\n",
      "Epoch 7 of 25\n",
      "Iteration: 175. Loss: 1.3225159645080566. Accuracy: 57.0\n",
      "Iteration: 350. Loss: 1.0321884155273438. Accuracy: 62.0\n",
      "Epoch 8 of 25\n",
      "Iteration: 175. Loss: 1.1002166271209717. Accuracy: 61.0\n",
      "Iteration: 350. Loss: 1.2034785747528076. Accuracy: 57.0\n",
      "Epoch 9 of 25\n",
      "Iteration: 175. Loss: 1.0460388660430908. Accuracy: 64.0\n",
      "Iteration: 350. Loss: 1.0292967557907104. Accuracy: 61.0\n",
      "Epoch 10 of 25\n",
      "Iteration: 175. Loss: 1.0001749992370605. Accuracy: 64.0\n",
      "Iteration: 350. Loss: 1.1503342390060425. Accuracy: 64.0\n",
      "Epoch 11 of 25\n",
      "Iteration: 175. Loss: 0.990119457244873. Accuracy: 66.0\n",
      "Iteration: 350. Loss: 1.0653715133666992. Accuracy: 62.0\n",
      "Epoch 12 of 25\n",
      "Iteration: 175. Loss: 1.0643161535263062. Accuracy: 61.0\n",
      "Iteration: 350. Loss: 0.9010597467422485. Accuracy: 67.0\n",
      "Epoch 13 of 25\n",
      "Iteration: 175. Loss: 0.9161063432693481. Accuracy: 60.0\n",
      "Iteration: 350. Loss: 0.9490609765052795. Accuracy: 71.0\n",
      "Epoch 14 of 25\n",
      "Iteration: 175. Loss: 0.8530521392822266. Accuracy: 60.0\n",
      "Iteration: 350. Loss: 0.8692176938056946. Accuracy: 58.0\n",
      "Epoch 15 of 25\n",
      "Iteration: 175. Loss: 0.852801501750946. Accuracy: 60.0\n",
      "Iteration: 350. Loss: 1.0346537828445435. Accuracy: 65.0\n",
      "Epoch 16 of 25\n",
      "Iteration: 175. Loss: 0.8384265899658203. Accuracy: 66.0\n",
      "Iteration: 350. Loss: 0.985515832901001. Accuracy: 63.0\n",
      "Epoch 17 of 25\n",
      "Iteration: 175. Loss: 1.0545140504837036. Accuracy: 62.0\n",
      "Iteration: 350. Loss: 0.8964484333992004. Accuracy: 64.0\n",
      "Epoch 18 of 25\n",
      "Iteration: 175. Loss: 0.9853512048721313. Accuracy: 70.0\n",
      "Iteration: 350. Loss: 0.7341181039810181. Accuracy: 62.0\n",
      "Epoch 19 of 25\n",
      "Iteration: 175. Loss: 0.8220788836479187. Accuracy: 64.0\n",
      "Iteration: 350. Loss: 0.9817277789115906. Accuracy: 54.0\n",
      "Epoch 20 of 25\n",
      "Iteration: 175. Loss: 0.6337323784828186. Accuracy: 54.0\n",
      "Iteration: 350. Loss: 0.8633731007575989. Accuracy: 56.0\n",
      "Epoch 21 of 25\n",
      "Iteration: 175. Loss: 0.8007894158363342. Accuracy: 56.0\n",
      "Iteration: 350. Loss: 0.9160900115966797. Accuracy: 70.0\n",
      "Epoch 22 of 25\n",
      "Iteration: 175. Loss: 0.6519418954849243. Accuracy: 64.0\n",
      "Iteration: 350. Loss: 0.9056691527366638. Accuracy: 67.0\n",
      "Epoch 23 of 25\n",
      "Iteration: 175. Loss: 0.7810207605361938. Accuracy: 56.0\n",
      "Iteration: 350. Loss: 0.8213728070259094. Accuracy: 63.0\n",
      "Epoch 24 of 25\n",
      "Iteration: 175. Loss: 0.7378716468811035. Accuracy: 65.0\n",
      "Iteration: 350. Loss: 0.9289161562919617. Accuracy: 65.0\n",
      "Epoch 25 of 25\n",
      "Iteration: 175. Loss: 0.7536807060241699. Accuracy: 67.0\n",
      "Iteration: 350. Loss: 0.8318017721176147. Accuracy: 58.0\n"
     ]
    }
   ],
   "source": [
    "for e in range(epochs):\n",
    "    iter_n = 0\n",
    "    print(\"Epoch %d of %d\"%(e+1,epochs))\n",
    "    for imgs,labels in train_loader:\n",
    "        \n",
    "        imgs = imgs.to(device)\n",
    "        labels = labels.to(device)\n",
    "#         print(imgs.shape)\n",
    "        optimizer.zero_grad()\n",
    "        \n",
    "        preds = CNN(imgs)\n",
    "        loss = criterion(preds,labels)\n",
    "        \n",
    "        loss.backward()\n",
    "        optimizer.step()\n",
    "        \n",
    "        iter_n+=1\n",
    "        iter_total += 1\n",
    "#         print(iter_n)\n",
    "        if iter_n % 175 == 0:\n",
    "            total = 0\n",
    "            correct = 0\n",
    "            \n",
    "            for imgs,labels in valid_loader:\n",
    "                imgs = imgs.to(device)\n",
    "                labels = labels.to(device)\n",
    "                \n",
    "                preds = CNN(imgs)\n",
    "                outputs = torch.argmax(preds.data,1)\n",
    "                test_loss = criterion(preds,labels)\n",
    "                total += imgs.shape[0]\n",
    "                \n",
    "                correct += 100.0*(outputs.cpu() == labels.cpu()).sum()\n",
    "                \n",
    "                if total>= 50:\n",
    "                    break\n",
    "            accuracy = correct/total\n",
    "            correct = 0\n",
    "            total = 0\n",
    "            for imgs,labels in train_loader:\n",
    "                imgs = imgs.to(device)\n",
    "                labels = labels.to(device)\n",
    "                \n",
    "                preds = CNN(imgs)\n",
    "                outputs = torch.argmax(preds.data,1)\n",
    "                train_loss = criterion(preds,labels)\n",
    "                total += imgs.shape[0]\n",
    "                \n",
    "                correct += 100.0*(outputs.cpu() == labels.cpu()).sum()\n",
    "                \n",
    "                if total>= 50:\n",
    "                    break\n",
    "            train_acc = correct/total\n",
    "            if iter_n%350 == 0:\n",
    "                stats_list.append([train_acc,accuracy,train_loss,test_loss])\n",
    "            print('Iteration: {}. Loss: {}. Accuracy: {}'.format(iter_n, loss.item(), accuracy))\n",
    "                \n",
    "        "
   ]
  },
  {
   "cell_type": "code",
   "execution_count": 40,
   "metadata": {},
   "outputs": [
    {
     "name": "stdout",
     "output_type": "stream",
     "text": [
      "Accuracy: 63.573333740234375\n"
     ]
    }
   ],
   "source": [
    "total = 0\n",
    "correct = 0\n",
    "for imgs,labels in valid_loader:\n",
    "    imgs = imgs.to(device)\n",
    "    labels = labels.to(device)\n",
    "\n",
    "    preds = CNN(imgs)\n",
    "    outputs = torch.argmax(preds.data,1)\n",
    "\n",
    "    total += imgs.shape[0]\n",
    "\n",
    "    correct += 100.0*(outputs.cpu() == labels.cpu()).sum()\n",
    "accuracy = correct/total\n",
    "print('Accuracy: {}'.format(accuracy))\n"
   ]
  },
  {
   "cell_type": "code",
   "execution_count": 41,
   "metadata": {},
   "outputs": [
    {
     "name": "stdout",
     "output_type": "stream",
     "text": [
      "Training Accuracy: 73.82286071777344\n"
     ]
    }
   ],
   "source": [
    "total = 0\n",
    "correct = 0\n",
    "for imgs,labels in train_loader:\n",
    "    imgs = imgs.to(device)\n",
    "    labels = labels.to(device)\n",
    "\n",
    "    preds = CNN(imgs)\n",
    "    outputs = torch.argmax(preds.data,1)\n",
    "\n",
    "    total += imgs.shape[0]\n",
    "\n",
    "    correct += 100.0*(outputs.cpu() == labels.cpu()).sum()\n",
    "accuracy = correct/total\n",
    "print('Training Accuracy: {}'.format(accuracy))\n"
   ]
  },
  {
   "cell_type": "code",
   "execution_count": 42,
   "metadata": {},
   "outputs": [
    {
     "data": {
      "image/png": "[encoded data removed]",
      "text/plain": [
       "<Figure size 432x288 with 1 Axes>"
      ]
     },
     "metadata": {
      "needs_background": "light"
     },
     "output_type": "display_data"
    },
    {
     "data": {
      "image/png": "[encoded data removed]",
      "text/plain": [
       "<Figure size 432x288 with 1 Axes>"
      ]
     },
     "metadata": {
      "needs_background": "light"
     },
     "output_type": "display_data"
    }
   ],
   "source": [
    "stats_np = np.array(stats_list)\n",
    "plt.figure()\n",
    "plt.plot(list(range(1,stats_np.shape[0]+1)),stats_np[:,0],label = \"Training Accuracy\",)\n",
    "plt.plot(list(range(1,stats_np.shape[0]+1)),stats_np[:,1],label = \"Validation Accuracy\")\n",
    "plt.legend()\n",
    "plt.xlabel('Epochs')\n",
    "plt.ylabel('Accuracy')\n",
    "plt.title(\"Epochs vs Accuracy\")\n",
    "plt.show()\n",
    "\n",
    "plt.figure()\n",
    "plt.plot(list(range(1,stats_np.shape[0]+1)),stats_np[:,2],label = \"Training Loss\",)\n",
    "plt.plot(list(range(1,stats_np.shape[0]+1)),stats_np[:,3],label = \"Validation Loss\")\n",
    "plt.legend()\n",
    "plt.xlabel('Epochs')\n",
    "plt.ylabel('Loss')\n",
    "plt.title(\"Epochs vs Loss\")\n",
    "plt.show()"
   ]
  },
  {
   "cell_type": "code",
   "execution_count": 43,
   "metadata": {},
   "outputs": [
    {
     "data": {
      "text/plain": [
       "CNNModel(\n",
       "  (cnn1): Conv2d(3, 10, kernel_size=(3, 3), stride=(1, 1), padding=(1, 1))\n",
       "  (cnn2): Conv2d(10, 20, kernel_size=(3, 3), stride=(1, 1), padding=(1, 1))\n",
       "  (bnorm1): BatchNorm2d(20, eps=1e-05, momentum=0.1, affine=True, track_running_stats=True)\n",
       "  (maxpool1): MaxPool2d(kernel_size=2, stride=2, padding=0, dilation=1, ceil_mode=False)\n",
       "  (dense1): Linear(in_features=5120, out_features=10, bias=True)\n",
       ")"
      ]
     },
     "execution_count": 43,
     "metadata": {},
     "output_type": "execute_result"
    }
   ],
   "source": [
    "CNN"
   ]
  },
  {
   "cell_type": "code",
   "execution_count": 44,
   "metadata": {},
   "outputs": [],
   "source": [
    "torch.save(CNN.state_dict(), 'q1.pth')"
   ]
  },
  {
   "cell_type": "code",
   "execution_count": 46,
   "metadata": {},
   "outputs": [
    {
     "name": "stdout",
     "output_type": "stream",
     "text": [
      "Test Accuracy: 62.47999954223633\n"
     ]
    }
   ],
   "source": [
    "total = 0\n",
    "correct = 0\n",
    "for imgs,labels in test_loader:\n",
    "    imgs = imgs.to(device)\n",
    "    labels = labels.to(device)\n",
    "\n",
    "    preds = CNN(imgs)\n",
    "    outputs = torch.argmax(preds.data,1)\n",
    "\n",
    "    total += imgs.shape[0]\n",
    "\n",
    "    correct += 100.0*(outputs.cpu() == labels.cpu()).sum()\n",
    "accuracy = correct/total\n",
    "print('Test Accuracy: {}'.format(accuracy))\n"
   ]
  },
  {
   "cell_type": "code",
   "execution_count": null,
   "metadata": {},
   "outputs": [],
   "source": []
  }
 ],
 "metadata": {
  "kernelspec": {
   "display_name": "env",
   "language": "python",
   "name": "env"
  },
  "language_info": {
   "codemirror_mode": {
    "name": "ipython",
    "version": 3
   },
   "file_extension": ".py",
   "mimetype": "text/x-python",
   "name": "python",
   "nbconvert_exporter": "python",
   "pygments_lexer": "ipython3",
   "version": "3.7.4"
  }
 },
 "nbformat": 4,
 "nbformat_minor": 4
}
