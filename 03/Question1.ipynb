{
 "cells": [
  {
   "cell_type": "code",
   "execution_count": 2,
   "metadata": {},
   "outputs": [],
   "source": [
    "import torch\n",
    "import numpy as np\n",
    "from torch import nn\n",
    "import torchvision\n",
    "from torchvision import transforms, datasets\n",
    "from torch import optim\n",
    "from torch.utils.data.sampler import SubsetRandomSampler"
   ]
  },
  {
   "cell_type": "code",
   "execution_count": 3,
   "metadata": {},
   "outputs": [],
   "source": [
    "from matplotlib import pyplot as plt"
   ]
  },
  {
   "cell_type": "code",
   "execution_count": 4,
   "metadata": {},
   "outputs": [],
   "source": [
    "import torch.nn.functional as F"
   ]
  },
  {
   "cell_type": "code",
   "execution_count": 5,
   "metadata": {},
   "outputs": [],
   "source": [
    "transform = transforms.Compose([transforms.ToTensor(),\n",
    "                              transforms.Normalize((0.5,),(0.5,)),\n",
    "                              ])"
   ]
  },
  {
   "cell_type": "code",
   "execution_count": 6,
   "metadata": {},
   "outputs": [
    {
     "name": "stdout",
     "output_type": "stream",
     "text": [
      "Files already downloaded and verified\n",
      "Files already downloaded and verified\n",
      "Files already downloaded and verified\n"
     ]
    }
   ],
   "source": [
    "trainset= datasets.CIFAR10('~/.pytorch/CIFAR10_data/', train=True, download=True, transform=transform)\n",
    "\n",
    "validset= datasets.CIFAR10('~/.pytorch/CIFAR10_data/', train=True, download=True, transform=transform)\n",
    "\n",
    "testset= datasets.CIFAR10('~/.pytorch/CIFAR10_data/', train=False, download=True,transform=transform)"
   ]
  },
  {
   "cell_type": "code",
   "execution_count": 7,
   "metadata": {},
   "outputs": [],
   "source": [
    "num_train = len(trainset)\n",
    "num_test = len(testset)\n",
    "indices = list(range(num_train))\n",
    "split = int(np.floor(0.3 * num_train))\n",
    "\n",
    "np.random.seed(42)\n",
    "np.random.shuffle(indices)\n",
    "batch_size = 100\n",
    "pin_memory = 1\n",
    "num_workers = 1"
   ]
  },
  {
   "cell_type": "code",
   "execution_count": 8,
   "metadata": {},
   "outputs": [],
   "source": [
    "train_idx, valid_idx = indices[split:], indices[:split]\n",
    "train_sampler = SubsetRandomSampler(train_idx)\n",
    "valid_sampler = SubsetRandomSampler(valid_idx)\n",
    "train_loader = torch.utils.data.DataLoader(\n",
    "    trainset, batch_size=batch_size, sampler=train_sampler,\n",
    "    num_workers=num_workers, pin_memory=pin_memory,\n",
    ")\n",
    "valid_loader = torch.utils.data.DataLoader(\n",
    "    validset, batch_size=batch_size, sampler=valid_sampler,\n",
    "    num_workers=num_workers, pin_memory=pin_memory,\n",
    ")\n",
    "\n",
    "test_loader = torch.utils.data.DataLoader(\n",
    "    testset, batch_size=batch_size, num_workers=num_workers, \n",
    "    pin_memory=pin_memory, shuffle=True\n",
    ")"
   ]
  },
  {
   "cell_type": "code",
   "execution_count": 9,
   "metadata": {},
   "outputs": [
    {
     "name": "stdout",
     "output_type": "stream",
     "text": [
      "torch.Size([100, 3, 32, 32]) torch.Size([100])\n"
     ]
    }
   ],
   "source": [
    "for imgs,labels in test_loader:\n",
    "    print(imgs.shape,labels.shape)\n",
    "    break"
   ]
  },
  {
   "cell_type": "markdown",
   "metadata": {},
   "source": [
    "## 1 CNN, 1 BNorm, 1 Dense"
   ]
  },
  {
   "cell_type": "code",
   "execution_count": 9,
   "metadata": {},
   "outputs": [],
   "source": [
    "class CNNModel(nn.Module):\n",
    "    def __init__(self):\n",
    "        super().__init__()\n",
    "        self.cnn1 = nn.Conv2d(3,10,kernel_size=3,padding=1)\n",
    "        self.bnorm1 = nn.BatchNorm2d(10)\n",
    "        self.maxpool1 = nn.MaxPool2d(2)\n",
    "        self.dense1 = nn.Linear(10*16*16,10)\n",
    "    def forward(self,x):\n",
    "        out = self.cnn1(x)\n",
    "        out = self.bnorm1(out)\n",
    "        out = self.maxpool1(out)\n",
    "        \n",
    "        out = out.view(out.shape[0],-1)\n",
    "        \n",
    "        out = self.dense1(out)\n",
    "#         out = F.softmax(out)\n",
    "        \n",
    "        return out\n",
    "        \n",
    "        "
   ]
  },
  {
   "cell_type": "code",
   "execution_count": 10,
   "metadata": {},
   "outputs": [],
   "source": [
    "device = \"cuda\" if torch.cuda.is_available() else \"cpu\""
   ]
  },
  {
   "cell_type": "code",
   "execution_count": 16,
   "metadata": {},
   "outputs": [],
   "source": [
    "CNN = CNNModel().to(device)"
   ]
  },
  {
   "cell_type": "code",
   "execution_count": 17,
   "metadata": {},
   "outputs": [],
   "source": [
    "lr = 0.01\n",
    "optimizer = optim.SGD(CNN.parameters(),lr= lr,momentum=0.6,weight_decay=1e-5)\n",
    "criterion = nn.CrossEntropyLoss()"
   ]
  },
  {
   "cell_type": "code",
   "execution_count": 18,
   "metadata": {},
   "outputs": [],
   "source": [
    "epochs = 25\n",
    "iter_n = 0"
   ]
  },
  {
   "cell_type": "code",
   "execution_count": 19,
   "metadata": {
    "scrolled": false
   },
   "outputs": [
    {
     "name": "stdout",
     "output_type": "stream",
     "text": [
      "Epoch 1 of 25\n",
      "Iteration: 175. Loss: 1.7633722387041364. Accuracy: 48.0\n",
      "Iteration: 350. Loss: 1.6630644839150566. Accuracy: 52.0\n",
      "Epoch 2 of 25\n",
      "Iteration: 175. Loss: 1.4140754781450544. Accuracy: 56.0\n",
      "Iteration: 350. Loss: 1.393788630621774. Accuracy: 60.0\n",
      "Epoch 3 of 25\n",
      "Iteration: 175. Loss: 1.2753021914618357. Accuracy: 44.0\n",
      "Iteration: 350. Loss: 1.2773862630980355. Accuracy: 56.0\n",
      "Epoch 4 of 25\n",
      "Iteration: 175. Loss: 1.2061460954802377. Accuracy: 55.0\n",
      "Iteration: 350. Loss: 1.2043322122097015. Accuracy: 47.0\n",
      "Epoch 5 of 25\n",
      "Iteration: 175. Loss: 1.1535211191858563. Accuracy: 61.0\n",
      "Iteration: 350. Loss: 1.153523565701076. Accuracy: 46.0\n",
      "Epoch 6 of 25\n",
      "Iteration: 175. Loss: 1.1047233482769558. Accuracy: 63.0\n",
      "Iteration: 350. Loss: 1.1210886018616812. Accuracy: 60.0\n",
      "Epoch 7 of 25\n",
      "Iteration: 175. Loss: 1.0603500608035497. Accuracy: 48.0\n",
      "Iteration: 350. Loss: 1.0852601546900613. Accuracy: 55.0\n",
      "Epoch 8 of 25\n",
      "Iteration: 175. Loss: 1.0555381195885793. Accuracy: 56.0\n",
      "Iteration: 350. Loss: 1.0643004267556326. Accuracy: 62.0\n",
      "Epoch 9 of 25\n",
      "Iteration: 175. Loss: 1.032441098690033. Accuracy: 59.0\n",
      "Iteration: 350. Loss: 1.0460254393305097. Accuracy: 72.0\n",
      "Epoch 10 of 25\n",
      "Iteration: 175. Loss: 1.0172490528651645. Accuracy: 56.0\n",
      "Iteration: 350. Loss: 1.0269568037986756. Accuracy: 61.0\n",
      "Epoch 11 of 25\n",
      "Iteration: 175. Loss: 1.0083037059647697. Accuracy: 67.0\n",
      "Iteration: 350. Loss: 1.0121036205972944. Accuracy: 60.0\n",
      "Epoch 12 of 25\n",
      "Iteration: 175. Loss: 0.9801686164311. Accuracy: 64.0\n",
      "Iteration: 350. Loss: 1.0015020763874054. Accuracy: 64.0\n",
      "Epoch 13 of 25\n",
      "Iteration: 175. Loss: 0.9814280544008528. Accuracy: 63.0\n",
      "Iteration: 350. Loss: 0.9882428893021175. Accuracy: 59.0\n",
      "Epoch 14 of 25\n",
      "Iteration: 175. Loss: 0.9634232684544155. Accuracy: 50.0\n",
      "Iteration: 350. Loss: 0.9793786655153547. Accuracy: 58.0\n",
      "Epoch 15 of 25\n",
      "Iteration: 175. Loss: 0.9487274837493896. Accuracy: 63.0\n",
      "Iteration: 350. Loss: 0.9682722539561135. Accuracy: 64.0\n",
      "Epoch 16 of 25\n",
      "Iteration: 175. Loss: 0.9401553818157741. Accuracy: 62.0\n",
      "Iteration: 350. Loss: 0.9605083964552198. Accuracy: 58.0\n",
      "Epoch 17 of 25\n",
      "Iteration: 175. Loss: 0.9342468929290771. Accuracy: 56.0\n",
      "Iteration: 350. Loss: 0.9500101854119982. Accuracy: 52.0\n",
      "Epoch 18 of 25\n",
      "Iteration: 175. Loss: 0.9179392000607082. Accuracy: 60.0\n",
      "Iteration: 350. Loss: 0.9421957860674177. Accuracy: 65.0\n",
      "Epoch 19 of 25\n",
      "Iteration: 175. Loss: 0.9348360398837499. Accuracy: 55.0\n",
      "Iteration: 350. Loss: 0.9386732801369259. Accuracy: 59.0\n",
      "Epoch 20 of 25\n",
      "Iteration: 175. Loss: 0.9175172707012721. Accuracy: 68.0\n",
      "Iteration: 350. Loss: 0.9337866577080318. Accuracy: 62.0\n",
      "Epoch 21 of 25\n",
      "Iteration: 175. Loss: 0.9002431753703526. Accuracy: 59.0\n",
      "Iteration: 350. Loss: 0.9264529764652252. Accuracy: 53.0\n",
      "Epoch 22 of 25\n",
      "Iteration: 175. Loss: 0.8978859421185085. Accuracy: 54.0\n",
      "Iteration: 350. Loss: 0.9207201634134565. Accuracy: 59.0\n",
      "Epoch 23 of 25\n",
      "Iteration: 175. Loss: 0.8972252130508422. Accuracy: 56.0\n",
      "Iteration: 350. Loss: 0.9135028530870165. Accuracy: 54.0\n",
      "Epoch 24 of 25\n",
      "Iteration: 175. Loss: 0.88673068353108. Accuracy: 63.0\n",
      "Iteration: 350. Loss: 0.910787878887994. Accuracy: 59.0\n",
      "Epoch 25 of 25\n",
      "Iteration: 175. Loss: 0.8694790373529707. Accuracy: 55.0\n",
      "Iteration: 350. Loss: 0.9040527772903443. Accuracy: 67.0\n"
     ]
    }
   ],
   "source": [
    "for e in range(epochs):\n",
    "    iter_n = 0\n",
    "    loss_sum = 0\n",
    "    print(\"Epoch %d of %d\"%(e+1,epochs))\n",
    "    for imgs,labels in train_loader:\n",
    "        \n",
    "        imgs = imgs.to(device)\n",
    "        labels = labels.to(device)\n",
    "#         print(imgs.shape)\n",
    "        optimizer.zero_grad()\n",
    "        \n",
    "        preds = CNN(imgs)\n",
    "        loss = criterion(preds,labels)\n",
    "        \n",
    "        loss.backward()\n",
    "        optimizer.step()\n",
    "        loss_sum += loss.item()\n",
    "        iter_n+=1\n",
    "#         print(iter_n)\n",
    "        if iter_n % 175 == 0:\n",
    "            total = 0\n",
    "            correct = 0\n",
    "            \n",
    "            for imgs,labels in valid_loader:\n",
    "                imgs = imgs.to(device)\n",
    "                labels = labels.to(device)\n",
    "                \n",
    "                preds = CNN(imgs)\n",
    "                outputs = torch.argmax(preds.data,1)\n",
    "                \n",
    "                total += imgs.shape[0]\n",
    "                \n",
    "                correct += 100.0*(outputs.cpu() == labels.cpu()).sum()\n",
    "                \n",
    "                if total>= 50:\n",
    "                    break\n",
    "            accuracy = correct/total\n",
    "            print('Iteration: {}. Loss: {}. Accuracy: {}'.format(iter_n, loss_sum*1.0/iter_n, accuracy))\n",
    "                \n",
    "        "
   ]
  },
  {
   "cell_type": "code",
   "execution_count": 16,
   "metadata": {},
   "outputs": [
    {
     "name": "stdout",
     "output_type": "stream",
     "text": [
      "Accuracy: 58.70000076293945\n"
     ]
    }
   ],
   "source": [
    "total = 0\n",
    "correct = 0\n",
    "for imgs,labels in valid_loader:\n",
    "    imgs = imgs.to(device)\n",
    "    labels = labels.to(device)\n",
    "\n",
    "    preds = CNN(imgs)\n",
    "    outputs = torch.argmax(preds.data,1)\n",
    "\n",
    "    total += imgs.shape[0]\n",
    "\n",
    "    correct += 100.0*(outputs.cpu() == labels.cpu()).sum()\n",
    "accuracy = correct/total\n",
    "print('Accuracy: {}'.format(accuracy))\n"
   ]
  },
  {
   "cell_type": "code",
   "execution_count": 17,
   "metadata": {},
   "outputs": [
    {
     "name": "stdout",
     "output_type": "stream",
     "text": [
      "Training Accuracy: 64.67428588867188\n"
     ]
    }
   ],
   "source": [
    "total = 0\n",
    "correct = 0\n",
    "for imgs,labels in train_loader:\n",
    "    imgs = imgs.to(device)\n",
    "    labels = labels.to(device)\n",
    "\n",
    "    preds = CNN(imgs)\n",
    "    outputs = torch.argmax(preds.data,1)\n",
    "\n",
    "    total += imgs.shape[0]\n",
    "\n",
    "    correct += 100.0*(outputs.cpu() == labels.cpu()).sum()\n",
    "accuracy = correct/total\n",
    "print('Training Accuracy: {}'.format(accuracy))\n"
   ]
  },
  {
   "cell_type": "markdown",
   "metadata": {},
   "source": [
    "## 1 CNN, 0 BNorm, 1 Dense"
   ]
  },
  {
   "cell_type": "code",
   "execution_count": 18,
   "metadata": {},
   "outputs": [],
   "source": [
    "class CNNModel(nn.Module):\n",
    "    def __init__(self):\n",
    "        super().__init__()\n",
    "        self.cnn1 = nn.Conv2d(3,10,kernel_size=3,padding=1)\n",
    "        self.maxpool1 = nn.MaxPool2d(2)\n",
    "        self.dense1 = nn.Linear(10*16*16,10)\n",
    "    def forward(self,x):\n",
    "        out = self.cnn1(x)\n",
    "        out = self.maxpool1(out)\n",
    "        \n",
    "        out = out.view(out.shape[0],-1)\n",
    "        \n",
    "        out = self.dense1(out)\n",
    "#         out = F.softmax(out)\n",
    "        \n",
    "        return out\n",
    "        \n",
    "        "
   ]
  },
  {
   "cell_type": "code",
   "execution_count": 19,
   "metadata": {},
   "outputs": [],
   "source": [
    "device = \"cuda\" if torch.cuda.is_available() else \"cpu\""
   ]
  },
  {
   "cell_type": "code",
   "execution_count": 20,
   "metadata": {},
   "outputs": [],
   "source": [
    "CNN = CNNModel().to(device)"
   ]
  },
  {
   "cell_type": "code",
   "execution_count": 21,
   "metadata": {},
   "outputs": [],
   "source": [
    "lr = 0.001\n",
    "optimizer = optim.SGD(CNN.parameters(),lr= lr,momentum=0.6)\n",
    "criterion = nn.CrossEntropyLoss()"
   ]
  },
  {
   "cell_type": "code",
   "execution_count": 22,
   "metadata": {},
   "outputs": [],
   "source": [
    "epochs = 25\n",
    "iter_n = 0"
   ]
  },
  {
   "cell_type": "code",
   "execution_count": 23,
   "metadata": {},
   "outputs": [
    {
     "name": "stdout",
     "output_type": "stream",
     "text": [
      "Epoch 1 of 25\n",
      "Iteration: 175. Loss: 2.124326705932617. Accuracy: 28.0\n",
      "Iteration: 350. Loss: 1.9787156581878662. Accuracy: 33.0\n",
      "Epoch 2 of 25\n",
      "Iteration: 175. Loss: 2.013085126876831. Accuracy: 39.0\n",
      "Iteration: 350. Loss: 1.9163126945495605. Accuracy: 32.0\n",
      "Epoch 3 of 25\n",
      "Iteration: 175. Loss: 1.774092197418213. Accuracy: 33.0\n",
      "Iteration: 350. Loss: 1.7162063121795654. Accuracy: 40.0\n",
      "Epoch 4 of 25\n",
      "Iteration: 175. Loss: 1.7078090906143188. Accuracy: 46.0\n",
      "Iteration: 350. Loss: 1.845811367034912. Accuracy: 44.0\n",
      "Epoch 5 of 25\n",
      "Iteration: 175. Loss: 1.7281628847122192. Accuracy: 40.0\n",
      "Iteration: 350. Loss: 1.7075647115707397. Accuracy: 43.0\n",
      "Epoch 6 of 25\n",
      "Iteration: 175. Loss: 1.7761001586914062. Accuracy: 33.0\n",
      "Iteration: 350. Loss: 1.8249270915985107. Accuracy: 56.0\n",
      "Epoch 7 of 25\n",
      "Iteration: 175. Loss: 1.672524094581604. Accuracy: 42.0\n",
      "Iteration: 350. Loss: 1.5903080701828003. Accuracy: 38.0\n",
      "Epoch 8 of 25\n",
      "Iteration: 175. Loss: 1.6998672485351562. Accuracy: 43.0\n",
      "Iteration: 350. Loss: 1.709164023399353. Accuracy: 47.0\n",
      "Epoch 9 of 25\n",
      "Iteration: 175. Loss: 1.5956379175186157. Accuracy: 50.0\n",
      "Iteration: 350. Loss: 1.6750233173370361. Accuracy: 42.0\n",
      "Epoch 10 of 25\n",
      "Iteration: 175. Loss: 1.7792787551879883. Accuracy: 44.0\n",
      "Iteration: 350. Loss: 1.5069831609725952. Accuracy: 56.0\n",
      "Epoch 11 of 25\n",
      "Iteration: 175. Loss: 1.8373302221298218. Accuracy: 43.0\n",
      "Iteration: 350. Loss: 1.7328410148620605. Accuracy: 46.0\n",
      "Epoch 12 of 25\n",
      "Iteration: 175. Loss: 1.5402179956436157. Accuracy: 41.0\n",
      "Iteration: 350. Loss: 1.7363003492355347. Accuracy: 43.0\n",
      "Epoch 13 of 25\n",
      "Iteration: 175. Loss: 1.3887906074523926. Accuracy: 44.0\n",
      "Iteration: 350. Loss: 1.6053810119628906. Accuracy: 51.0\n",
      "Epoch 14 of 25\n",
      "Iteration: 175. Loss: 1.7104957103729248. Accuracy: 43.0\n",
      "Iteration: 350. Loss: 1.5798208713531494. Accuracy: 45.0\n",
      "Epoch 15 of 25\n",
      "Iteration: 175. Loss: 1.5584110021591187. Accuracy: 40.0\n",
      "Iteration: 350. Loss: 1.538930058479309. Accuracy: 45.0\n",
      "Epoch 16 of 25\n",
      "Iteration: 175. Loss: 1.6357786655426025. Accuracy: 38.0\n",
      "Iteration: 350. Loss: 1.426658272743225. Accuracy: 56.0\n",
      "Epoch 17 of 25\n",
      "Iteration: 175. Loss: 1.4148690700531006. Accuracy: 41.0\n",
      "Iteration: 350. Loss: 1.5943841934204102. Accuracy: 48.0\n",
      "Epoch 18 of 25\n",
      "Iteration: 175. Loss: 1.508500099182129. Accuracy: 47.0\n",
      "Iteration: 350. Loss: 1.7761098146438599. Accuracy: 50.0\n",
      "Epoch 19 of 25\n",
      "Iteration: 175. Loss: 1.5149095058441162. Accuracy: 45.0\n",
      "Iteration: 350. Loss: 1.5899462699890137. Accuracy: 52.0\n",
      "Epoch 20 of 25\n",
      "Iteration: 175. Loss: 1.4336788654327393. Accuracy: 44.0\n",
      "Iteration: 350. Loss: 1.5952725410461426. Accuracy: 56.0\n",
      "Epoch 21 of 25\n",
      "Iteration: 175. Loss: 1.349664330482483. Accuracy: 55.0\n",
      "Iteration: 350. Loss: 1.3977562189102173. Accuracy: 50.0\n",
      "Epoch 22 of 25\n",
      "Iteration: 175. Loss: 1.5957229137420654. Accuracy: 45.0\n",
      "Iteration: 350. Loss: 1.2351897954940796. Accuracy: 52.0\n",
      "Epoch 23 of 25\n",
      "Iteration: 175. Loss: 1.2860561609268188. Accuracy: 56.0\n",
      "Iteration: 350. Loss: 1.4628493785858154. Accuracy: 57.0\n",
      "Epoch 24 of 25\n",
      "Iteration: 175. Loss: 1.3280270099639893. Accuracy: 50.0\n",
      "Iteration: 350. Loss: 1.2865849733352661. Accuracy: 43.0\n",
      "Epoch 25 of 25\n",
      "Iteration: 175. Loss: 1.4760870933532715. Accuracy: 53.0\n",
      "Iteration: 350. Loss: 1.4938381910324097. Accuracy: 53.0\n"
     ]
    }
   ],
   "source": [
    "for e in range(epochs):\n",
    "    iter_n = 0\n",
    "    print(\"Epoch %d of %d\"%(e+1,epochs))\n",
    "    for imgs,labels in train_loader:\n",
    "        \n",
    "        imgs = imgs.to(device)\n",
    "        labels = labels.to(device)\n",
    "#         print(imgs.shape)\n",
    "        optimizer.zero_grad()\n",
    "        \n",
    "        preds = CNN(imgs)\n",
    "        loss = criterion(preds,labels)\n",
    "        \n",
    "        loss.backward()\n",
    "        optimizer.step()\n",
    "        \n",
    "        iter_n+=1\n",
    "#         print(iter_n)\n",
    "        if iter_n % 175 == 0:\n",
    "            total = 0\n",
    "            correct = 0\n",
    "            \n",
    "            for imgs,labels in valid_loader:\n",
    "                imgs = imgs.to(device)\n",
    "                labels = labels.to(device)\n",
    "                \n",
    "                preds = CNN(imgs)\n",
    "                outputs = torch.argmax(preds.data,1)\n",
    "                \n",
    "                total += imgs.shape[0]\n",
    "                \n",
    "                correct += 100.0*(outputs.cpu() == labels.cpu()).sum()\n",
    "                \n",
    "                if total>= 50:\n",
    "                    break\n",
    "            accuracy = correct/total\n",
    "            print('Iteration: {}. Loss: {}. Accuracy: {}'.format(iter_n, loss.item(), accuracy))\n",
    "                \n",
    "        "
   ]
  },
  {
   "cell_type": "code",
   "execution_count": 24,
   "metadata": {},
   "outputs": [
    {
     "name": "stdout",
     "output_type": "stream",
     "text": [
      "Accuracy: 51.186668395996094\n"
     ]
    }
   ],
   "source": [
    "total = 0\n",
    "correct = 0\n",
    "for imgs,labels in valid_loader:\n",
    "    imgs = imgs.to(device)\n",
    "    labels = labels.to(device)\n",
    "\n",
    "    preds = CNN(imgs)\n",
    "    outputs = torch.argmax(preds.data,1)\n",
    "\n",
    "    total += imgs.shape[0]\n",
    "\n",
    "    correct += 100.0*(outputs.cpu() == labels.cpu()).sum()\n",
    "accuracy = correct/total\n",
    "print('Accuracy: {}'.format(accuracy))\n"
   ]
  },
  {
   "cell_type": "code",
   "execution_count": 25,
   "metadata": {},
   "outputs": [
    {
     "name": "stdout",
     "output_type": "stream",
     "text": [
      "Training Accuracy: 52.702857971191406\n"
     ]
    }
   ],
   "source": [
    "total = 0\n",
    "correct = 0\n",
    "for imgs,labels in train_loader:\n",
    "    imgs = imgs.to(device)\n",
    "    labels = labels.to(device)\n",
    "\n",
    "    preds = CNN(imgs)\n",
    "    outputs = torch.argmax(preds.data,1)\n",
    "\n",
    "    total += imgs.shape[0]\n",
    "\n",
    "    correct += 100.0*(outputs.cpu() == labels.cpu()).sum()\n",
    "accuracy = correct/total\n",
    "print('Training Accuracy: {}'.format(accuracy))\n"
   ]
  },
  {
   "cell_type": "markdown",
   "metadata": {},
   "source": [
    "## 1 CNN, 1 BNorm, 2 Dense"
   ]
  },
  {
   "cell_type": "code",
   "execution_count": 26,
   "metadata": {},
   "outputs": [],
   "source": [
    "class CNNModel(nn.Module):\n",
    "    def __init__(self):\n",
    "        super().__init__()\n",
    "        self.cnn1 = nn.Conv2d(3,10,kernel_size=3,padding=1)\n",
    "        self.bnorm1 = nn.BatchNorm2d(10)\n",
    "        self.maxpool1 = nn.MaxPool2d(2)\n",
    "        self.dense1 = nn.Linear(10*16*16,64)\n",
    "        self.dense2 = nn.Linear(64,10)\n",
    "    def forward(self,x):\n",
    "        out = self.cnn1(x)\n",
    "        out = self.bnorm1(out)\n",
    "        out = self.maxpool1(out)\n",
    "        \n",
    "        out = out.view(out.shape[0],-1)\n",
    "        \n",
    "        out = F.relu(self.dense1(out))\n",
    "        out = self.dense2(out)\n",
    "#         out = F.softmax(out)\n",
    "        \n",
    "        return out\n",
    "        \n",
    "        "
   ]
  },
  {
   "cell_type": "code",
   "execution_count": 27,
   "metadata": {},
   "outputs": [],
   "source": [
    "device = \"cuda\" if torch.cuda.is_available() else \"cpu\""
   ]
  },
  {
   "cell_type": "code",
   "execution_count": 28,
   "metadata": {},
   "outputs": [],
   "source": [
    "CNN = CNNModel().to(device)"
   ]
  },
  {
   "cell_type": "code",
   "execution_count": 29,
   "metadata": {},
   "outputs": [],
   "source": [
    "lr = 0.001\n",
    "optimizer = optim.SGD(CNN.parameters(),lr= lr,momentum=0.6)\n",
    "criterion = nn.CrossEntropyLoss()"
   ]
  },
  {
   "cell_type": "code",
   "execution_count": 30,
   "metadata": {},
   "outputs": [],
   "source": [
    "epochs = 25\n",
    "iter_n = 0"
   ]
  },
  {
   "cell_type": "code",
   "execution_count": 31,
   "metadata": {},
   "outputs": [
    {
     "name": "stdout",
     "output_type": "stream",
     "text": [
      "Epoch 1 of 25\n",
      "Iteration: 175. Loss: 2.023902416229248. Accuracy: 25.0\n",
      "Iteration: 350. Loss: 1.8540083169937134. Accuracy: 34.0\n",
      "Epoch 2 of 25\n",
      "Iteration: 175. Loss: 1.7243174314498901. Accuracy: 42.0\n",
      "Iteration: 350. Loss: 1.6832270622253418. Accuracy: 41.0\n",
      "Epoch 3 of 25\n",
      "Iteration: 175. Loss: 1.773441195487976. Accuracy: 53.0\n",
      "Iteration: 350. Loss: 1.5154191255569458. Accuracy: 45.0\n",
      "Epoch 4 of 25\n",
      "Iteration: 175. Loss: 1.5528068542480469. Accuracy: 46.0\n",
      "Iteration: 350. Loss: 1.4188392162322998. Accuracy: 60.0\n",
      "Epoch 5 of 25\n",
      "Iteration: 175. Loss: 1.4498469829559326. Accuracy: 57.0\n",
      "Iteration: 350. Loss: 1.51395583152771. Accuracy: 49.0\n",
      "Epoch 6 of 25\n",
      "Iteration: 175. Loss: 1.5980825424194336. Accuracy: 47.0\n",
      "Iteration: 350. Loss: 1.4037319421768188. Accuracy: 45.0\n",
      "Epoch 7 of 25\n",
      "Iteration: 175. Loss: 1.406535029411316. Accuracy: 46.0\n",
      "Iteration: 350. Loss: 1.347397804260254. Accuracy: 46.0\n",
      "Epoch 8 of 25\n",
      "Iteration: 175. Loss: 1.3898385763168335. Accuracy: 49.0\n",
      "Iteration: 350. Loss: 1.2868565320968628. Accuracy: 53.0\n",
      "Epoch 9 of 25\n",
      "Iteration: 175. Loss: 1.2586497068405151. Accuracy: 55.0\n",
      "Iteration: 350. Loss: 1.3653243780136108. Accuracy: 46.0\n",
      "Epoch 10 of 25\n",
      "Iteration: 175. Loss: 1.237270474433899. Accuracy: 55.0\n",
      "Iteration: 350. Loss: 1.2376576662063599. Accuracy: 57.0\n",
      "Epoch 11 of 25\n",
      "Iteration: 175. Loss: 1.4653087854385376. Accuracy: 58.0\n",
      "Iteration: 350. Loss: 1.1152544021606445. Accuracy: 51.0\n",
      "Epoch 12 of 25\n",
      "Iteration: 175. Loss: 1.0319942235946655. Accuracy: 59.0\n",
      "Iteration: 350. Loss: 1.3084263801574707. Accuracy: 57.0\n",
      "Epoch 13 of 25\n",
      "Iteration: 175. Loss: 1.1617445945739746. Accuracy: 65.0\n",
      "Iteration: 350. Loss: 1.2047637701034546. Accuracy: 61.0\n",
      "Epoch 14 of 25\n",
      "Iteration: 175. Loss: 1.2550143003463745. Accuracy: 53.0\n",
      "Iteration: 350. Loss: 1.330048680305481. Accuracy: 59.0\n",
      "Epoch 15 of 25\n",
      "Iteration: 175. Loss: 1.217016577720642. Accuracy: 55.0\n",
      "Iteration: 350. Loss: 1.1601678133010864. Accuracy: 57.0\n",
      "Epoch 16 of 25\n",
      "Iteration: 175. Loss: 1.2384686470031738. Accuracy: 54.0\n",
      "Iteration: 350. Loss: 1.0458282232284546. Accuracy: 60.0\n",
      "Epoch 17 of 25\n",
      "Iteration: 175. Loss: 1.1002635955810547. Accuracy: 61.0\n",
      "Iteration: 350. Loss: 1.0341126918792725. Accuracy: 66.0\n",
      "Epoch 18 of 25\n",
      "Iteration: 175. Loss: 1.0560619831085205. Accuracy: 65.0\n",
      "Iteration: 350. Loss: 0.9316098093986511. Accuracy: 56.0\n",
      "Epoch 19 of 25\n",
      "Iteration: 175. Loss: 1.3132221698760986. Accuracy: 59.0\n",
      "Iteration: 350. Loss: 0.9631852507591248. Accuracy: 69.0\n",
      "Epoch 20 of 25\n",
      "Iteration: 175. Loss: 1.0124735832214355. Accuracy: 54.0\n",
      "Iteration: 350. Loss: 1.0144743919372559. Accuracy: 51.0\n",
      "Epoch 21 of 25\n",
      "Iteration: 175. Loss: 1.0863909721374512. Accuracy: 62.0\n",
      "Iteration: 350. Loss: 1.0654873847961426. Accuracy: 61.0\n",
      "Epoch 22 of 25\n",
      "Iteration: 175. Loss: 0.9505099654197693. Accuracy: 67.0\n",
      "Iteration: 350. Loss: 1.0087658166885376. Accuracy: 67.0\n",
      "Epoch 23 of 25\n",
      "Iteration: 175. Loss: 0.9027659893035889. Accuracy: 58.0\n",
      "Iteration: 350. Loss: 1.1367120742797852. Accuracy: 62.0\n",
      "Epoch 24 of 25\n",
      "Iteration: 175. Loss: 0.9059455990791321. Accuracy: 61.0\n",
      "Iteration: 350. Loss: 0.8982940912246704. Accuracy: 59.0\n",
      "Epoch 25 of 25\n",
      "Iteration: 175. Loss: 1.059083104133606. Accuracy: 55.0\n",
      "Iteration: 350. Loss: 1.1373575925827026. Accuracy: 61.0\n"
     ]
    }
   ],
   "source": [
    "for e in range(epochs):\n",
    "    iter_n = 0\n",
    "    print(\"Epoch %d of %d\"%(e+1,epochs))\n",
    "    for imgs,labels in train_loader:\n",
    "        \n",
    "        imgs = imgs.to(device)\n",
    "        labels = labels.to(device)\n",
    "#         print(imgs.shape)\n",
    "        optimizer.zero_grad()\n",
    "        \n",
    "        preds = CNN(imgs)\n",
    "        loss = criterion(preds,labels)\n",
    "        \n",
    "        loss.backward()\n",
    "        optimizer.step()\n",
    "        \n",
    "        iter_n+=1\n",
    "#         print(iter_n)\n",
    "        if iter_n % 175 == 0:\n",
    "            total = 0\n",
    "            correct = 0\n",
    "            \n",
    "            for imgs,labels in valid_loader:\n",
    "                imgs = imgs.to(device)\n",
    "                labels = labels.to(device)\n",
    "                \n",
    "                preds = CNN(imgs)\n",
    "                outputs = torch.argmax(preds.data,1)\n",
    "                \n",
    "                total += imgs.shape[0]\n",
    "                \n",
    "                correct += 100.0*(outputs.cpu() == labels.cpu()).sum()\n",
    "                \n",
    "                if total>= 50:\n",
    "                    break\n",
    "            accuracy = correct/total\n",
    "            print('Iteration: {}. Loss: {}. Accuracy: {}'.format(iter_n, loss.item(), accuracy))\n",
    "                \n",
    "        "
   ]
  },
  {
   "cell_type": "code",
   "execution_count": 32,
   "metadata": {},
   "outputs": [
    {
     "name": "stdout",
     "output_type": "stream",
     "text": [
      "Accuracy: 61.393333435058594\n"
     ]
    }
   ],
   "source": [
    "total = 0\n",
    "correct = 0\n",
    "for imgs,labels in valid_loader:\n",
    "    imgs = imgs.to(device)\n",
    "    labels = labels.to(device)\n",
    "\n",
    "    preds = CNN(imgs)\n",
    "    outputs = torch.argmax(preds.data,1)\n",
    "\n",
    "    total += imgs.shape[0]\n",
    "\n",
    "    correct += 100.0*(outputs.cpu() == labels.cpu()).sum()\n",
    "accuracy = correct/total\n",
    "print('Accuracy: {}'.format(accuracy))\n"
   ]
  },
  {
   "cell_type": "code",
   "execution_count": 33,
   "metadata": {},
   "outputs": [
    {
     "name": "stdout",
     "output_type": "stream",
     "text": [
      "Training Accuracy: 67.55714416503906\n"
     ]
    }
   ],
   "source": [
    "total = 0\n",
    "correct = 0\n",
    "for imgs,labels in train_loader:\n",
    "    imgs = imgs.to(device)\n",
    "    labels = labels.to(device)\n",
    "\n",
    "    preds = CNN(imgs)\n",
    "    outputs = torch.argmax(preds.data,1)\n",
    "\n",
    "    total += imgs.shape[0]\n",
    "\n",
    "    correct += 100.0*(outputs.cpu() == labels.cpu()).sum()\n",
    "accuracy = correct/total\n",
    "print('Training Accuracy: {}'.format(accuracy))\n"
   ]
  },
  {
   "cell_type": "markdown",
   "metadata": {},
   "source": [
    "## 2 CNN, 1 BNorm, 1 Dense"
   ]
  },
  {
   "cell_type": "code",
   "execution_count": 34,
   "metadata": {},
   "outputs": [],
   "source": [
    "class CNNModel(nn.Module):\n",
    "    def __init__(self):\n",
    "        super().__init__()\n",
    "        self.cnn1 = nn.Conv2d(3,10,kernel_size=3,padding=1)\n",
    "        self.cnn2 = nn.Conv2d(10,20,kernel_size=3,padding=1)\n",
    "        self.bnorm1 = nn.BatchNorm2d(20)\n",
    "        self.maxpool1 = nn.MaxPool2d(2)\n",
    "        self.dense1 = nn.Linear(20*16*16,10)\n",
    "    def forward(self,x):\n",
    "        out = self.cnn1(x)\n",
    "        out = self.cnn2(out)\n",
    "        out = self.bnorm1(out)\n",
    "        out = self.maxpool1(out)\n",
    "        \n",
    "        out = out.view(out.shape[0],-1)\n",
    "        \n",
    "        out = self.dense1(out)\n",
    "#         out = F.softmax(out)\n",
    "        \n",
    "        return out\n",
    "        \n",
    "        "
   ]
  },
  {
   "cell_type": "code",
   "execution_count": 35,
   "metadata": {},
   "outputs": [],
   "source": [
    "device = \"cuda\" if torch.cuda.is_available() else \"cpu\""
   ]
  },
  {
   "cell_type": "code",
   "execution_count": 36,
   "metadata": {},
   "outputs": [],
   "source": [
    "CNN = CNNModel().to(device)"
   ]
  },
  {
   "cell_type": "code",
   "execution_count": 37,
   "metadata": {},
   "outputs": [],
   "source": [
    "lr = 0.001\n",
    "optimizer = optim.SGD(CNN.parameters(),lr= lr,momentum=0.6)\n",
    "criterion = nn.CrossEntropyLoss()"
   ]
  },
  {
   "cell_type": "code",
   "execution_count": 38,
   "metadata": {},
   "outputs": [],
   "source": [
    "epochs = 25\n",
    "iter_n = 0\n",
    "iter_total = 0\n",
    "stats_list = list()"
   ]
  },
  {
   "cell_type": "code",
   "execution_count": 39,
   "metadata": {},
   "outputs": [
    {
     "name": "stdout",
     "output_type": "stream",
     "text": [
      "Epoch 1 of 25\n",
      "Iteration: 175. Loss: 1.6239798069000244. Accuracy: 31.0\n",
      "Iteration: 350. Loss: 1.701645016670227. Accuracy: 35.0\n",
      "Epoch 2 of 25\n",
      "Iteration: 175. Loss: 1.4557839632034302. Accuracy: 49.0\n",
      "Iteration: 350. Loss: 1.7034544944763184. Accuracy: 49.0\n",
      "Epoch 3 of 25\n",
      "Iteration: 175. Loss: 1.5431945323944092. Accuracy: 48.0\n",
      "Iteration: 350. Loss: 1.2970494031906128. Accuracy: 56.0\n",
      "Epoch 4 of 25\n",
      "Iteration: 175. Loss: 1.2917627096176147. Accuracy: 47.0\n",
      "Iteration: 350. Loss: 1.3724523782730103. Accuracy: 56.0\n",
      "Epoch 5 of 25\n",
      "Iteration: 175. Loss: 1.1539332866668701. Accuracy: 56.0\n",
      "Iteration: 350. Loss: 1.1712507009506226. Accuracy: 62.0\n",
      "Epoch 6 of 25\n",
      "Iteration: 175. Loss: 1.1930333375930786. Accuracy: 48.0\n",
      "Iteration: 350. Loss: 1.1797661781311035. Accuracy: 51.0\n",
      "Epoch 7 of 25\n",
      "Iteration: 175. Loss: 1.3225159645080566. Accuracy: 57.0\n",
      "Iteration: 350. Loss: 1.0321884155273438. Accuracy: 62.0\n",
      "Epoch 8 of 25\n",
      "Iteration: 175. Loss: 1.1002166271209717. Accuracy: 61.0\n",
      "Iteration: 350. Loss: 1.2034785747528076. Accuracy: 57.0\n",
      "Epoch 9 of 25\n",
      "Iteration: 175. Loss: 1.0460388660430908. Accuracy: 64.0\n",
      "Iteration: 350. Loss: 1.0292967557907104. Accuracy: 61.0\n",
      "Epoch 10 of 25\n",
      "Iteration: 175. Loss: 1.0001749992370605. Accuracy: 64.0\n",
      "Iteration: 350. Loss: 1.1503342390060425. Accuracy: 64.0\n",
      "Epoch 11 of 25\n",
      "Iteration: 175. Loss: 0.990119457244873. Accuracy: 66.0\n",
      "Iteration: 350. Loss: 1.0653715133666992. Accuracy: 62.0\n",
      "Epoch 12 of 25\n",
      "Iteration: 175. Loss: 1.0643161535263062. Accuracy: 61.0\n",
      "Iteration: 350. Loss: 0.9010597467422485. Accuracy: 67.0\n",
      "Epoch 13 of 25\n",
      "Iteration: 175. Loss: 0.9161063432693481. Accuracy: 60.0\n",
      "Iteration: 350. Loss: 0.9490609765052795. Accuracy: 71.0\n",
      "Epoch 14 of 25\n",
      "Iteration: 175. Loss: 0.8530521392822266. Accuracy: 60.0\n",
      "Iteration: 350. Loss: 0.8692176938056946. Accuracy: 58.0\n",
      "Epoch 15 of 25\n",
      "Iteration: 175. Loss: 0.852801501750946. Accuracy: 60.0\n",
      "Iteration: 350. Loss: 1.0346537828445435. Accuracy: 65.0\n",
      "Epoch 16 of 25\n",
      "Iteration: 175. Loss: 0.8384265899658203. Accuracy: 66.0\n",
      "Iteration: 350. Loss: 0.985515832901001. Accuracy: 63.0\n",
      "Epoch 17 of 25\n",
      "Iteration: 175. Loss: 1.0545140504837036. Accuracy: 62.0\n",
      "Iteration: 350. Loss: 0.8964484333992004. Accuracy: 64.0\n",
      "Epoch 18 of 25\n",
      "Iteration: 175. Loss: 0.9853512048721313. Accuracy: 70.0\n",
      "Iteration: 350. Loss: 0.7341181039810181. Accuracy: 62.0\n",
      "Epoch 19 of 25\n",
      "Iteration: 175. Loss: 0.8220788836479187. Accuracy: 64.0\n",
      "Iteration: 350. Loss: 0.9817277789115906. Accuracy: 54.0\n",
      "Epoch 20 of 25\n",
      "Iteration: 175. Loss: 0.6337323784828186. Accuracy: 54.0\n",
      "Iteration: 350. Loss: 0.8633731007575989. Accuracy: 56.0\n",
      "Epoch 21 of 25\n",
      "Iteration: 175. Loss: 0.8007894158363342. Accuracy: 56.0\n",
      "Iteration: 350. Loss: 0.9160900115966797. Accuracy: 70.0\n",
      "Epoch 22 of 25\n",
      "Iteration: 175. Loss: 0.6519418954849243. Accuracy: 64.0\n",
      "Iteration: 350. Loss: 0.9056691527366638. Accuracy: 67.0\n",
      "Epoch 23 of 25\n",
      "Iteration: 175. Loss: 0.7810207605361938. Accuracy: 56.0\n",
      "Iteration: 350. Loss: 0.8213728070259094. Accuracy: 63.0\n",
      "Epoch 24 of 25\n",
      "Iteration: 175. Loss: 0.7378716468811035. Accuracy: 65.0\n",
      "Iteration: 350. Loss: 0.9289161562919617. Accuracy: 65.0\n",
      "Epoch 25 of 25\n",
      "Iteration: 175. Loss: 0.7536807060241699. Accuracy: 67.0\n",
      "Iteration: 350. Loss: 0.8318017721176147. Accuracy: 58.0\n"
     ]
    }
   ],
   "source": [
    "for e in range(epochs):\n",
    "    iter_n = 0\n",
    "    print(\"Epoch %d of %d\"%(e+1,epochs))\n",
    "    for imgs,labels in train_loader:\n",
    "        \n",
    "        imgs = imgs.to(device)\n",
    "        labels = labels.to(device)\n",
    "#         print(imgs.shape)\n",
    "        optimizer.zero_grad()\n",
    "        \n",
    "        preds = CNN(imgs)\n",
    "        loss = criterion(preds,labels)\n",
    "        \n",
    "        loss.backward()\n",
    "        optimizer.step()\n",
    "        \n",
    "        iter_n+=1\n",
    "        iter_total += 1\n",
    "#         print(iter_n)\n",
    "        if iter_n % 175 == 0:\n",
    "            total = 0\n",
    "            correct = 0\n",
    "            \n",
    "            for imgs,labels in valid_loader:\n",
    "                imgs = imgs.to(device)\n",
    "                labels = labels.to(device)\n",
    "                \n",
    "                preds = CNN(imgs)\n",
    "                outputs = torch.argmax(preds.data,1)\n",
    "                test_loss = criterion(preds,labels)\n",
    "                total += imgs.shape[0]\n",
    "                \n",
    "                correct += 100.0*(outputs.cpu() == labels.cpu()).sum()\n",
    "                \n",
    "                if total>= 50:\n",
    "                    break\n",
    "            accuracy = correct/total\n",
    "            correct = 0\n",
    "            total = 0\n",
    "            for imgs,labels in train_loader:\n",
    "                imgs = imgs.to(device)\n",
    "                labels = labels.to(device)\n",
    "                \n",
    "                preds = CNN(imgs)\n",
    "                outputs = torch.argmax(preds.data,1)\n",
    "                train_loss = criterion(preds,labels)\n",
    "                total += imgs.shape[0]\n",
    "                \n",
    "                correct += 100.0*(outputs.cpu() == labels.cpu()).sum()\n",
    "                \n",
    "                if total>= 50:\n",
    "                    break\n",
    "            train_acc = correct/total\n",
    "            if iter_n%350 == 0:\n",
    "                stats_list.append([train_acc,accuracy,train_loss,test_loss])\n",
    "            print('Iteration: {}. Loss: {}. Accuracy: {}'.format(iter_n, loss.item(), accuracy))\n",
    "                \n",
    "        "
   ]
  },
  {
   "cell_type": "code",
   "execution_count": 40,
   "metadata": {},
   "outputs": [
    {
     "name": "stdout",
     "output_type": "stream",
     "text": [
      "Accuracy: 63.573333740234375\n"
     ]
    }
   ],
   "source": [
    "total = 0\n",
    "correct = 0\n",
    "for imgs,labels in valid_loader:\n",
    "    imgs = imgs.to(device)\n",
    "    labels = labels.to(device)\n",
    "\n",
    "    preds = CNN(imgs)\n",
    "    outputs = torch.argmax(preds.data,1)\n",
    "\n",
    "    total += imgs.shape[0]\n",
    "\n",
    "    correct += 100.0*(outputs.cpu() == labels.cpu()).sum()\n",
    "accuracy = correct/total\n",
    "print('Accuracy: {}'.format(accuracy))\n"
   ]
  },
  {
   "cell_type": "code",
   "execution_count": 41,
   "metadata": {},
   "outputs": [
    {
     "name": "stdout",
     "output_type": "stream",
     "text": [
      "Training Accuracy: 73.82286071777344\n"
     ]
    }
   ],
   "source": [
    "total = 0\n",
    "correct = 0\n",
    "for imgs,labels in train_loader:\n",
    "    imgs = imgs.to(device)\n",
    "    labels = labels.to(device)\n",
    "\n",
    "    preds = CNN(imgs)\n",
    "    outputs = torch.argmax(preds.data,1)\n",
    "\n",
    "    total += imgs.shape[0]\n",
    "\n",
    "    correct += 100.0*(outputs.cpu() == labels.cpu()).sum()\n",
    "accuracy = correct/total\n",
    "print('Training Accuracy: {}'.format(accuracy))\n"
   ]
  },
  {
   "cell_type": "code",
   "execution_count": 42,
   "metadata": {},
   "outputs": [
    {
     "data": {
      "image/png": "[encoded data removed]",
      "text/plain": [
       "<Figure size 432x288 with 1 Axes>"
      ]
     },
     "metadata": {
      "needs_background": "light"
     },
     "output_type": "display_data"
    },
    {
     "data": {
      "image/png": "[encoded data removed]",
      "text/plain": [
       "<Figure size 432x288 with 1 Axes>"
      ]
     },
     "metadata": {
      "needs_background": "light"
     },
     "output_type": "display_data"
    }
   ],
   "source": [
    "stats_np = np.array(stats_list)\n",
    "plt.figure()\n",
    "plt.plot(list(range(1,stats_np.shape[0]+1)),stats_np[:,0],label = \"Training Accuracy\",)\n",
    "plt.plot(list(range(1,stats_np.shape[0]+1)),stats_np[:,1],label = \"Validation Accuracy\")\n",
    "plt.legend()\n",
    "plt.xlabel('Epochs')\n",
    "plt.ylabel('Accuracy')\n",
    "plt.title(\"Epochs vs Accuracy\")\n",
    "plt.show()\n",
    "\n",
    "plt.figure()\n",
    "plt.plot(list(range(1,stats_np.shape[0]+1)),stats_np[:,2],label = \"Training Loss\",)\n",
    "plt.plot(list(range(1,stats_np.shape[0]+1)),stats_np[:,3],label = \"Validation Loss\")\n",
    "plt.legend()\n",
    "plt.xlabel('Epochs')\n",
    "plt.ylabel('Loss')\n",
    "plt.title(\"Epochs vs Loss\")\n",
    "plt.show()"
   ]
  },
  {
   "cell_type": "markdown",
   "metadata": {},
   "source": [
    "## 3 CNN, 1 BNorm, 1 Dense"
   ]
  },
  {
   "cell_type": "code",
   "execution_count": 11,
   "metadata": {},
   "outputs": [],
   "source": [
    "class CNNModel(nn.Module):\n",
    "    def __init__(self):\n",
    "        super().__init__()\n",
    "        self.cnn1 = nn.Conv2d(3,10,kernel_size=3,padding=1)\n",
    "        self.cnn2 = nn.Conv2d(10,20,kernel_size=3,padding=1)\n",
    "        self.cnn3 = nn.Conv2d(20,20,kernel_size=3,padding=1)\n",
    "        self.bnorm1 = nn.BatchNorm2d(20)\n",
    "        self.maxpool1 = nn.MaxPool2d(2)\n",
    "        self.dense1 = nn.Linear(20*16*16,10)\n",
    "    def forward(self,x):\n",
    "        out = self.cnn1(x)\n",
    "        out = self.cnn2(out)\n",
    "        out = self.cnn3(out)\n",
    "        out = self.bnorm1(out)\n",
    "        out = self.maxpool1(out)\n",
    "        \n",
    "        out = out.view(out.shape[0],-1)\n",
    "        \n",
    "        out = self.dense1(out)\n",
    "#         out = F.softmax(out)\n",
    "        \n",
    "        return out\n",
    "        \n",
    "        "
   ]
  },
  {
   "cell_type": "code",
   "execution_count": 12,
   "metadata": {},
   "outputs": [],
   "source": [
    "device = \"cuda\" if torch.cuda.is_available() else \"cpu\""
   ]
  },
  {
   "cell_type": "code",
   "execution_count": 13,
   "metadata": {},
   "outputs": [],
   "source": [
    "CNN = CNNModel().to(device)"
   ]
  },
  {
   "cell_type": "code",
   "execution_count": 14,
   "metadata": {},
   "outputs": [],
   "source": [
    "lr = 0.001\n",
    "optimizer = optim.SGD(CNN.parameters(),lr= lr,momentum=0.6)\n",
    "criterion = nn.CrossEntropyLoss()"
   ]
  },
  {
   "cell_type": "code",
   "execution_count": 15,
   "metadata": {},
   "outputs": [],
   "source": [
    "epochs = 25\n",
    "iter_n = 0\n",
    "iter_total = 0\n",
    "stats_list = list()"
   ]
  },
  {
   "cell_type": "code",
   "execution_count": 18,
   "metadata": {},
   "outputs": [
    {
     "name": "stdout",
     "output_type": "stream",
     "text": [
      "Epoch 1 of 25\n",
      "Iteration: 175. Loss: 0.8277062630653381. Accuracy: 61.0\n",
      "Iteration: 350. Loss: 0.8383722504547664. Accuracy: 57.0\n",
      "Epoch 2 of 25\n",
      "Iteration: 175. Loss: 0.8188125715936934. Accuracy: 64.0\n",
      "Iteration: 350. Loss: 0.8271726781981332. Accuracy: 62.0\n",
      "Epoch 3 of 25\n",
      "Iteration: 175. Loss: 0.8096760787282671. Accuracy: 67.0\n",
      "Iteration: 350. Loss: 0.8174652458940234. Accuracy: 61.0\n",
      "Epoch 4 of 25\n",
      "Iteration: 175. Loss: 0.7953665876388549. Accuracy: 57.0\n",
      "Iteration: 350. Loss: 0.8060945500646318. Accuracy: 63.0\n",
      "Epoch 5 of 25\n",
      "Iteration: 175. Loss: 0.7901718871934074. Accuracy: 71.0\n",
      "Iteration: 350. Loss: 0.7966861476216998. Accuracy: 58.0\n",
      "Epoch 6 of 25\n",
      "Iteration: 175. Loss: 0.7827148413658143. Accuracy: 52.0\n",
      "Iteration: 350. Loss: 0.7870565930434635. Accuracy: 67.0\n",
      "Epoch 7 of 25\n",
      "Iteration: 175. Loss: 0.7732803446905954. Accuracy: 64.0\n",
      "Iteration: 350. Loss: 0.7772095760277339. Accuracy: 67.0\n",
      "Epoch 8 of 25\n",
      "Iteration: 175. Loss: 0.7642119337831225. Accuracy: 65.0\n",
      "Iteration: 350. Loss: 0.7680444476434163. Accuracy: 70.0\n",
      "Epoch 9 of 25\n",
      "Iteration: 175. Loss: 0.7525176632404328. Accuracy: 63.0\n",
      "Iteration: 350. Loss: 0.7591286968333381. Accuracy: 66.0\n",
      "Epoch 10 of 25\n",
      "Iteration: 175. Loss: 0.740222886971065. Accuracy: 65.0\n",
      "Iteration: 350. Loss: 0.750660023859569. Accuracy: 64.0\n",
      "Epoch 11 of 25\n",
      "Iteration: 175. Loss: 0.7409049378122602. Accuracy: 61.0\n",
      "Iteration: 350. Loss: 0.743987352677754. Accuracy: 69.0\n",
      "Epoch 12 of 25\n",
      "Iteration: 175. Loss: 0.7333630861554827. Accuracy: 66.0\n",
      "Iteration: 350. Loss: 0.7352349024159568. Accuracy: 69.0\n",
      "Epoch 13 of 25\n",
      "Iteration: 175. Loss: 0.7229891800880432. Accuracy: 68.0\n",
      "Iteration: 350. Loss: 0.7261853823491505. Accuracy: 72.0\n",
      "Epoch 14 of 25\n",
      "Iteration: 175. Loss: 0.7205605620997293. Accuracy: 69.0\n",
      "Iteration: 350. Loss: 0.720376962678773. Accuracy: 62.0\n",
      "Epoch 15 of 25\n",
      "Iteration: 175. Loss: 0.7092228889465332. Accuracy: 71.0\n",
      "Iteration: 350. Loss: 0.7132960080248969. Accuracy: 65.0\n",
      "Epoch 16 of 25\n",
      "Iteration: 175. Loss: 0.6983905516351973. Accuracy: 58.0\n",
      "Iteration: 350. Loss: 0.7053623177324022. Accuracy: 68.0\n",
      "Epoch 17 of 25\n",
      "Iteration: 175. Loss: 0.6919527905327933. Accuracy: 58.0\n",
      "Iteration: 350. Loss: 0.6968234917095729. Accuracy: 57.0\n",
      "Epoch 18 of 25\n",
      "Iteration: 175. Loss: 0.6789014477389199. Accuracy: 61.0\n",
      "Iteration: 350. Loss: 0.6908936313220433. Accuracy: 59.0\n",
      "Epoch 19 of 25\n",
      "Iteration: 175. Loss: 0.6679961567265646. Accuracy: 66.0\n",
      "Iteration: 350. Loss: 0.6834813160555703. Accuracy: 64.0\n",
      "Epoch 20 of 25\n",
      "Iteration: 175. Loss: 0.676209773847035. Accuracy: 71.0\n",
      "Iteration: 350. Loss: 0.6784436412368502. Accuracy: 64.0\n",
      "Epoch 21 of 25\n",
      "Iteration: 175. Loss: 0.6660983485834939. Accuracy: 62.0\n",
      "Iteration: 350. Loss: 0.6715811180216925. Accuracy: 60.0\n",
      "Epoch 22 of 25\n",
      "Iteration: 175. Loss: 0.6630060315132141. Accuracy: 70.0\n",
      "Iteration: 350. Loss: 0.6656403480257307. Accuracy: 64.0\n",
      "Epoch 23 of 25\n",
      "Iteration: 175. Loss: 0.6532892429828644. Accuracy: 61.0\n",
      "Iteration: 350. Loss: 0.6600762442180088. Accuracy: 60.0\n",
      "Epoch 24 of 25\n",
      "Iteration: 175. Loss: 0.6443998432159423. Accuracy: 59.0\n",
      "Iteration: 350. Loss: 0.6523519967283521. Accuracy: 58.0\n",
      "Epoch 25 of 25\n",
      "Iteration: 175. Loss: 0.6477322389398302. Accuracy: 63.0\n",
      "Iteration: 350. Loss: 0.6468518899168287. Accuracy: 62.0\n"
     ]
    }
   ],
   "source": [
    "for e in range(epochs):\n",
    "    iter_n = 0\n",
    "    cont_loss = 0\n",
    "    print(\"Epoch %d of %d\"%(e+1,epochs))\n",
    "    for imgs,labels in train_loader:\n",
    "        \n",
    "        imgs = imgs.to(device)\n",
    "        labels = labels.to(device)\n",
    "#         print(imgs.shape)\n",
    "        optimizer.zero_grad()\n",
    "        \n",
    "        preds = CNN(imgs)\n",
    "        loss = criterion(preds,labels)\n",
    "        loss.backward()\n",
    "        optimizer.step()\n",
    "\n",
    "        cont_loss += loss.item()\n",
    "\n",
    "        iter_n+=1\n",
    "        iter_total += 1\n",
    "#         print(iter_n)\n",
    "        if iter_n % 175 == 0:\n",
    "            total = 0\n",
    "            correct = 0\n",
    "            \n",
    "            for imgs,labels in valid_loader:\n",
    "                imgs = imgs.to(device)\n",
    "                labels = labels.to(device)\n",
    "                \n",
    "                preds = CNN(imgs)\n",
    "                outputs = torch.argmax(preds.data,1)\n",
    "                test_loss = criterion(preds,labels)\n",
    "                total += imgs.shape[0]\n",
    "                \n",
    "                correct += 100.0*(outputs.cpu() == labels.cpu()).sum()\n",
    "                \n",
    "                if total>= 50:\n",
    "                    break\n",
    "            accuracy = correct/total\n",
    "            correct = 0\n",
    "            total = 0\n",
    "            train_loss = 0\n",
    "            iter_temp = 0\n",
    "            for imgs,labels in train_loader:\n",
    "                imgs = imgs.to(device)\n",
    "                labels = labels.to(device)\n",
    "                \n",
    "                preds = CNN(imgs)\n",
    "                outputs = torch.argmax(preds.data,1)\n",
    "                train_loss += criterion(preds,labels)\n",
    "                total += imgs.shape[0]\n",
    "                iter_temp+=1\n",
    "                correct += 100.0*(outputs.cpu() == labels.cpu()).sum()\n",
    "                \n",
    "                if total>= 50:\n",
    "                    break\n",
    "            train_acc = correct/total\n",
    "            train_loss = train_loss/(1.0*iter_temp)\n",
    "            if iter_n%350 == 0:\n",
    "                stats_list.append([train_acc,accuracy,train_loss,test_loss])\n",
    "            print('Iteration: {}. Loss: {}. Accuracy: {}'.format(iter_n, cont_loss/(1.0*iter_n)\n",
    "                                                                , accuracy))\n",
    "                \n",
    "        "
   ]
  },
  {
   "cell_type": "code",
   "execution_count": 19,
   "metadata": {},
   "outputs": [
    {
     "name": "stdout",
     "output_type": "stream",
     "text": [
      "Accuracy: 64.05333709716797\n"
     ]
    }
   ],
   "source": [
    "total = 0\n",
    "correct = 0\n",
    "for imgs,labels in valid_loader:\n",
    "    imgs = imgs.to(device)\n",
    "    labels = labels.to(device)\n",
    "\n",
    "    preds = CNN(imgs)\n",
    "    outputs = torch.argmax(preds.data,1)\n",
    "\n",
    "    total += imgs.shape[0]\n",
    "\n",
    "    correct += 100.0*(outputs.cpu() == labels.cpu()).sum()\n",
    "accuracy = correct/total\n",
    "print('Accuracy: {}'.format(accuracy))\n"
   ]
  },
  {
   "cell_type": "code",
   "execution_count": 20,
   "metadata": {},
   "outputs": [
    {
     "name": "stdout",
     "output_type": "stream",
     "text": [
      "Training Accuracy: 80.19428253173828\n"
     ]
    }
   ],
   "source": [
    "total = 0\n",
    "correct = 0\n",
    "for imgs,labels in train_loader:\n",
    "    imgs = imgs.to(device)\n",
    "    labels = labels.to(device)\n",
    "\n",
    "    preds = CNN(imgs)\n",
    "    outputs = torch.argmax(preds.data,1)\n",
    "\n",
    "    total += imgs.shape[0]\n",
    "\n",
    "    correct += 100.0*(outputs.cpu() == labels.cpu()).sum()\n",
    "accuracy = correct/total\n",
    "print('Training Accuracy: {}'.format(accuracy))\n"
   ]
  },
  {
   "cell_type": "code",
   "execution_count": 21,
   "metadata": {},
   "outputs": [
    {
     "data": {
      "image/png": "[encoded data removed]",
      "text/plain": [
       "<Figure size 432x288 with 1 Axes>"
      ]
     },
     "metadata": {
      "needs_background": "light"
     },
     "output_type": "display_data"
    },
    {
     "data": {
      "image/png": "[encoded data removed]",
      "text/plain": [
       "<Figure size 432x288 with 1 Axes>"
      ]
     },
     "metadata": {
      "needs_background": "light"
     },
     "output_type": "display_data"
    }
   ],
   "source": [
    "stats_np = np.array(stats_list)\n",
    "plt.figure()\n",
    "plt.plot(list(range(1,stats_np.shape[0]+1)),stats_np[:,0],label = \"Training Accuracy\",)\n",
    "plt.plot(list(range(1,stats_np.shape[0]+1)),stats_np[:,1],label = \"Validation Accuracy\")\n",
    "plt.legend()\n",
    "plt.xlabel('Epochs')\n",
    "plt.ylabel('Accuracy')\n",
    "plt.title(\"Epochs vs Accuracy\")\n",
    "plt.show()\n",
    "\n",
    "plt.figure()\n",
    "plt.plot(list(range(1,stats_np.shape[0]+1)),stats_np[:,2],label = \"Training Loss\",)\n",
    "plt.plot(list(range(1,stats_np.shape[0]+1)),stats_np[:,3],label = \"Validation Loss\")\n",
    "plt.legend()\n",
    "plt.xlabel('Epochs')\n",
    "plt.ylabel('Loss')\n",
    "plt.title(\"Epochs vs Loss\")\n",
    "plt.show()"
   ]
  },
  {
   "cell_type": "code",
   "execution_count": 22,
   "metadata": {},
   "outputs": [
    {
     "data": {
      "text/plain": [
       "CNNModel(\n",
       "  (cnn1): Conv2d(3, 10, kernel_size=(3, 3), stride=(1, 1), padding=(1, 1))\n",
       "  (cnn2): Conv2d(10, 20, kernel_size=(3, 3), stride=(1, 1), padding=(1, 1))\n",
       "  (cnn3): Conv2d(20, 20, kernel_size=(3, 3), stride=(1, 1), padding=(1, 1))\n",
       "  (bnorm1): BatchNorm2d(20, eps=1e-05, momentum=0.1, affine=True, track_running_stats=True)\n",
       "  (maxpool1): MaxPool2d(kernel_size=2, stride=2, padding=0, dilation=1, ceil_mode=False)\n",
       "  (dense1): Linear(in_features=5120, out_features=10, bias=True)\n",
       ")"
      ]
     },
     "execution_count": 22,
     "metadata": {},
     "output_type": "execute_result"
    }
   ],
   "source": [
    "CNN"
   ]
  },
  {
   "cell_type": "code",
   "execution_count": 23,
   "metadata": {},
   "outputs": [],
   "source": [
    "torch.save(CNN.state_dict(), 'q1.pth')"
   ]
  },
  {
   "cell_type": "code",
   "execution_count": 24,
   "metadata": {},
   "outputs": [
    {
     "name": "stdout",
     "output_type": "stream",
     "text": [
      "Test Accuracy: 63.54999923706055\n"
     ]
    }
   ],
   "source": [
    "total = 0\n",
    "correct = 0\n",
    "for imgs,labels in test_loader:\n",
    "    imgs = imgs.to(device)\n",
    "    labels = labels.to(device)\n",
    "\n",
    "    preds = CNN(imgs)\n",
    "    outputs = torch.argmax(preds.data,1)\n",
    "\n",
    "    total += imgs.shape[0]\n",
    "\n",
    "    correct += 100.0*(outputs.cpu() == labels.cpu()).sum()\n",
    "accuracy = correct/total\n",
    "print('Test Accuracy: {}'.format(accuracy))\n"
   ]
  },
  {
   "cell_type": "code",
   "execution_count": null,
   "metadata": {},
   "outputs": [],
   "source": []
  }
 ],
 "metadata": {
  "kernelspec": {
   "display_name": "env",
   "language": "python",
   "name": "env"
  },
  "language_info": {
   "codemirror_mode": {
    "name": "ipython",
    "version": 3
   },
   "file_extension": ".py",
   "mimetype": "text/x-python",
   "name": "python",
   "nbconvert_exporter": "python",
   "pygments_lexer": "ipython3",
   "version": "3.7.4"
  }
 },
 "nbformat": 4,
 "nbformat_minor": 4
}
