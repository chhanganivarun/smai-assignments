{
 "cells": [
  {
   "cell_type": "code",
   "execution_count": 1,
   "metadata": {},
   "outputs": [],
   "source": [
    "import torch\n",
    "import numpy as np\n",
    "from torch import nn\n",
    "import torchvision\n",
    "from torchvision import transforms, datasets\n",
    "from torch import optim\n",
    "from torch.utils.data.sampler import SubsetRandomSampler"
   ]
  },
  {
   "cell_type": "code",
   "execution_count": 77,
   "metadata": {},
   "outputs": [],
   "source": [
    "from matplotlib import pyplot as plt"
   ]
  },
  {
   "cell_type": "code",
   "execution_count": 2,
   "metadata": {},
   "outputs": [],
   "source": [
    "import torch.nn.functional as F"
   ]
  },
  {
   "cell_type": "code",
   "execution_count": 3,
   "metadata": {},
   "outputs": [],
   "source": [
    "transform = transforms.Compose([transforms.ToTensor(),\n",
    "                              transforms.Normalize((0.5,),(0.5,)),\n",
    "                              ])"
   ]
  },
  {
   "cell_type": "code",
   "execution_count": 5,
   "metadata": {},
   "outputs": [
    {
     "name": "stdout",
     "output_type": "stream",
     "text": [
      "Files already downloaded and verified\n",
      "Files already downloaded and verified\n",
      "Files already downloaded and verified\n"
     ]
    }
   ],
   "source": [
    "trainset= datasets.CIFAR10('~/.pytorch/CIFAR10_data/', train=True, download=True, transform=transform)\n",
    "\n",
    "validset= datasets.CIFAR10('~/.pytorch/CIFAR10_data/', train=True, download=True, transform=transform)\n",
    "\n",
    "testset= datasets.CIFAR10('~/.pytorch/CIFAR10_data/', train=False, download=True,transform=transform)"
   ]
  },
  {
   "cell_type": "code",
   "execution_count": 6,
   "metadata": {},
   "outputs": [],
   "source": [
    "num_train = len(trainset)\n",
    "num_test = len(testset)\n",
    "indices = list(range(num_train))\n",
    "split = int(np.floor(0.3 * num_train))\n",
    "\n",
    "np.random.seed(42)\n",
    "np.random.shuffle(indices)\n",
    "batch_size = 100\n",
    "pin_memory = 1\n",
    "num_workers = 1"
   ]
  },
  {
   "cell_type": "code",
   "execution_count": 7,
   "metadata": {},
   "outputs": [],
   "source": [
    "train_idx, valid_idx = indices[split:], indices[:split]\n",
    "train_sampler = SubsetRandomSampler(train_idx)\n",
    "valid_sampler = SubsetRandomSampler(valid_idx)\n",
    "train_loader = torch.utils.data.DataLoader(\n",
    "    trainset, batch_size=batch_size,\n",
    "    num_workers=num_workers, pin_memory=pin_memory,\n",
    ")\n",
    "valid_loader = torch.utils.data.DataLoader(\n",
    "    validset, batch_size=batch_size, sampler=valid_sampler,\n",
    "    num_workers=num_workers, pin_memory=pin_memory,\n",
    ")\n",
    "\n",
    "test_loader = torch.utils.data.DataLoader(\n",
    "    testset, batch_size=batch_size, num_workers=num_workers, \n",
    "    pin_memory=pin_memory, shuffle=True\n",
    ")"
   ]
  },
  {
   "cell_type": "code",
   "execution_count": 8,
   "metadata": {},
   "outputs": [
    {
     "name": "stdout",
     "output_type": "stream",
     "text": [
      "torch.Size([100, 3, 32, 32]) torch.Size([100])\n"
     ]
    }
   ],
   "source": [
    "for imgs,labels in test_loader:\n",
    "    print(imgs.shape,labels.shape)\n",
    "    break"
   ]
  },
  {
   "cell_type": "markdown",
   "metadata": {},
   "source": [
    "## 1 CNN, 1 BNorm, 1 Dense"
   ]
  },
  {
   "cell_type": "code",
   "execution_count": 9,
   "metadata": {},
   "outputs": [],
   "source": [
    "class CNNModel(nn.Module):\n",
    "    def __init__(self):\n",
    "        super().__init__()\n",
    "        self.cnn1 = nn.Conv2d(3,10,kernel_size=3,padding=1)\n",
    "        self.bnorm1 = nn.BatchNorm2d(10)\n",
    "        self.maxpool1 = nn.MaxPool2d(2)\n",
    "        self.dense1 = nn.Linear(10*16*16,10)\n",
    "    def forward(self,x):\n",
    "        out = self.cnn1(x)\n",
    "        out = self.bnorm1(out)\n",
    "        out = self.maxpool1(out)\n",
    "        \n",
    "        out = out.view(out.shape[0],-1)\n",
    "        \n",
    "        out = self.dense1(out)\n",
    "#         out = F.softmax(out)\n",
    "        \n",
    "        return out\n",
    "        \n",
    "        "
   ]
  },
  {
   "cell_type": "code",
   "execution_count": 23,
   "metadata": {},
   "outputs": [],
   "source": [
    "device = \"cuda\" if torch.cuda.is_available() else \"cpu\""
   ]
  },
  {
   "cell_type": "code",
   "execution_count": 24,
   "metadata": {},
   "outputs": [],
   "source": [
    "CNN = CNNModel().to(device)"
   ]
  },
  {
   "cell_type": "code",
   "execution_count": 25,
   "metadata": {},
   "outputs": [],
   "source": [
    "lr = 0.001\n",
    "optimizer = optim.SGD(CNN.parameters(),lr= lr,momentum=0.6)\n",
    "criterion = nn.CrossEntropyLoss()"
   ]
  },
  {
   "cell_type": "code",
   "execution_count": 26,
   "metadata": {},
   "outputs": [],
   "source": [
    "epochs = 25\n",
    "iter_n = 0"
   ]
  },
  {
   "cell_type": "code",
   "execution_count": 27,
   "metadata": {},
   "outputs": [
    {
     "name": "stdout",
     "output_type": "stream",
     "text": [
      "Epoch 1 of 25\n",
      "Iteration: 175. Loss: 1.8129550218582153. Accuracy: 40.0\n",
      "Iteration: 350. Loss: 1.6908389329910278. Accuracy: 46.0\n",
      "Epoch 2 of 25\n",
      "Iteration: 175. Loss: 1.621124267578125. Accuracy: 38.0\n",
      "Iteration: 350. Loss: 1.4925602674484253. Accuracy: 54.0\n",
      "Epoch 3 of 25\n",
      "Iteration: 175. Loss: 1.5048720836639404. Accuracy: 56.0\n",
      "Iteration: 350. Loss: 1.3437069654464722. Accuracy: 56.0\n",
      "Epoch 4 of 25\n",
      "Iteration: 175. Loss: 1.4422128200531006. Accuracy: 59.0\n",
      "Iteration: 350. Loss: 1.2564700841903687. Accuracy: 60.0\n",
      "Epoch 5 of 25\n",
      "Iteration: 175. Loss: 1.4014668464660645. Accuracy: 58.0\n",
      "Iteration: 350. Loss: 1.2008384466171265. Accuracy: 60.0\n",
      "Epoch 6 of 25\n",
      "Iteration: 175. Loss: 1.3690927028656006. Accuracy: 68.0\n",
      "Iteration: 350. Loss: 1.1595699787139893. Accuracy: 63.0\n",
      "Epoch 7 of 25\n",
      "Iteration: 175. Loss: 1.342239499092102. Accuracy: 56.0\n",
      "Iteration: 350. Loss: 1.1261568069458008. Accuracy: 64.0\n",
      "Epoch 8 of 25\n",
      "Iteration: 175. Loss: 1.3209446668624878. Accuracy: 62.0\n",
      "Iteration: 350. Loss: 1.09929621219635. Accuracy: 57.0\n",
      "Epoch 9 of 25\n",
      "Iteration: 175. Loss: 1.3019636869430542. Accuracy: 50.0\n",
      "Iteration: 350. Loss: 1.0775408744812012. Accuracy: 63.0\n",
      "Epoch 10 of 25\n",
      "Iteration: 175. Loss: 1.2861111164093018. Accuracy: 61.0\n",
      "Iteration: 350. Loss: 1.0584872961044312. Accuracy: 68.0\n",
      "Epoch 11 of 25\n",
      "Iteration: 175. Loss: 1.2718663215637207. Accuracy: 74.0\n",
      "Iteration: 350. Loss: 1.0422141551971436. Accuracy: 70.0\n",
      "Epoch 12 of 25\n",
      "Iteration: 175. Loss: 1.2597293853759766. Accuracy: 62.0\n",
      "Iteration: 350. Loss: 1.0280941724777222. Accuracy: 57.0\n",
      "Epoch 13 of 25\n",
      "Iteration: 175. Loss: 1.249121904373169. Accuracy: 68.0\n",
      "Iteration: 350. Loss: 1.0147849321365356. Accuracy: 64.0\n",
      "Epoch 14 of 25\n",
      "Iteration: 175. Loss: 1.2401373386383057. Accuracy: 57.0\n",
      "Iteration: 350. Loss: 1.0028225183486938. Accuracy: 70.0\n",
      "Epoch 15 of 25\n",
      "Iteration: 175. Loss: 1.231622576713562. Accuracy: 63.0\n",
      "Iteration: 350. Loss: 0.9916192889213562. Accuracy: 62.0\n",
      "Epoch 16 of 25\n",
      "Iteration: 175. Loss: 1.2240668535232544. Accuracy: 69.0\n",
      "Iteration: 350. Loss: 0.981494665145874. Accuracy: 61.0\n",
      "Epoch 17 of 25\n",
      "Iteration: 175. Loss: 1.2165236473083496. Accuracy: 69.0\n",
      "Iteration: 350. Loss: 0.9718860387802124. Accuracy: 67.0\n",
      "Epoch 18 of 25\n",
      "Iteration: 175. Loss: 1.2098942995071411. Accuracy: 70.0\n",
      "Iteration: 350. Loss: 0.9625216722488403. Accuracy: 68.0\n",
      "Epoch 19 of 25\n",
      "Iteration: 175. Loss: 1.2035220861434937. Accuracy: 61.0\n",
      "Iteration: 350. Loss: 0.9533904790878296. Accuracy: 73.0\n",
      "Epoch 20 of 25\n",
      "Iteration: 175. Loss: 1.1972699165344238. Accuracy: 59.0\n",
      "Iteration: 350. Loss: 0.9445847868919373. Accuracy: 56.0\n",
      "Epoch 21 of 25\n",
      "Iteration: 175. Loss: 1.1914801597595215. Accuracy: 62.0\n",
      "Iteration: 350. Loss: 0.9359889030456543. Accuracy: 66.0\n",
      "Epoch 22 of 25\n",
      "Iteration: 175. Loss: 1.1855441331863403. Accuracy: 62.0\n",
      "Iteration: 350. Loss: 0.9281437397003174. Accuracy: 62.0\n",
      "Epoch 23 of 25\n",
      "Iteration: 175. Loss: 1.1798200607299805. Accuracy: 71.0\n",
      "Iteration: 350. Loss: 0.9204320311546326. Accuracy: 63.0\n",
      "Epoch 24 of 25\n",
      "Iteration: 175. Loss: 1.1744818687438965. Accuracy: 73.0\n",
      "Iteration: 350. Loss: 0.9128801226615906. Accuracy: 61.0\n",
      "Epoch 25 of 25\n",
      "Iteration: 175. Loss: 1.168907880783081. Accuracy: 63.0\n",
      "Iteration: 350. Loss: 0.9054601788520813. Accuracy: 67.0\n"
     ]
    }
   ],
   "source": [
    "for e in range(epochs):\n",
    "    iter_n = 0\n",
    "    print(\"Epoch %d of %d\"%(e+1,epochs))\n",
    "    for imgs,labels in train_loader:\n",
    "        \n",
    "        imgs = imgs.to(device)\n",
    "        labels = labels.to(device)\n",
    "#         print(imgs.shape)\n",
    "        optimizer.zero_grad()\n",
    "        \n",
    "        preds = CNN(imgs)\n",
    "        loss = criterion(preds,labels)\n",
    "        \n",
    "        loss.backward()\n",
    "        optimizer.step()\n",
    "        \n",
    "        iter_n+=1\n",
    "#         print(iter_n)\n",
    "        if iter_n % 175 == 0:\n",
    "            total = 0\n",
    "            correct = 0\n",
    "            \n",
    "            for imgs,labels in valid_loader:\n",
    "                imgs = imgs.to(device)\n",
    "                labels = labels.to(device)\n",
    "                \n",
    "                preds = CNN(imgs)\n",
    "                outputs = torch.argmax(preds.data,1)\n",
    "                \n",
    "                total += imgs.shape[0]\n",
    "                \n",
    "                correct += 100.0*(outputs.cpu() == labels.cpu()).sum()\n",
    "                \n",
    "                if total>= 50:\n",
    "                    break\n",
    "            accuracy = correct/total\n",
    "            print('Iteration: {}. Loss: {}. Accuracy: {}'.format(iter_n, loss.item(), accuracy))\n",
    "                \n",
    "        "
   ]
  },
  {
   "cell_type": "code",
   "execution_count": 28,
   "metadata": {},
   "outputs": [
    {
     "name": "stdout",
     "output_type": "stream",
     "text": [
      "Accuracy: 65.56666564941406\n"
     ]
    }
   ],
   "source": [
    "total = 0\n",
    "correct = 0\n",
    "for imgs,labels in valid_loader:\n",
    "    imgs = imgs.to(device)\n",
    "    labels = labels.to(device)\n",
    "\n",
    "    preds = CNN(imgs)\n",
    "    outputs = torch.argmax(preds.data,1)\n",
    "\n",
    "    total += imgs.shape[0]\n",
    "\n",
    "    correct += 100.0*(outputs.cpu() == labels.cpu()).sum()\n",
    "accuracy = correct/total\n",
    "print('Accuracy: {}'.format(accuracy))\n"
   ]
  },
  {
   "cell_type": "code",
   "execution_count": 29,
   "metadata": {},
   "outputs": [
    {
     "name": "stdout",
     "output_type": "stream",
     "text": [
      "Training Accuracy: 65.35800170898438\n"
     ]
    }
   ],
   "source": [
    "total = 0\n",
    "correct = 0\n",
    "for imgs,labels in train_loader:\n",
    "    imgs = imgs.to(device)\n",
    "    labels = labels.to(device)\n",
    "\n",
    "    preds = CNN(imgs)\n",
    "    outputs = torch.argmax(preds.data,1)\n",
    "\n",
    "    total += imgs.shape[0]\n",
    "\n",
    "    correct += 100.0*(outputs.cpu() == labels.cpu()).sum()\n",
    "accuracy = correct/total\n",
    "print('Training Accuracy: {}'.format(accuracy))\n"
   ]
  },
  {
   "cell_type": "markdown",
   "metadata": {},
   "source": [
    "## 1 CNN, 0 BNorm, 1 Dense"
   ]
  },
  {
   "cell_type": "code",
   "execution_count": 30,
   "metadata": {},
   "outputs": [],
   "source": [
    "class CNNModel(nn.Module):\n",
    "    def __init__(self):\n",
    "        super().__init__()\n",
    "        self.cnn1 = nn.Conv2d(3,10,kernel_size=3,padding=1)\n",
    "        self.maxpool1 = nn.MaxPool2d(2)\n",
    "        self.dense1 = nn.Linear(10*16*16,10)\n",
    "    def forward(self,x):\n",
    "        out = self.cnn1(x)\n",
    "        out = self.maxpool1(out)\n",
    "        \n",
    "        out = out.view(out.shape[0],-1)\n",
    "        \n",
    "        out = self.dense1(out)\n",
    "#         out = F.softmax(out)\n",
    "        \n",
    "        return out\n",
    "        \n",
    "        "
   ]
  },
  {
   "cell_type": "code",
   "execution_count": 31,
   "metadata": {},
   "outputs": [],
   "source": [
    "device = \"cuda\" if torch.cuda.is_available() else \"cpu\""
   ]
  },
  {
   "cell_type": "code",
   "execution_count": 32,
   "metadata": {},
   "outputs": [],
   "source": [
    "CNN = CNNModel().to(device)"
   ]
  },
  {
   "cell_type": "code",
   "execution_count": 33,
   "metadata": {},
   "outputs": [],
   "source": [
    "lr = 0.001\n",
    "optimizer = optim.SGD(CNN.parameters(),lr= lr,momentum=0.6)\n",
    "criterion = nn.CrossEntropyLoss()"
   ]
  },
  {
   "cell_type": "code",
   "execution_count": 34,
   "metadata": {},
   "outputs": [],
   "source": [
    "epochs = 25\n",
    "iter_n = 0"
   ]
  },
  {
   "cell_type": "code",
   "execution_count": 35,
   "metadata": {},
   "outputs": [
    {
     "name": "stdout",
     "output_type": "stream",
     "text": [
      "Epoch 1 of 25\n",
      "Iteration: 175. Loss: 2.0499024391174316. Accuracy: 26.0\n",
      "Iteration: 350. Loss: 1.9542573690414429. Accuracy: 38.0\n",
      "Epoch 2 of 25\n",
      "Iteration: 175. Loss: 1.8603862524032593. Accuracy: 43.0\n",
      "Iteration: 350. Loss: 1.8056813478469849. Accuracy: 34.0\n",
      "Epoch 3 of 25\n",
      "Iteration: 175. Loss: 1.7827110290527344. Accuracy: 39.0\n",
      "Iteration: 350. Loss: 1.7305575609207153. Accuracy: 43.0\n",
      "Epoch 4 of 25\n",
      "Iteration: 175. Loss: 1.7349331378936768. Accuracy: 38.0\n",
      "Iteration: 350. Loss: 1.679904818534851. Accuracy: 40.0\n",
      "Epoch 5 of 25\n",
      "Iteration: 175. Loss: 1.7024378776550293. Accuracy: 41.0\n",
      "Iteration: 350. Loss: 1.6445605754852295. Accuracy: 37.0\n",
      "Epoch 6 of 25\n",
      "Iteration: 175. Loss: 1.6790611743927002. Accuracy: 41.0\n",
      "Iteration: 350. Loss: 1.6185753345489502. Accuracy: 36.0\n",
      "Epoch 7 of 25\n",
      "Iteration: 175. Loss: 1.6613181829452515. Accuracy: 40.0\n",
      "Iteration: 350. Loss: 1.5980857610702515. Accuracy: 53.0\n",
      "Epoch 8 of 25\n",
      "Iteration: 175. Loss: 1.6474796533584595. Accuracy: 40.0\n",
      "Iteration: 350. Loss: 1.5808736085891724. Accuracy: 45.0\n",
      "Epoch 9 of 25\n",
      "Iteration: 175. Loss: 1.6365083456039429. Accuracy: 44.0\n",
      "Iteration: 350. Loss: 1.5657756328582764. Accuracy: 39.0\n",
      "Epoch 10 of 25\n",
      "Iteration: 175. Loss: 1.6275826692581177. Accuracy: 46.0\n",
      "Iteration: 350. Loss: 1.5520645380020142. Accuracy: 48.0\n",
      "Epoch 11 of 25\n",
      "Iteration: 175. Loss: 1.6203311681747437. Accuracy: 48.0\n",
      "Iteration: 350. Loss: 1.53924560546875. Accuracy: 43.0\n",
      "Epoch 12 of 25\n",
      "Iteration: 175. Loss: 1.614283561706543. Accuracy: 46.0\n",
      "Iteration: 350. Loss: 1.5270898342132568. Accuracy: 43.0\n",
      "Epoch 13 of 25\n",
      "Iteration: 175. Loss: 1.6090481281280518. Accuracy: 50.0\n",
      "Iteration: 350. Loss: 1.5152804851531982. Accuracy: 53.0\n",
      "Epoch 14 of 25\n",
      "Iteration: 175. Loss: 1.6043674945831299. Accuracy: 56.0\n",
      "Iteration: 350. Loss: 1.5036958456039429. Accuracy: 44.0\n",
      "Epoch 15 of 25\n",
      "Iteration: 175. Loss: 1.599951982498169. Accuracy: 55.0\n",
      "Iteration: 350. Loss: 1.4922566413879395. Accuracy: 48.0\n",
      "Epoch 16 of 25\n",
      "Iteration: 175. Loss: 1.5957025289535522. Accuracy: 44.0\n",
      "Iteration: 350. Loss: 1.480983853340149. Accuracy: 55.0\n",
      "Epoch 17 of 25\n",
      "Iteration: 175. Loss: 1.5915981531143188. Accuracy: 54.0\n",
      "Iteration: 350. Loss: 1.4699125289916992. Accuracy: 53.0\n",
      "Epoch 18 of 25\n",
      "Iteration: 175. Loss: 1.5875555276870728. Accuracy: 50.0\n",
      "Iteration: 350. Loss: 1.4589635133743286. Accuracy: 58.0\n",
      "Epoch 19 of 25\n",
      "Iteration: 175. Loss: 1.5834739208221436. Accuracy: 53.0\n",
      "Iteration: 350. Loss: 1.4482474327087402. Accuracy: 57.0\n",
      "Epoch 20 of 25\n",
      "Iteration: 175. Loss: 1.5793346166610718. Accuracy: 51.0\n",
      "Iteration: 350. Loss: 1.4377338886260986. Accuracy: 50.0\n",
      "Epoch 21 of 25\n",
      "Iteration: 175. Loss: 1.5752254724502563. Accuracy: 55.0\n",
      "Iteration: 350. Loss: 1.4274119138717651. Accuracy: 56.0\n",
      "Epoch 22 of 25\n",
      "Iteration: 175. Loss: 1.5711902379989624. Accuracy: 60.0\n",
      "Iteration: 350. Loss: 1.4172759056091309. Accuracy: 50.0\n",
      "Epoch 23 of 25\n",
      "Iteration: 175. Loss: 1.5672049522399902. Accuracy: 53.0\n",
      "Iteration: 350. Loss: 1.407252550125122. Accuracy: 46.0\n",
      "Epoch 24 of 25\n",
      "Iteration: 175. Loss: 1.5631790161132812. Accuracy: 54.0\n",
      "Iteration: 350. Loss: 1.3972692489624023. Accuracy: 57.0\n",
      "Epoch 25 of 25\n",
      "Iteration: 175. Loss: 1.5590614080429077. Accuracy: 48.0\n",
      "Iteration: 350. Loss: 1.3874387741088867. Accuracy: 54.0\n"
     ]
    }
   ],
   "source": [
    "for e in range(epochs):\n",
    "    iter_n = 0\n",
    "    print(\"Epoch %d of %d\"%(e+1,epochs))\n",
    "    for imgs,labels in train_loader:\n",
    "        \n",
    "        imgs = imgs.to(device)\n",
    "        labels = labels.to(device)\n",
    "#         print(imgs.shape)\n",
    "        optimizer.zero_grad()\n",
    "        \n",
    "        preds = CNN(imgs)\n",
    "        loss = criterion(preds,labels)\n",
    "        \n",
    "        loss.backward()\n",
    "        optimizer.step()\n",
    "        \n",
    "        iter_n+=1\n",
    "#         print(iter_n)\n",
    "        if iter_n % 175 == 0:\n",
    "            total = 0\n",
    "            correct = 0\n",
    "            \n",
    "            for imgs,labels in valid_loader:\n",
    "                imgs = imgs.to(device)\n",
    "                labels = labels.to(device)\n",
    "                \n",
    "                preds = CNN(imgs)\n",
    "                outputs = torch.argmax(preds.data,1)\n",
    "                \n",
    "                total += imgs.shape[0]\n",
    "                \n",
    "                correct += 100.0*(outputs.cpu() == labels.cpu()).sum()\n",
    "                \n",
    "                if total>= 50:\n",
    "                    break\n",
    "            accuracy = correct/total\n",
    "            print('Iteration: {}. Loss: {}. Accuracy: {}'.format(iter_n, loss.item(), accuracy))\n",
    "                \n",
    "        "
   ]
  },
  {
   "cell_type": "code",
   "execution_count": 36,
   "metadata": {},
   "outputs": [
    {
     "name": "stdout",
     "output_type": "stream",
     "text": [
      "Accuracy: 51.95333480834961\n"
     ]
    }
   ],
   "source": [
    "total = 0\n",
    "correct = 0\n",
    "for imgs,labels in valid_loader:\n",
    "    imgs = imgs.to(device)\n",
    "    labels = labels.to(device)\n",
    "\n",
    "    preds = CNN(imgs)\n",
    "    outputs = torch.argmax(preds.data,1)\n",
    "\n",
    "    total += imgs.shape[0]\n",
    "\n",
    "    correct += 100.0*(outputs.cpu() == labels.cpu()).sum()\n",
    "accuracy = correct/total\n",
    "print('Accuracy: {}'.format(accuracy))\n"
   ]
  },
  {
   "cell_type": "code",
   "execution_count": 37,
   "metadata": {},
   "outputs": [
    {
     "name": "stdout",
     "output_type": "stream",
     "text": [
      "Training Accuracy: 51.4739990234375\n"
     ]
    }
   ],
   "source": [
    "total = 0\n",
    "correct = 0\n",
    "for imgs,labels in train_loader:\n",
    "    imgs = imgs.to(device)\n",
    "    labels = labels.to(device)\n",
    "\n",
    "    preds = CNN(imgs)\n",
    "    outputs = torch.argmax(preds.data,1)\n",
    "\n",
    "    total += imgs.shape[0]\n",
    "\n",
    "    correct += 100.0*(outputs.cpu() == labels.cpu()).sum()\n",
    "accuracy = correct/total\n",
    "print('Training Accuracy: {}'.format(accuracy))\n"
   ]
  },
  {
   "cell_type": "markdown",
   "metadata": {},
   "source": [
    "## 1 CNN, 1 BNorm, 2 Dense"
   ]
  },
  {
   "cell_type": "code",
   "execution_count": 44,
   "metadata": {},
   "outputs": [],
   "source": [
    "class CNNModel(nn.Module):\n",
    "    def __init__(self):\n",
    "        super().__init__()\n",
    "        self.cnn1 = nn.Conv2d(3,10,kernel_size=3,padding=1)\n",
    "        self.bnorm1 = nn.BatchNorm2d(10)\n",
    "        self.maxpool1 = nn.MaxPool2d(2)\n",
    "        self.dense1 = nn.Linear(10*16*16,64)\n",
    "        self.dense2 = nn.Linear(64,10)\n",
    "    def forward(self,x):\n",
    "        out = self.cnn1(x)\n",
    "        out = self.bnorm1(out)\n",
    "        out = self.maxpool1(out)\n",
    "        \n",
    "        out = out.view(out.shape[0],-1)\n",
    "        \n",
    "        out = F.relu(self.dense1(out))\n",
    "        out = self.dense2(out)\n",
    "#         out = F.softmax(out)\n",
    "        \n",
    "        return out\n",
    "        \n",
    "        "
   ]
  },
  {
   "cell_type": "code",
   "execution_count": 45,
   "metadata": {},
   "outputs": [],
   "source": [
    "device = \"cuda\" if torch.cuda.is_available() else \"cpu\""
   ]
  },
  {
   "cell_type": "code",
   "execution_count": 46,
   "metadata": {},
   "outputs": [],
   "source": [
    "CNN = CNNModel().to(device)"
   ]
  },
  {
   "cell_type": "code",
   "execution_count": 47,
   "metadata": {},
   "outputs": [],
   "source": [
    "lr = 0.001\n",
    "optimizer = optim.SGD(CNN.parameters(),lr= lr,momentum=0.6)\n",
    "criterion = nn.CrossEntropyLoss()"
   ]
  },
  {
   "cell_type": "code",
   "execution_count": 48,
   "metadata": {},
   "outputs": [],
   "source": [
    "epochs = 25\n",
    "iter_n = 0"
   ]
  },
  {
   "cell_type": "code",
   "execution_count": 49,
   "metadata": {},
   "outputs": [
    {
     "name": "stdout",
     "output_type": "stream",
     "text": [
      "Epoch 1 of 25\n",
      "Iteration: 175. Loss: 2.0165414810180664. Accuracy: 20.0\n",
      "Iteration: 350. Loss: 1.9329559803009033. Accuracy: 30.0\n",
      "Epoch 2 of 25\n",
      "Iteration: 175. Loss: 1.7590495347976685. Accuracy: 42.0\n",
      "Iteration: 350. Loss: 1.7343573570251465. Accuracy: 40.0\n",
      "Epoch 3 of 25\n",
      "Iteration: 175. Loss: 1.6513782739639282. Accuracy: 32.0\n",
      "Iteration: 350. Loss: 1.638769507408142. Accuracy: 58.0\n",
      "Epoch 4 of 25\n",
      "Iteration: 175. Loss: 1.5861330032348633. Accuracy: 46.0\n",
      "Iteration: 350. Loss: 1.5686743259429932. Accuracy: 44.0\n",
      "Epoch 5 of 25\n",
      "Iteration: 175. Loss: 1.5319992303848267. Accuracy: 49.0\n",
      "Iteration: 350. Loss: 1.5058608055114746. Accuracy: 40.0\n",
      "Epoch 6 of 25\n",
      "Iteration: 175. Loss: 1.4852964878082275. Accuracy: 54.0\n",
      "Iteration: 350. Loss: 1.4450868368148804. Accuracy: 49.0\n",
      "Epoch 7 of 25\n",
      "Iteration: 175. Loss: 1.4401849508285522. Accuracy: 60.0\n",
      "Iteration: 350. Loss: 1.3854775428771973. Accuracy: 47.0\n",
      "Epoch 8 of 25\n",
      "Iteration: 175. Loss: 1.3950564861297607. Accuracy: 60.0\n",
      "Iteration: 350. Loss: 1.3286144733428955. Accuracy: 46.0\n",
      "Epoch 9 of 25\n",
      "Iteration: 175. Loss: 1.3505754470825195. Accuracy: 54.0\n",
      "Iteration: 350. Loss: 1.2811462879180908. Accuracy: 55.0\n",
      "Epoch 10 of 25\n",
      "Iteration: 175. Loss: 1.3076902627944946. Accuracy: 64.0\n",
      "Iteration: 350. Loss: 1.2423588037490845. Accuracy: 58.0\n",
      "Epoch 11 of 25\n",
      "Iteration: 175. Loss: 1.2689255475997925. Accuracy: 60.0\n",
      "Iteration: 350. Loss: 1.2092576026916504. Accuracy: 53.0\n",
      "Epoch 12 of 25\n",
      "Iteration: 175. Loss: 1.2357009649276733. Accuracy: 64.0\n",
      "Iteration: 350. Loss: 1.1800401210784912. Accuracy: 57.0\n",
      "Epoch 13 of 25\n",
      "Iteration: 175. Loss: 1.2077466249465942. Accuracy: 57.0\n",
      "Iteration: 350. Loss: 1.15238618850708. Accuracy: 63.0\n",
      "Epoch 14 of 25\n",
      "Iteration: 175. Loss: 1.1860638856887817. Accuracy: 66.0\n",
      "Iteration: 350. Loss: 1.129597544670105. Accuracy: 64.0\n",
      "Epoch 15 of 25\n",
      "Iteration: 175. Loss: 1.1686320304870605. Accuracy: 66.0\n",
      "Iteration: 350. Loss: 1.1103154420852661. Accuracy: 63.0\n",
      "Epoch 16 of 25\n",
      "Iteration: 175. Loss: 1.1516563892364502. Accuracy: 70.0\n",
      "Iteration: 350. Loss: 1.0977070331573486. Accuracy: 66.0\n",
      "Epoch 17 of 25\n",
      "Iteration: 175. Loss: 1.138045072555542. Accuracy: 66.0\n",
      "Iteration: 350. Loss: 1.081108570098877. Accuracy: 64.0\n",
      "Epoch 18 of 25\n",
      "Iteration: 175. Loss: 1.1224581003189087. Accuracy: 63.0\n",
      "Iteration: 350. Loss: 1.0627950429916382. Accuracy: 71.0\n",
      "Epoch 19 of 25\n",
      "Iteration: 175. Loss: 1.1085323095321655. Accuracy: 72.0\n",
      "Iteration: 350. Loss: 1.0468723773956299. Accuracy: 60.0\n",
      "Epoch 20 of 25\n",
      "Iteration: 175. Loss: 1.094577431678772. Accuracy: 71.0\n",
      "Iteration: 350. Loss: 1.030970573425293. Accuracy: 71.0\n",
      "Epoch 21 of 25\n",
      "Iteration: 175. Loss: 1.0816612243652344. Accuracy: 66.0\n",
      "Iteration: 350. Loss: 1.014655351638794. Accuracy: 72.0\n",
      "Epoch 22 of 25\n",
      "Iteration: 175. Loss: 1.0684382915496826. Accuracy: 66.0\n",
      "Iteration: 350. Loss: 1.000368595123291. Accuracy: 70.0\n",
      "Epoch 23 of 25\n",
      "Iteration: 175. Loss: 1.054684042930603. Accuracy: 72.0\n",
      "Iteration: 350. Loss: 0.9846780896186829. Accuracy: 69.0\n",
      "Epoch 24 of 25\n",
      "Iteration: 175. Loss: 1.0435798168182373. Accuracy: 63.0\n",
      "Iteration: 350. Loss: 0.9691763520240784. Accuracy: 74.0\n",
      "Epoch 25 of 25\n",
      "Iteration: 175. Loss: 1.0298686027526855. Accuracy: 68.0\n",
      "Iteration: 350. Loss: 0.9573312401771545. Accuracy: 68.0\n"
     ]
    }
   ],
   "source": [
    "for e in range(epochs):\n",
    "    iter_n = 0\n",
    "    print(\"Epoch %d of %d\"%(e+1,epochs))\n",
    "    for imgs,labels in train_loader:\n",
    "        \n",
    "        imgs = imgs.to(device)\n",
    "        labels = labels.to(device)\n",
    "#         print(imgs.shape)\n",
    "        optimizer.zero_grad()\n",
    "        \n",
    "        preds = CNN(imgs)\n",
    "        loss = criterion(preds,labels)\n",
    "        \n",
    "        loss.backward()\n",
    "        optimizer.step()\n",
    "        \n",
    "        iter_n+=1\n",
    "#         print(iter_n)\n",
    "        if iter_n % 175 == 0:\n",
    "            total = 0\n",
    "            correct = 0\n",
    "            \n",
    "            for imgs,labels in valid_loader:\n",
    "                imgs = imgs.to(device)\n",
    "                labels = labels.to(device)\n",
    "                \n",
    "                preds = CNN(imgs)\n",
    "                outputs = torch.argmax(preds.data,1)\n",
    "                \n",
    "                total += imgs.shape[0]\n",
    "                \n",
    "                correct += 100.0*(outputs.cpu() == labels.cpu()).sum()\n",
    "                \n",
    "                if total>= 50:\n",
    "                    break\n",
    "            accuracy = correct/total\n",
    "            print('Iteration: {}. Loss: {}. Accuracy: {}'.format(iter_n, loss.item(), accuracy))\n",
    "                \n",
    "        "
   ]
  },
  {
   "cell_type": "code",
   "execution_count": 50,
   "metadata": {},
   "outputs": [
    {
     "name": "stdout",
     "output_type": "stream",
     "text": [
      "Accuracy: 68.45999908447266\n"
     ]
    }
   ],
   "source": [
    "total = 0\n",
    "correct = 0\n",
    "for imgs,labels in valid_loader:\n",
    "    imgs = imgs.to(device)\n",
    "    labels = labels.to(device)\n",
    "\n",
    "    preds = CNN(imgs)\n",
    "    outputs = torch.argmax(preds.data,1)\n",
    "\n",
    "    total += imgs.shape[0]\n",
    "\n",
    "    correct += 100.0*(outputs.cpu() == labels.cpu()).sum()\n",
    "accuracy = correct/total\n",
    "print('Accuracy: {}'.format(accuracy))\n"
   ]
  },
  {
   "cell_type": "code",
   "execution_count": 51,
   "metadata": {},
   "outputs": [
    {
     "name": "stdout",
     "output_type": "stream",
     "text": [
      "Training Accuracy: 68.47799682617188\n"
     ]
    }
   ],
   "source": [
    "total = 0\n",
    "correct = 0\n",
    "for imgs,labels in train_loader:\n",
    "    imgs = imgs.to(device)\n",
    "    labels = labels.to(device)\n",
    "\n",
    "    preds = CNN(imgs)\n",
    "    outputs = torch.argmax(preds.data,1)\n",
    "\n",
    "    total += imgs.shape[0]\n",
    "\n",
    "    correct += 100.0*(outputs.cpu() == labels.cpu()).sum()\n",
    "accuracy = correct/total\n",
    "print('Training Accuracy: {}'.format(accuracy))\n"
   ]
  },
  {
   "cell_type": "markdown",
   "metadata": {},
   "source": [
    "## 2 CNN, 1 BNorm, 1 Dense"
   ]
  },
  {
   "cell_type": "code",
   "execution_count": 68,
   "metadata": {},
   "outputs": [],
   "source": [
    "class CNNModel(nn.Module):\n",
    "    def __init__(self):\n",
    "        super().__init__()\n",
    "        self.cnn1 = nn.Conv2d(3,10,kernel_size=3,padding=1)\n",
    "        self.cnn2 = nn.Conv2d(10,20,kernel_size=3,padding=1)\n",
    "        self.bnorm1 = nn.BatchNorm2d(20)\n",
    "        self.maxpool1 = nn.MaxPool2d(2)\n",
    "        self.dense1 = nn.Linear(20*16*16,10)\n",
    "    def forward(self,x):\n",
    "        out = self.cnn1(x)\n",
    "        out = self.cnn2(out)\n",
    "        out = self.bnorm1(out)\n",
    "        out = self.maxpool1(out)\n",
    "        \n",
    "        out = out.view(out.shape[0],-1)\n",
    "        \n",
    "        out = self.dense1(out)\n",
    "#         out = F.softmax(out)\n",
    "        \n",
    "        return out\n",
    "        \n",
    "        "
   ]
  },
  {
   "cell_type": "code",
   "execution_count": 69,
   "metadata": {},
   "outputs": [],
   "source": [
    "device = \"cuda\" if torch.cuda.is_available() else \"cpu\""
   ]
  },
  {
   "cell_type": "code",
   "execution_count": 70,
   "metadata": {},
   "outputs": [],
   "source": [
    "CNN = CNNModel().to(device)"
   ]
  },
  {
   "cell_type": "code",
   "execution_count": 71,
   "metadata": {},
   "outputs": [],
   "source": [
    "lr = 0.001\n",
    "optimizer = optim.SGD(CNN.parameters(),lr= lr,momentum=0.6)\n",
    "criterion = nn.CrossEntropyLoss()"
   ]
  },
  {
   "cell_type": "code",
   "execution_count": 72,
   "metadata": {},
   "outputs": [],
   "source": [
    "epochs = 25\n",
    "iter_n = 0\n",
    "iter_total = 0\n",
    "stats_list = list()"
   ]
  },
  {
   "cell_type": "code",
   "execution_count": 73,
   "metadata": {},
   "outputs": [
    {
     "name": "stdout",
     "output_type": "stream",
     "text": [
      "Epoch 1 of 25\n",
      "Iteration: 175. Loss: 1.7836648225784302. Accuracy: 46.0\n",
      "Iteration: 350. Loss: 1.4917863607406616. Accuracy: 50.0\n",
      "Epoch 2 of 25\n",
      "Iteration: 175. Loss: 1.5144418478012085. Accuracy: 56.0\n",
      "Iteration: 350. Loss: 1.3242148160934448. Accuracy: 50.0\n",
      "Epoch 3 of 25\n",
      "Iteration: 175. Loss: 1.3687607049942017. Accuracy: 48.0\n",
      "Iteration: 350. Loss: 1.2124488353729248. Accuracy: 51.0\n",
      "Epoch 4 of 25\n",
      "Iteration: 175. Loss: 1.263697862625122. Accuracy: 63.0\n",
      "Iteration: 350. Loss: 1.1261042356491089. Accuracy: 64.0\n",
      "Epoch 5 of 25\n",
      "Iteration: 175. Loss: 1.1849582195281982. Accuracy: 63.0\n",
      "Iteration: 350. Loss: 1.0587754249572754. Accuracy: 58.0\n",
      "Epoch 6 of 25\n",
      "Iteration: 175. Loss: 1.1275197267532349. Accuracy: 62.0\n",
      "Iteration: 350. Loss: 1.004307508468628. Accuracy: 63.0\n",
      "Epoch 7 of 25\n",
      "Iteration: 175. Loss: 1.0842337608337402. Accuracy: 68.0\n",
      "Iteration: 350. Loss: 0.9607884883880615. Accuracy: 68.0\n",
      "Epoch 8 of 25\n",
      "Iteration: 175. Loss: 1.0515108108520508. Accuracy: 67.0\n",
      "Iteration: 350. Loss: 0.9251671433448792. Accuracy: 71.0\n",
      "Epoch 9 of 25\n",
      "Iteration: 175. Loss: 1.025915503501892. Accuracy: 78.0\n",
      "Iteration: 350. Loss: 0.8964257836341858. Accuracy: 69.0\n",
      "Epoch 10 of 25\n",
      "Iteration: 175. Loss: 1.005861520767212. Accuracy: 69.0\n",
      "Iteration: 350. Loss: 0.8725602030754089. Accuracy: 69.0\n",
      "Epoch 11 of 25\n",
      "Iteration: 175. Loss: 0.9877397418022156. Accuracy: 69.0\n",
      "Iteration: 350. Loss: 0.8526211380958557. Accuracy: 68.0\n",
      "Epoch 12 of 25\n",
      "Iteration: 175. Loss: 0.972211480140686. Accuracy: 71.0\n",
      "Iteration: 350. Loss: 0.8351625800132751. Accuracy: 74.0\n",
      "Epoch 13 of 25\n",
      "Iteration: 175. Loss: 0.9590217471122742. Accuracy: 67.0\n",
      "Iteration: 350. Loss: 0.820524275302887. Accuracy: 71.0\n",
      "Epoch 14 of 25\n",
      "Iteration: 175. Loss: 0.946489155292511. Accuracy: 75.0\n",
      "Iteration: 350. Loss: 0.8070670366287231. Accuracy: 67.0\n",
      "Epoch 15 of 25\n",
      "Iteration: 175. Loss: 0.935544490814209. Accuracy: 61.0\n",
      "Iteration: 350. Loss: 0.7942022085189819. Accuracy: 74.0\n",
      "Epoch 16 of 25\n",
      "Iteration: 175. Loss: 0.9257403016090393. Accuracy: 71.0\n",
      "Iteration: 350. Loss: 0.7824954390525818. Accuracy: 67.0\n",
      "Epoch 17 of 25\n",
      "Iteration: 175. Loss: 0.9170652031898499. Accuracy: 70.0\n",
      "Iteration: 350. Loss: 0.771716833114624. Accuracy: 73.0\n",
      "Epoch 18 of 25\n",
      "Iteration: 175. Loss: 0.9099373817443848. Accuracy: 72.0\n",
      "Iteration: 350. Loss: 0.7620007395744324. Accuracy: 80.0\n",
      "Epoch 19 of 25\n",
      "Iteration: 175. Loss: 0.9030354022979736. Accuracy: 75.0\n",
      "Iteration: 350. Loss: 0.7519446015357971. Accuracy: 66.0\n",
      "Epoch 20 of 25\n",
      "Iteration: 175. Loss: 0.8965293169021606. Accuracy: 69.0\n",
      "Iteration: 350. Loss: 0.7429811358451843. Accuracy: 67.0\n",
      "Epoch 21 of 25\n",
      "Iteration: 175. Loss: 0.8907103538513184. Accuracy: 71.0\n",
      "Iteration: 350. Loss: 0.7347865104675293. Accuracy: 65.0\n",
      "Epoch 22 of 25\n",
      "Iteration: 175. Loss: 0.8852163553237915. Accuracy: 70.0\n",
      "Iteration: 350. Loss: 0.72760409116745. Accuracy: 76.0\n",
      "Epoch 23 of 25\n",
      "Iteration: 175. Loss: 0.8797869086265564. Accuracy: 71.0\n",
      "Iteration: 350. Loss: 0.7204398512840271. Accuracy: 76.0\n",
      "Epoch 24 of 25\n",
      "Iteration: 175. Loss: 0.874312162399292. Accuracy: 76.0\n",
      "Iteration: 350. Loss: 0.7131901383399963. Accuracy: 67.0\n",
      "Epoch 25 of 25\n",
      "Iteration: 175. Loss: 0.8689509630203247. Accuracy: 70.0\n",
      "Iteration: 350. Loss: 0.7063785791397095. Accuracy: 73.0\n"
     ]
    }
   ],
   "source": [
    "for e in range(epochs):\n",
    "    iter_n = 0\n",
    "    print(\"Epoch %d of %d\"%(e+1,epochs))\n",
    "    for imgs,labels in train_loader:\n",
    "        \n",
    "        imgs = imgs.to(device)\n",
    "        labels = labels.to(device)\n",
    "#         print(imgs.shape)\n",
    "        optimizer.zero_grad()\n",
    "        \n",
    "        preds = CNN(imgs)\n",
    "        loss = criterion(preds,labels)\n",
    "        \n",
    "        loss.backward()\n",
    "        optimizer.step()\n",
    "        \n",
    "        iter_n+=1\n",
    "        iter_total += 1\n",
    "#         print(iter_n)\n",
    "        if iter_n % 175 == 0:\n",
    "            total = 0\n",
    "            correct = 0\n",
    "            \n",
    "            for imgs,labels in valid_loader:\n",
    "                imgs = imgs.to(device)\n",
    "                labels = labels.to(device)\n",
    "                \n",
    "                preds = CNN(imgs)\n",
    "                outputs = torch.argmax(preds.data,1)\n",
    "                test_loss = criterion(preds,labels)\n",
    "                total += imgs.shape[0]\n",
    "                \n",
    "                correct += 100.0*(outputs.cpu() == labels.cpu()).sum()\n",
    "                \n",
    "                if total>= 50:\n",
    "                    break\n",
    "            accuracy = correct/total\n",
    "            correct = 0\n",
    "            total = 0\n",
    "            for imgs,labels in train_loader:\n",
    "                imgs = imgs.to(device)\n",
    "                labels = labels.to(device)\n",
    "                \n",
    "                preds = CNN(imgs)\n",
    "                outputs = torch.argmax(preds.data,1)\n",
    "                train_loss = criterion(preds,labels)\n",
    "                total += imgs.shape[0]\n",
    "                \n",
    "                correct += 100.0*(outputs.cpu() == labels.cpu()).sum()\n",
    "                \n",
    "                if total>= 50:\n",
    "                    break\n",
    "            train_acc = correct/total\n",
    "            if iter_n%350 == 0:\n",
    "                stats_list.append([train_acc,accuracy,train_loss,test_loss])\n",
    "            print('Iteration: {}. Loss: {}. Accuracy: {}'.format(iter_n, loss.item(), accuracy))\n",
    "                \n",
    "        "
   ]
  },
  {
   "cell_type": "code",
   "execution_count": 74,
   "metadata": {},
   "outputs": [
    {
     "name": "stdout",
     "output_type": "stream",
     "text": [
      "Accuracy: 73.44666290283203\n"
     ]
    }
   ],
   "source": [
    "total = 0\n",
    "correct = 0\n",
    "for imgs,labels in valid_loader:\n",
    "    imgs = imgs.to(device)\n",
    "    labels = labels.to(device)\n",
    "\n",
    "    preds = CNN(imgs)\n",
    "    outputs = torch.argmax(preds.data,1)\n",
    "\n",
    "    total += imgs.shape[0]\n",
    "\n",
    "    correct += 100.0*(outputs.cpu() == labels.cpu()).sum()\n",
    "accuracy = correct/total\n",
    "print('Accuracy: {}'.format(accuracy))\n"
   ]
  },
  {
   "cell_type": "code",
   "execution_count": 75,
   "metadata": {},
   "outputs": [
    {
     "name": "stdout",
     "output_type": "stream",
     "text": [
      "Training Accuracy: 73.44999694824219\n"
     ]
    }
   ],
   "source": [
    "total = 0\n",
    "correct = 0\n",
    "for imgs,labels in train_loader:\n",
    "    imgs = imgs.to(device)\n",
    "    labels = labels.to(device)\n",
    "\n",
    "    preds = CNN(imgs)\n",
    "    outputs = torch.argmax(preds.data,1)\n",
    "\n",
    "    total += imgs.shape[0]\n",
    "\n",
    "    correct += 100.0*(outputs.cpu() == labels.cpu()).sum()\n",
    "accuracy = correct/total\n",
    "print('Training Accuracy: {}'.format(accuracy))\n"
   ]
  },
  {
   "cell_type": "code",
   "execution_count": 80,
   "metadata": {},
   "outputs": [
    {
     "data": {
      "image/png": "[encoded data removed]",
      "text/plain": [
       "<Figure size 432x288 with 1 Axes>"
      ]
     },
     "metadata": {
      "needs_background": "light"
     },
     "output_type": "display_data"
    },
    {
     "data": {
      "image/png": "[encoded data removed]",
      "text/plain": [
       "<Figure size 432x288 with 1 Axes>"
      ]
     },
     "metadata": {
      "needs_background": "light"
     },
     "output_type": "display_data"
    }
   ],
   "source": [
    "stats_np = np.array(stats_list)\n",
    "plt.figure()\n",
    "plt.plot(list(range(1,stats_np.shape[0]+1)),stats_np[:,0],label = \"Training Accuracy\",)\n",
    "plt.plot(list(range(1,stats_np.shape[0]+1)),stats_np[:,1],label = \"Validation Accuracy\")\n",
    "plt.legend()\n",
    "plt.xlabel('Epochs')\n",
    "plt.ylabel('Accuracy')\n",
    "plt.title(\"Epochs vs Accuracy\")\n",
    "plt.show()\n",
    "\n",
    "plt.figure()\n",
    "plt.plot(list(range(1,stats_np.shape[0]+1)),stats_np[:,2],label = \"Training Loss\",)\n",
    "plt.plot(list(range(1,stats_np.shape[0]+1)),stats_np[:,3],label = \"Validation Loss\")\n",
    "plt.legend()\n",
    "plt.xlabel('Epochs')\n",
    "plt.ylabel('Loss')\n",
    "plt.title(\"Epochs vs Loss\")\n",
    "plt.show()"
   ]
  },
  {
   "cell_type": "code",
   "execution_count": 81,
   "metadata": {},
   "outputs": [
    {
     "data": {
      "text/plain": [
       "CNNModel(\n",
       "  (cnn1): Conv2d(3, 10, kernel_size=(3, 3), stride=(1, 1), padding=(1, 1))\n",
       "  (cnn2): Conv2d(10, 20, kernel_size=(3, 3), stride=(1, 1), padding=(1, 1))\n",
       "  (bnorm1): BatchNorm2d(20, eps=1e-05, momentum=0.1, affine=True, track_running_stats=True)\n",
       "  (maxpool1): MaxPool2d(kernel_size=2, stride=2, padding=0, dilation=1, ceil_mode=False)\n",
       "  (dense1): Linear(in_features=5120, out_features=10, bias=True)\n",
       ")"
      ]
     },
     "execution_count": 81,
     "metadata": {},
     "output_type": "execute_result"
    }
   ],
   "source": [
    "CNN"
   ]
  },
  {
   "cell_type": "code",
   "execution_count": 82,
   "metadata": {},
   "outputs": [],
   "source": [
    "torch.save(CNN.state_dict(), 'q1.pth')"
   ]
  }
 ],
 "metadata": {
  "kernelspec": {
   "display_name": "env",
   "language": "python",
   "name": "env"
  },
  "language_info": {
   "codemirror_mode": {
    "name": "ipython",
    "version": 3
   },
   "file_extension": ".py",
   "mimetype": "text/x-python",
   "name": "python",
   "nbconvert_exporter": "python",
   "pygments_lexer": "ipython3",
   "version": "3.7.4"
  }
 },
 "nbformat": 4,
 "nbformat_minor": 4
}
