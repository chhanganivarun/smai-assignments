{
 "cells": [
  {
   "cell_type": "markdown",
   "metadata": {
    "id": "V5RPXC993g5f"
   },
   "source": [
    "**INSTRUCTIONS**"
   ]
  },
  {
   "cell_type": "markdown",
   "metadata": {
    "id": "wc6StAvu3oRv"
   },
   "source": [
    "\n",
    "\n",
    "1.  The assignment contains four questions. A few bonus questions are mentioned. \n",
    "2.   This assignment is due on **6th Feb, 23:59 **(**No Further extensions**).\n",
    "3.   Assignment must be implemented in Python 3 only.\n",
    "4.   You are allowed to use libraries for data preprocessing (numpy, pandas etc) and for evaluation metrics, data visualization (matplotlib etc.).\n",
    "5.   You will be evaluated not just on the overall performance of the model and also on the experimentation with hyper parameters, data prepossessing techniques etc.\n",
    "6.   The report file must be a well documented jupyter notebook, explaining the experiments you have performed, evaluation metrics and corresponding code. The code must run and be able to reproduce the accuracies, figures/graphs etc.\n",
    "7.   For all the questions, you must create a train-validation data split and test the hyperparameter tuning on the validation set. Your jupyter notebook must reflect the same.\n",
    "8.   Any attempts at **plagiarism will be penalized heavily**.\n",
    "9.   Make sure you run and save your notebooks before submission.\n",
    "10.  For question 3 of the Decision Trees section, output your model's depth first traversal into ```outputimp.txt``` and submit it along with the ipynb file.\n",
    "10. Naming convention for the ipynb file is ```<roll_number>_assign1.ipynb```\n",
    "11. Compress your submission files into a zip file with the naming convention: ```<roll_number>_assign1.zip``` and submit in the portal."
   ]
  },
  {
   "cell_type": "markdown",
   "metadata": {
    "id": "nncP5eQd0IXL"
   },
   "source": [
    "#**1) REGRESSION**\n",
    "\n",
    "Please find the Diamond Price Prediction Data set https://drive.google.com/drive/folders/1qE1tm3Ke3uotTyv6SUqruI09t-AkcwRK?usp=sharing. \"description.txt\" contains the feature description of data, \"diamonds.csv\" has the data."
   ]
  },
  {
   "cell_type": "code",
   "execution_count": 1,
   "metadata": {},
   "outputs": [],
   "source": [
    "from __future__ import print_function\n",
    "import time"
   ]
  },
  {
   "cell_type": "code",
   "execution_count": 2,
   "metadata": {
    "id": "EhFbx6v-4SP8"
   },
   "outputs": [],
   "source": [
    "# To read data from diamonds.csv\n",
    "import pandas as pd\n",
    "import numpy as np\n",
    "from sklearn.model_selection import train_test_split\n",
    "from matplotlib import pyplot as plt\n",
    "from tqdm.notebook import tqdm\n",
    "from sklearn.metrics import r2_score, mean_absolute_error, mean_squared_error\n",
    "\n",
    "import seaborn as sns"
   ]
  },
  {
   "cell_type": "code",
   "execution_count": 52,
   "metadata": {
    "id": "EhFbx6v-4SP8"
   },
   "outputs": [
    {
     "name": "stdout",
     "output_type": "stream",
     "text": [
      "\n"
     ]
    },
    {
     "data": {
      "text/html": [
       "<div>\n",
       "<style scoped>\n",
       "    .dataframe tbody tr th:only-of-type {\n",
       "        vertical-align: middle;\n",
       "    }\n",
       "\n",
       "    .dataframe tbody tr th {\n",
       "        vertical-align: top;\n",
       "    }\n",
       "\n",
       "    .dataframe thead th {\n",
       "        text-align: right;\n",
       "    }\n",
       "</style>\n",
       "<table border=\"1\" class=\"dataframe\">\n",
       "  <thead>\n",
       "    <tr style=\"text-align: right;\">\n",
       "      <th></th>\n",
       "      <th>carat</th>\n",
       "      <th>cut</th>\n",
       "      <th>color</th>\n",
       "      <th>clarity</th>\n",
       "      <th>depth</th>\n",
       "      <th>table</th>\n",
       "      <th>price</th>\n",
       "      <th>x</th>\n",
       "      <th>y</th>\n",
       "      <th>z</th>\n",
       "    </tr>\n",
       "  </thead>\n",
       "  <tbody>\n",
       "    <tr>\n",
       "      <th>count</th>\n",
       "      <td>53940</td>\n",
       "      <td>53940</td>\n",
       "      <td>53940</td>\n",
       "      <td>53940</td>\n",
       "      <td>53940</td>\n",
       "      <td>53940</td>\n",
       "      <td>53940</td>\n",
       "      <td>53940</td>\n",
       "      <td>53940</td>\n",
       "      <td>53940</td>\n",
       "    </tr>\n",
       "    <tr>\n",
       "      <th>unique</th>\n",
       "      <td>273</td>\n",
       "      <td>5</td>\n",
       "      <td>7</td>\n",
       "      <td>8</td>\n",
       "      <td>184</td>\n",
       "      <td>127</td>\n",
       "      <td>11602</td>\n",
       "      <td>554</td>\n",
       "      <td>552</td>\n",
       "      <td>375</td>\n",
       "    </tr>\n",
       "    <tr>\n",
       "      <th>top</th>\n",
       "      <td>0.3</td>\n",
       "      <td>Ideal</td>\n",
       "      <td>G</td>\n",
       "      <td>SI1</td>\n",
       "      <td>62</td>\n",
       "      <td>56</td>\n",
       "      <td>605</td>\n",
       "      <td>4.37</td>\n",
       "      <td>4.34</td>\n",
       "      <td>2.7</td>\n",
       "    </tr>\n",
       "    <tr>\n",
       "      <th>freq</th>\n",
       "      <td>2604</td>\n",
       "      <td>21551</td>\n",
       "      <td>11292</td>\n",
       "      <td>13065</td>\n",
       "      <td>2239</td>\n",
       "      <td>9881</td>\n",
       "      <td>132</td>\n",
       "      <td>448</td>\n",
       "      <td>437</td>\n",
       "      <td>767</td>\n",
       "    </tr>\n",
       "  </tbody>\n",
       "</table>\n",
       "</div>"
      ],
      "text/plain": [
       "        carat    cut  color clarity  depth  table  price      x      y      z\n",
       "count   53940  53940  53940   53940  53940  53940  53940  53940  53940  53940\n",
       "unique    273      5      7       8    184    127  11602    554    552    375\n",
       "top       0.3  Ideal      G     SI1     62     56    605   4.37   4.34    2.7\n",
       "freq     2604  21551  11292   13065   2239   9881    132    448    437    767"
      ]
     },
     "execution_count": 52,
     "metadata": {},
     "output_type": "execute_result"
    }
   ],
   "source": [
    "headers = [\"carat\",\t\"cut\",\"color\",\"clarity\",\"depth\",\"table\",\"price\",\"x\",\"y\",\"z\"]\n",
    "data = pd.read_csv('diamonds.csv', na_values='?',    \n",
    "         header=None,  names = headers) \n",
    "data = data.reset_index(drop=True)\n",
    "data = data.iloc[1:]\n",
    "data.describe()\n",
    "#print(data) "
   ]
  },
  {
   "cell_type": "code",
   "execution_count": 53,
   "metadata": {},
   "outputs": [],
   "source": [
    "from sklearn.preprocessing import LabelEncoder"
   ]
  },
  {
   "cell_type": "code",
   "execution_count": 54,
   "metadata": {},
   "outputs": [],
   "source": [
    "data['carat'] = data['carat'].astype(np.float)\n",
    "data['depth'] = data['depth'].astype(np.float)\n",
    "data['table'] = data['table'].astype(np.float)\n",
    "data['price'] = data['price'].astype(np.float)\n",
    "data['x'] = data['x'].astype(np.float)\n",
    "data['y'] = data['y'].astype(np.float)\n",
    "data['z'] = data['z'].astype(np.float)"
   ]
  },
  {
   "cell_type": "code",
   "execution_count": 55,
   "metadata": {},
   "outputs": [],
   "source": [
    "data['cut'] = data['cut'].replace({'Fair':0,'Good':1,'Very Good':2,'Premium':3,'Ideal':4})"
   ]
  },
  {
   "cell_type": "code",
   "execution_count": 56,
   "metadata": {},
   "outputs": [],
   "source": [
    "data['color'] = data['color'].replace({k: v for v, k in enumerate(sorted([*'DEFGHIJ',],reverse=True))})"
   ]
  },
  {
   "cell_type": "code",
   "execution_count": 57,
   "metadata": {},
   "outputs": [],
   "source": [
    "data['clarity'] = data['clarity'].replace({k: v for v, k in enumerate(['I1', 'SI2', 'SI1', 'VS2', 'VS1', 'VVS2', 'VVS1', 'IF'])})"
   ]
  },
  {
   "cell_type": "code",
   "execution_count": 58,
   "metadata": {},
   "outputs": [
    {
     "data": {
      "text/html": [
       "<div>\n",
       "<style scoped>\n",
       "    .dataframe tbody tr th:only-of-type {\n",
       "        vertical-align: middle;\n",
       "    }\n",
       "\n",
       "    .dataframe tbody tr th {\n",
       "        vertical-align: top;\n",
       "    }\n",
       "\n",
       "    .dataframe thead th {\n",
       "        text-align: right;\n",
       "    }\n",
       "</style>\n",
       "<table border=\"1\" class=\"dataframe\">\n",
       "  <thead>\n",
       "    <tr style=\"text-align: right;\">\n",
       "      <th></th>\n",
       "      <th>carat</th>\n",
       "      <th>cut</th>\n",
       "      <th>color</th>\n",
       "      <th>clarity</th>\n",
       "      <th>depth</th>\n",
       "      <th>table</th>\n",
       "      <th>price</th>\n",
       "      <th>x</th>\n",
       "      <th>y</th>\n",
       "      <th>z</th>\n",
       "    </tr>\n",
       "  </thead>\n",
       "  <tbody>\n",
       "    <tr>\n",
       "      <th>count</th>\n",
       "      <td>53940.000000</td>\n",
       "      <td>53940.000000</td>\n",
       "      <td>53940.000000</td>\n",
       "      <td>53940.000000</td>\n",
       "      <td>53940.000000</td>\n",
       "      <td>53940.000000</td>\n",
       "      <td>53940.000000</td>\n",
       "      <td>53940.000000</td>\n",
       "      <td>53940.000000</td>\n",
       "      <td>53940.000000</td>\n",
       "    </tr>\n",
       "    <tr>\n",
       "      <th>mean</th>\n",
       "      <td>0.797940</td>\n",
       "      <td>2.904097</td>\n",
       "      <td>3.405803</td>\n",
       "      <td>3.051020</td>\n",
       "      <td>61.749405</td>\n",
       "      <td>57.457184</td>\n",
       "      <td>3932.799722</td>\n",
       "      <td>5.731157</td>\n",
       "      <td>5.734526</td>\n",
       "      <td>3.538734</td>\n",
       "    </tr>\n",
       "    <tr>\n",
       "      <th>std</th>\n",
       "      <td>0.474011</td>\n",
       "      <td>1.116600</td>\n",
       "      <td>1.701105</td>\n",
       "      <td>1.647136</td>\n",
       "      <td>1.432621</td>\n",
       "      <td>2.234491</td>\n",
       "      <td>3989.439738</td>\n",
       "      <td>1.121761</td>\n",
       "      <td>1.142135</td>\n",
       "      <td>0.705699</td>\n",
       "    </tr>\n",
       "    <tr>\n",
       "      <th>min</th>\n",
       "      <td>0.200000</td>\n",
       "      <td>0.000000</td>\n",
       "      <td>0.000000</td>\n",
       "      <td>0.000000</td>\n",
       "      <td>43.000000</td>\n",
       "      <td>43.000000</td>\n",
       "      <td>326.000000</td>\n",
       "      <td>0.000000</td>\n",
       "      <td>0.000000</td>\n",
       "      <td>0.000000</td>\n",
       "    </tr>\n",
       "    <tr>\n",
       "      <th>25%</th>\n",
       "      <td>0.400000</td>\n",
       "      <td>2.000000</td>\n",
       "      <td>2.000000</td>\n",
       "      <td>2.000000</td>\n",
       "      <td>61.000000</td>\n",
       "      <td>56.000000</td>\n",
       "      <td>950.000000</td>\n",
       "      <td>4.710000</td>\n",
       "      <td>4.720000</td>\n",
       "      <td>2.910000</td>\n",
       "    </tr>\n",
       "    <tr>\n",
       "      <th>50%</th>\n",
       "      <td>0.700000</td>\n",
       "      <td>3.000000</td>\n",
       "      <td>3.000000</td>\n",
       "      <td>3.000000</td>\n",
       "      <td>61.800000</td>\n",
       "      <td>57.000000</td>\n",
       "      <td>2401.000000</td>\n",
       "      <td>5.700000</td>\n",
       "      <td>5.710000</td>\n",
       "      <td>3.530000</td>\n",
       "    </tr>\n",
       "    <tr>\n",
       "      <th>75%</th>\n",
       "      <td>1.040000</td>\n",
       "      <td>4.000000</td>\n",
       "      <td>5.000000</td>\n",
       "      <td>4.000000</td>\n",
       "      <td>62.500000</td>\n",
       "      <td>59.000000</td>\n",
       "      <td>5324.250000</td>\n",
       "      <td>6.540000</td>\n",
       "      <td>6.540000</td>\n",
       "      <td>4.040000</td>\n",
       "    </tr>\n",
       "    <tr>\n",
       "      <th>max</th>\n",
       "      <td>5.010000</td>\n",
       "      <td>4.000000</td>\n",
       "      <td>6.000000</td>\n",
       "      <td>7.000000</td>\n",
       "      <td>79.000000</td>\n",
       "      <td>95.000000</td>\n",
       "      <td>18823.000000</td>\n",
       "      <td>10.740000</td>\n",
       "      <td>58.900000</td>\n",
       "      <td>31.800000</td>\n",
       "    </tr>\n",
       "  </tbody>\n",
       "</table>\n",
       "</div>"
      ],
      "text/plain": [
       "              carat           cut         color       clarity         depth  \\\n",
       "count  53940.000000  53940.000000  53940.000000  53940.000000  53940.000000   \n",
       "mean       0.797940      2.904097      3.405803      3.051020     61.749405   \n",
       "std        0.474011      1.116600      1.701105      1.647136      1.432621   \n",
       "min        0.200000      0.000000      0.000000      0.000000     43.000000   \n",
       "25%        0.400000      2.000000      2.000000      2.000000     61.000000   \n",
       "50%        0.700000      3.000000      3.000000      3.000000     61.800000   \n",
       "75%        1.040000      4.000000      5.000000      4.000000     62.500000   \n",
       "max        5.010000      4.000000      6.000000      7.000000     79.000000   \n",
       "\n",
       "              table         price             x             y             z  \n",
       "count  53940.000000  53940.000000  53940.000000  53940.000000  53940.000000  \n",
       "mean      57.457184   3932.799722      5.731157      5.734526      3.538734  \n",
       "std        2.234491   3989.439738      1.121761      1.142135      0.705699  \n",
       "min       43.000000    326.000000      0.000000      0.000000      0.000000  \n",
       "25%       56.000000    950.000000      4.710000      4.720000      2.910000  \n",
       "50%       57.000000   2401.000000      5.700000      5.710000      3.530000  \n",
       "75%       59.000000   5324.250000      6.540000      6.540000      4.040000  \n",
       "max       95.000000  18823.000000     10.740000     58.900000     31.800000  "
      ]
     },
     "execution_count": 58,
     "metadata": {},
     "output_type": "execute_result"
    }
   ],
   "source": [
    "data.describe()"
   ]
  },
  {
   "cell_type": "code",
   "execution_count": 59,
   "metadata": {},
   "outputs": [
    {
     "data": {
      "text/html": [
       "<div>\n",
       "<style scoped>\n",
       "    .dataframe tbody tr th:only-of-type {\n",
       "        vertical-align: middle;\n",
       "    }\n",
       "\n",
       "    .dataframe tbody tr th {\n",
       "        vertical-align: top;\n",
       "    }\n",
       "\n",
       "    .dataframe thead th {\n",
       "        text-align: right;\n",
       "    }\n",
       "</style>\n",
       "<table border=\"1\" class=\"dataframe\">\n",
       "  <thead>\n",
       "    <tr style=\"text-align: right;\">\n",
       "      <th></th>\n",
       "      <th>carat</th>\n",
       "      <th>cut</th>\n",
       "      <th>color</th>\n",
       "      <th>clarity</th>\n",
       "      <th>depth</th>\n",
       "      <th>table</th>\n",
       "      <th>price</th>\n",
       "      <th>x</th>\n",
       "      <th>y</th>\n",
       "      <th>z</th>\n",
       "    </tr>\n",
       "  </thead>\n",
       "  <tbody>\n",
       "    <tr>\n",
       "      <th>1</th>\n",
       "      <td>0.23</td>\n",
       "      <td>4</td>\n",
       "      <td>5</td>\n",
       "      <td>1</td>\n",
       "      <td>61.5</td>\n",
       "      <td>55.0</td>\n",
       "      <td>326.0</td>\n",
       "      <td>3.95</td>\n",
       "      <td>3.98</td>\n",
       "      <td>2.43</td>\n",
       "    </tr>\n",
       "    <tr>\n",
       "      <th>2</th>\n",
       "      <td>0.21</td>\n",
       "      <td>3</td>\n",
       "      <td>5</td>\n",
       "      <td>2</td>\n",
       "      <td>59.8</td>\n",
       "      <td>61.0</td>\n",
       "      <td>326.0</td>\n",
       "      <td>3.89</td>\n",
       "      <td>3.84</td>\n",
       "      <td>2.31</td>\n",
       "    </tr>\n",
       "    <tr>\n",
       "      <th>3</th>\n",
       "      <td>0.23</td>\n",
       "      <td>1</td>\n",
       "      <td>5</td>\n",
       "      <td>4</td>\n",
       "      <td>56.9</td>\n",
       "      <td>65.0</td>\n",
       "      <td>327.0</td>\n",
       "      <td>4.05</td>\n",
       "      <td>4.07</td>\n",
       "      <td>2.31</td>\n",
       "    </tr>\n",
       "    <tr>\n",
       "      <th>4</th>\n",
       "      <td>0.29</td>\n",
       "      <td>3</td>\n",
       "      <td>1</td>\n",
       "      <td>3</td>\n",
       "      <td>62.4</td>\n",
       "      <td>58.0</td>\n",
       "      <td>334.0</td>\n",
       "      <td>4.20</td>\n",
       "      <td>4.23</td>\n",
       "      <td>2.63</td>\n",
       "    </tr>\n",
       "    <tr>\n",
       "      <th>5</th>\n",
       "      <td>0.31</td>\n",
       "      <td>1</td>\n",
       "      <td>0</td>\n",
       "      <td>1</td>\n",
       "      <td>63.3</td>\n",
       "      <td>58.0</td>\n",
       "      <td>335.0</td>\n",
       "      <td>4.34</td>\n",
       "      <td>4.35</td>\n",
       "      <td>2.75</td>\n",
       "    </tr>\n",
       "    <tr>\n",
       "      <th>...</th>\n",
       "      <td>...</td>\n",
       "      <td>...</td>\n",
       "      <td>...</td>\n",
       "      <td>...</td>\n",
       "      <td>...</td>\n",
       "      <td>...</td>\n",
       "      <td>...</td>\n",
       "      <td>...</td>\n",
       "      <td>...</td>\n",
       "      <td>...</td>\n",
       "    </tr>\n",
       "    <tr>\n",
       "      <th>53936</th>\n",
       "      <td>0.72</td>\n",
       "      <td>4</td>\n",
       "      <td>6</td>\n",
       "      <td>2</td>\n",
       "      <td>60.8</td>\n",
       "      <td>57.0</td>\n",
       "      <td>2757.0</td>\n",
       "      <td>5.75</td>\n",
       "      <td>5.76</td>\n",
       "      <td>3.50</td>\n",
       "    </tr>\n",
       "    <tr>\n",
       "      <th>53937</th>\n",
       "      <td>0.72</td>\n",
       "      <td>1</td>\n",
       "      <td>6</td>\n",
       "      <td>2</td>\n",
       "      <td>63.1</td>\n",
       "      <td>55.0</td>\n",
       "      <td>2757.0</td>\n",
       "      <td>5.69</td>\n",
       "      <td>5.75</td>\n",
       "      <td>3.61</td>\n",
       "    </tr>\n",
       "    <tr>\n",
       "      <th>53938</th>\n",
       "      <td>0.70</td>\n",
       "      <td>2</td>\n",
       "      <td>6</td>\n",
       "      <td>2</td>\n",
       "      <td>62.8</td>\n",
       "      <td>60.0</td>\n",
       "      <td>2757.0</td>\n",
       "      <td>5.66</td>\n",
       "      <td>5.68</td>\n",
       "      <td>3.56</td>\n",
       "    </tr>\n",
       "    <tr>\n",
       "      <th>53939</th>\n",
       "      <td>0.86</td>\n",
       "      <td>3</td>\n",
       "      <td>2</td>\n",
       "      <td>1</td>\n",
       "      <td>61.0</td>\n",
       "      <td>58.0</td>\n",
       "      <td>2757.0</td>\n",
       "      <td>6.15</td>\n",
       "      <td>6.12</td>\n",
       "      <td>3.74</td>\n",
       "    </tr>\n",
       "    <tr>\n",
       "      <th>53940</th>\n",
       "      <td>0.75</td>\n",
       "      <td>4</td>\n",
       "      <td>6</td>\n",
       "      <td>1</td>\n",
       "      <td>62.2</td>\n",
       "      <td>55.0</td>\n",
       "      <td>2757.0</td>\n",
       "      <td>5.83</td>\n",
       "      <td>5.87</td>\n",
       "      <td>3.64</td>\n",
       "    </tr>\n",
       "  </tbody>\n",
       "</table>\n",
       "<p>53940 rows × 10 columns</p>\n",
       "</div>"
      ],
      "text/plain": [
       "       carat  cut  color  clarity  depth  table   price     x     y     z\n",
       "1       0.23    4      5        1   61.5   55.0   326.0  3.95  3.98  2.43\n",
       "2       0.21    3      5        2   59.8   61.0   326.0  3.89  3.84  2.31\n",
       "3       0.23    1      5        4   56.9   65.0   327.0  4.05  4.07  2.31\n",
       "4       0.29    3      1        3   62.4   58.0   334.0  4.20  4.23  2.63\n",
       "5       0.31    1      0        1   63.3   58.0   335.0  4.34  4.35  2.75\n",
       "...      ...  ...    ...      ...    ...    ...     ...   ...   ...   ...\n",
       "53936   0.72    4      6        2   60.8   57.0  2757.0  5.75  5.76  3.50\n",
       "53937   0.72    1      6        2   63.1   55.0  2757.0  5.69  5.75  3.61\n",
       "53938   0.70    2      6        2   62.8   60.0  2757.0  5.66  5.68  3.56\n",
       "53939   0.86    3      2        1   61.0   58.0  2757.0  6.15  6.12  3.74\n",
       "53940   0.75    4      6        1   62.2   55.0  2757.0  5.83  5.87  3.64\n",
       "\n",
       "[53940 rows x 10 columns]"
      ]
     },
     "execution_count": 59,
     "metadata": {},
     "output_type": "execute_result"
    }
   ],
   "source": [
    "data"
   ]
  },
  {
   "cell_type": "code",
   "execution_count": 81,
   "metadata": {},
   "outputs": [],
   "source": [
    "X = data[['carat','cut','color','clarity','depth','table','x','y','z']]\n",
    "y = data['price']\n",
    "categoricals = [1,2,3]\n",
    "X = X.to_numpy()\n",
    "y = y.to_numpy()"
   ]
  },
  {
   "cell_type": "code",
   "execution_count": 82,
   "metadata": {},
   "outputs": [],
   "source": [
    "X_train, X_test, y_train, y_test  = train_test_split(X,y,test_size=0.2,random_state=42)"
   ]
  },
  {
   "cell_type": "markdown",
   "metadata": {
    "id": "p64BQ-W3zpkM"
   },
   "source": [
    "\n",
    "\n",
    "```\n",
    "# This is formatted as code\n",
    "```\n",
    "\n",
    "**KNN Regression [Diamond Price Prediction Dataset]**"
   ]
  },
  {
   "cell_type": "markdown",
   "metadata": {
    "id": "pi5z3DDg04cc"
   },
   "source": [
    "1. a) Build a knn regression algorithm [using only python from scratch] to predict the price of diamonds."
   ]
  },
  {
   "cell_type": "code",
   "execution_count": 12,
   "metadata": {
    "id": "8kcAcD2T3Hsh"
   },
   "outputs": [],
   "source": [
    "# code for knn regression\n",
    "class KNNRegressor():\n",
    "    def __init__(self,k=3):\n",
    "        self.k = k\n",
    "\n",
    "    def train(self,X,y,categoricals=[]):\n",
    "        self.X = X\n",
    "        self.y = y\n",
    "        self.categoricals = np.array([ True if i in categoricals else False for i in range(self.X.shape[1])])\n",
    "        self.numericals = np.vectorize(lambda x: not x)(self.categoricals)\n",
    "        \n",
    "    def distance(self,x1,x2,num_p = 2,cat_p=2):\n",
    "        return (np.linalg.norm((x1-x2)[self.categoricals],cat_p)*sum(self.categoricals) + \\\n",
    "                np.linalg.norm((x1-x2)[self.numericals],num_p)*sum(self.numericals))/self.X.shape[1]\n",
    "        \n",
    "    def predict(self,X,num_p=2,cat_p=2):\n",
    "        y = np.zeros(X.shape[0])\n",
    "        pbar = tqdm(total=X.shape[0])\n",
    "        for idx,x in enumerate(X):\n",
    "            distances = np.vectorize(self.distance,signature='(n),(n),(),()->()')(self.X,x,num_p,cat_p)\n",
    "            dist_idxs = np.argsort(distances)[:self.k]\n",
    "            y[idx] = np.mean(self.y[dist_idxs])\n",
    "            pbar.update()\n",
    "        pbar.refresh()\n",
    "        return y"
   ]
  },
  {
   "cell_type": "markdown",
   "metadata": {
    "id": "rdhlOuB_0xGr"
   },
   "source": [
    "1. b) Do we need to normalise data? [If so Does it make any difference?].\n"
   ]
  },
  {
   "cell_type": "code",
   "execution_count": 83,
   "metadata": {
    "id": "0i3Q6iXF3IMj"
   },
   "outputs": [],
   "source": [
    "# Yes we do need to normalize data. Otherwise due to different types of data in different ranges,\n",
    "# some parameters will be much more dominant than others\n",
    "X_train = (X_train - X.min(axis=0))/(X.max(axis=0)-X.min(axis=0))\n",
    "X_test = (X_test - X.min(axis=0))/(X.max(axis=0)-X.min(axis=0))"
   ]
  },
  {
   "cell_type": "markdown",
   "metadata": {
    "id": "E5bPcmCj0xCn"
   },
   "source": [
    "2. Experiment with different distance measures[Euclidean distance, Manhattan distance, Hamming Distance] to handle categorical attributes."
   ]
  },
  {
   "cell_type": "markdown",
   "metadata": {},
   "source": [
    "Here, Hamming Distance can be used by 0-norm of Integer Encoding, as it will be similar to Hamming Distance of one-hot encoding ."
   ]
  },
  {
   "cell_type": "code",
   "execution_count": 23,
   "metadata": {},
   "outputs": [
    {
     "data": {
      "application/vnd.jupyter.widget-view+json": {
       "model_id": "2dbcb626bdee4568ae1c638d3367de52",
       "version_major": 2,
       "version_minor": 0
      },
      "text/plain": [
       "HBox(children=(FloatProgress(value=0.0, max=1000.0), HTML(value='')))"
      ]
     },
     "metadata": {},
     "output_type": "display_data"
    },
    {
     "data": {
      "application/vnd.jupyter.widget-view+json": {
       "model_id": "95b5a0665b3642368329bdef597d6cff",
       "version_major": 2,
       "version_minor": 0
      },
      "text/plain": [
       "HBox(children=(FloatProgress(value=0.0, max=1000.0), HTML(value='')))"
      ]
     },
     "metadata": {},
     "output_type": "display_data"
    },
    {
     "data": {
      "application/vnd.jupyter.widget-view+json": {
       "model_id": "ba9d7213d4014f84ade643388fb83806",
       "version_major": 2,
       "version_minor": 0
      },
      "text/plain": [
       "HBox(children=(FloatProgress(value=0.0, max=1000.0), HTML(value='')))"
      ]
     },
     "metadata": {},
     "output_type": "display_data"
    }
   ],
   "source": [
    "r2_list = list()\n",
    "mae_list = list()\n",
    "mse_list = list()\n",
    "p_list = [0,1,2]\n",
    "p_names = ['Hamming','Manhattan','Euclidean']\n",
    "test_taken = 1000\n",
    "for p in p_list:\n",
    "    regressor = KNNRegressor(k=3)\n",
    "    regressor.train(X_train,y_train,categoricals=categoricals)\n",
    "    y_pred = regressor.predict(X_test[:test_taken],cat_p=p)\n",
    "\n",
    "    r2_list.append(r2_score(y_test[:test_taken],y_pred))\n",
    "    mse_list.append(mean_squared_error(y_test[:test_taken],y_pred))\n",
    "    mae_list.append(mean_absolute_error(y_test[:test_taken],y_pred))\n"
   ]
  },
  {
   "cell_type": "code",
   "execution_count": 24,
   "metadata": {},
   "outputs": [
    {
     "data": {
      "text/plain": [
       "[0.9660446743271613, 0.971087287049592, 0.9705750972464318]"
      ]
     },
     "execution_count": 24,
     "metadata": {},
     "output_type": "execute_result"
    }
   ],
   "source": [
    "r2_list"
   ]
  },
  {
   "cell_type": "code",
   "execution_count": 25,
   "metadata": {},
   "outputs": [
    {
     "data": {
      "text/plain": [
       "[595556.6688888888, 507112.17377777776, 516095.68511111103]"
      ]
     },
     "execution_count": 25,
     "metadata": {},
     "output_type": "execute_result"
    }
   ],
   "source": [
    "mse_list"
   ]
  },
  {
   "cell_type": "code",
   "execution_count": 26,
   "metadata": {},
   "outputs": [
    {
     "data": {
      "text/plain": [
       "[390.45533333333333, 373.7966666666667, 376.06]"
      ]
     },
     "execution_count": 26,
     "metadata": {},
     "output_type": "execute_result"
    }
   ],
   "source": [
    "mae_list"
   ]
  },
  {
   "cell_type": "code",
   "execution_count": 27,
   "metadata": {},
   "outputs": [
    {
     "name": "stdout",
     "output_type": "stream",
     "text": [
      "\n",
      "\n"
     ]
    },
    {
     "data": {
      "image/png": "[encoded data removed]",
      "text/plain": [
       "<Figure size 432x288 with 1 Axes>"
      ]
     },
     "metadata": {
      "needs_background": "light"
     },
     "output_type": "display_data"
    },
    {
     "name": "stdout",
     "output_type": "stream",
     "text": [
      "\n"
     ]
    }
   ],
   "source": [
    "plt.bar(p_names,r2_list)\n",
    "plt.title('R-Squared')\n",
    "plt.show()"
   ]
  },
  {
   "cell_type": "code",
   "execution_count": 28,
   "metadata": {},
   "outputs": [
    {
     "data": {
      "image/png": "[encoded data removed]",
      "text/plain": [
       "<Figure size 432x288 with 1 Axes>"
      ]
     },
     "metadata": {
      "needs_background": "light"
     },
     "output_type": "display_data"
    }
   ],
   "source": [
    "plt.bar(p_names,mse_list)\n",
    "plt.title('Mean Squared Error')\n",
    "plt.show()"
   ]
  },
  {
   "cell_type": "code",
   "execution_count": 29,
   "metadata": {},
   "outputs": [
    {
     "data": {
      "image/png": "[encoded data removed]",
      "text/plain": [
       "<Figure size 432x288 with 1 Axes>"
      ]
     },
     "metadata": {
      "needs_background": "light"
     },
     "output_type": "display_data"
    }
   ],
   "source": [
    "plt.bar(p_names,r2_list)\n",
    "plt.title('Mean Average Error')\n",
    "plt.show()"
   ]
  },
  {
   "cell_type": "code",
   "execution_count": 30,
   "metadata": {
    "id": "JVFgXFJM3I0m"
   },
   "outputs": [],
   "source": [
    "# show all the experiments"
   ]
  },
  {
   "cell_type": "markdown",
   "metadata": {
    "id": "O64G_tqG0w_l"
   },
   "source": [
    "3. Report Mean Squared Error(MSE), Mean-Absolute-Error(MAE), R-squared (R2) score in a tabular form."
   ]
  },
  {
   "cell_type": "code",
   "execution_count": 33,
   "metadata": {
    "id": "1WGPbWa-3JY7"
   },
   "outputs": [
    {
     "data": {
      "text/html": [
       "<div>\n",
       "<style scoped>\n",
       "    .dataframe tbody tr th:only-of-type {\n",
       "        vertical-align: middle;\n",
       "    }\n",
       "\n",
       "    .dataframe tbody tr th {\n",
       "        vertical-align: top;\n",
       "    }\n",
       "\n",
       "    .dataframe thead th {\n",
       "        text-align: right;\n",
       "    }\n",
       "</style>\n",
       "<table border=\"1\" class=\"dataframe\">\n",
       "  <thead>\n",
       "    <tr style=\"text-align: right;\">\n",
       "      <th></th>\n",
       "      <th>Hamming</th>\n",
       "      <th>Manhattan</th>\n",
       "      <th>Euclidean</th>\n",
       "    </tr>\n",
       "  </thead>\n",
       "  <tbody>\n",
       "    <tr>\n",
       "      <th>R-Squared</th>\n",
       "      <td>0.966045</td>\n",
       "      <td>0.971087</td>\n",
       "      <td>0.970575</td>\n",
       "    </tr>\n",
       "    <tr>\n",
       "      <th>MSE</th>\n",
       "      <td>595556.668889</td>\n",
       "      <td>507112.173778</td>\n",
       "      <td>516095.685111</td>\n",
       "    </tr>\n",
       "    <tr>\n",
       "      <th>MAE</th>\n",
       "      <td>390.455333</td>\n",
       "      <td>373.796667</td>\n",
       "      <td>376.060000</td>\n",
       "    </tr>\n",
       "  </tbody>\n",
       "</table>\n",
       "</div>"
      ],
      "text/plain": [
       "                 Hamming      Manhattan      Euclidean\n",
       "R-Squared       0.966045       0.971087       0.970575\n",
       "MSE        595556.668889  507112.173778  516095.685111\n",
       "MAE           390.455333     373.796667     376.060000"
      ]
     },
     "execution_count": 33,
     "metadata": {},
     "output_type": "execute_result"
    }
   ],
   "source": [
    "pd.DataFrame([r2_list,mse_list,mae_list],columns=p_names,index=['R-Squared','MSE','MAE'])"
   ]
  },
  {
   "cell_type": "markdown",
   "metadata": {
    "id": "MA2kN7dL0wjE"
   },
   "source": [
    "4.  a) Choose different K values (k=2,3,5,7,11,16) and experiment. Plot a graph showing R2 score vs k."
   ]
  },
  {
   "cell_type": "code",
   "execution_count": 14,
   "metadata": {
    "id": "Z3VSKWrU3KBT"
   },
   "outputs": [
    {
     "data": {
      "application/vnd.jupyter.widget-view+json": {
       "model_id": "613161b0c3f54f8c9e39b967ed4b1fe9",
       "version_major": 2,
       "version_minor": 0
      },
      "text/plain": [
       "HBox(children=(FloatProgress(value=0.0, max=1000.0), HTML(value='')))"
      ]
     },
     "metadata": {},
     "output_type": "display_data"
    },
    {
     "data": {
      "application/vnd.jupyter.widget-view+json": {
       "model_id": "3bb8434203024dacaa4352a704c084b8",
       "version_major": 2,
       "version_minor": 0
      },
      "text/plain": [
       "HBox(children=(FloatProgress(value=0.0, max=1000.0), HTML(value='')))"
      ]
     },
     "metadata": {},
     "output_type": "display_data"
    },
    {
     "data": {
      "application/vnd.jupyter.widget-view+json": {
       "model_id": "d9aef19091664c7483ad7d30fd5cad15",
       "version_major": 2,
       "version_minor": 0
      },
      "text/plain": [
       "HBox(children=(FloatProgress(value=0.0, max=1000.0), HTML(value='')))"
      ]
     },
     "metadata": {},
     "output_type": "display_data"
    },
    {
     "data": {
      "application/vnd.jupyter.widget-view+json": {
       "model_id": "ee2233ee8daf4102b6410695d59328a8",
       "version_major": 2,
       "version_minor": 0
      },
      "text/plain": [
       "HBox(children=(FloatProgress(value=0.0, max=1000.0), HTML(value='')))"
      ]
     },
     "metadata": {},
     "output_type": "display_data"
    },
    {
     "data": {
      "application/vnd.jupyter.widget-view+json": {
       "model_id": "dbdd4fcff62d446ab05b70372b5045fb",
       "version_major": 2,
       "version_minor": 0
      },
      "text/plain": [
       "HBox(children=(FloatProgress(value=0.0, max=1000.0), HTML(value='')))"
      ]
     },
     "metadata": {},
     "output_type": "display_data"
    },
    {
     "name": "stdout",
     "output_type": "stream",
     "text": [
      "\n",
      "\n",
      "\n"
     ]
    },
    {
     "data": {
      "application/vnd.jupyter.widget-view+json": {
       "model_id": "9a86c3d35df242dd8415b916335419c3",
       "version_major": 2,
       "version_minor": 0
      },
      "text/plain": [
       "HBox(children=(FloatProgress(value=0.0, max=1000.0), HTML(value='')))"
      ]
     },
     "metadata": {},
     "output_type": "display_data"
    }
   ],
   "source": [
    "r2_list_k = list()\n",
    "mse_list_k = list()\n",
    "mae_list_k = list()\n",
    "k_list = [2,3,5,7,11,16]\n",
    "test_taken = 1000\n",
    "for k in k_list:\n",
    "    regressor = KNNRegressor(k=k)\n",
    "    regressor.train(X_train,y_train,categoricals=categoricals)\n",
    "    y_pred = regressor.predict(X_test[:test_taken],cat_p=1)\n",
    "\n",
    "    r2_list_k.append(r2_score(y_test[:test_taken],y_pred))\n",
    "    mse_list_k.append(mean_squared_error(y_test[:test_taken],y_pred))\n",
    "    mae_list_k.append(mean_absolute_error(y_test[:test_taken],y_pred))\n"
   ]
  },
  {
   "cell_type": "code",
   "execution_count": 15,
   "metadata": {},
   "outputs": [
    {
     "data": {
      "text/plain": [
       "[0.9695657609710555,\n",
       " 0.971087287049592,\n",
       " 0.972099504414142,\n",
       " 0.9726631427835378,\n",
       " 0.9707887234417063,\n",
       " 0.9678380689022147]"
      ]
     },
     "execution_count": 15,
     "metadata": {},
     "output_type": "execute_result"
    }
   ],
   "source": [
    "r2_list_k"
   ]
  },
  {
   "cell_type": "code",
   "execution_count": 21,
   "metadata": {},
   "outputs": [
    {
     "data": {
      "image/png": "[encoded data removed]",
      "text/plain": [
       "<Figure size 432x288 with 1 Axes>"
      ]
     },
     "metadata": {
      "needs_background": "light"
     },
     "output_type": "display_data"
    }
   ],
   "source": [
    "plt.plot(k_list,r2_list_k)\n",
    "plt.ylim(0,1)\n",
    "plt.ylabel('R-Squared')\n",
    "plt.xlabel('K')\n",
    "plt.show()"
   ]
  },
  {
   "cell_type": "markdown",
   "metadata": {
    "id": "xgkHg7QL1mzy"
   },
   "source": [
    "4. b) Are the R-squared scores the same? Why / Why not? How do we identify the best K? Suggest a computational procedure, with a logical explanation."
   ]
  },
  {
   "cell_type": "markdown",
   "metadata": {
    "id": "XmFoYY0q3Kyk"
   },
   "source": [
    "R-squared is the measure of explainability of data set by a linear regression model, and is a popular choice when deciding **between** linear and non-linear regression models. The R-Squared more or less remains the same because kNN is dependent on local structure and not global structure for small values of k (which is generally the norm), the R-squared depends on the sudden variation in data, and thus will be more or less similar for all small and close values of k.\n",
    "\n",
    "R-squared is still a good measure for deciding when choosing between kNN, it's p value, or some other regressor, but for choosing the value of k, R-squared won't observe large deviations.\n",
    "\n",
    "A better computational measure of k is using cross-validation on MSE (or MAE, or similar error measure)."
   ]
  },
  {
   "cell_type": "markdown",
   "metadata": {
    "id": "Psho4dHI1wXb"
   },
   "source": [
    "5. a) Also, report the performance of scikit-learn’s kNN regression algorithm.  "
   ]
  },
  {
   "cell_type": "code",
   "execution_count": 84,
   "metadata": {
    "id": "XmBOqvrm3Lkf"
   },
   "outputs": [
    {
     "data": {
      "text/plain": [
       "KNeighborsRegressor(n_neighbors=3)"
      ]
     },
     "execution_count": 84,
     "metadata": {},
     "output_type": "execute_result"
    }
   ],
   "source": [
    "from sklearn.neighbors import KNeighborsRegressor\n",
    "regressor = KNeighborsRegressor(n_neighbors=3)\n",
    "regressor.fit(X_train,y_train)"
   ]
  },
  {
   "cell_type": "code",
   "execution_count": 85,
   "metadata": {},
   "outputs": [],
   "source": [
    "y_preds = regressor.predict(X_test)\n",
    "y_preds_knn = y_preds.copy()\n",
    "y_test_knn = y_test.copy()"
   ]
  },
  {
   "cell_type": "code",
   "execution_count": 86,
   "metadata": {},
   "outputs": [
    {
     "data": {
      "text/plain": [
       "0.9690046962933991"
      ]
     },
     "execution_count": 86,
     "metadata": {},
     "output_type": "execute_result"
    }
   ],
   "source": [
    "r2_score(y_test,y_preds)"
   ]
  },
  {
   "cell_type": "code",
   "execution_count": 87,
   "metadata": {},
   "outputs": [],
   "source": [
    "overall_comp = pd.DataFrame(columns=['R2 Score','MSE','MAE'])\n",
    "overall_comp.loc['kNN'] = [r2_score(y_test,y_preds),\n",
    "mean_squared_error(y_test,y_preds),\n",
    "mean_absolute_error(y_test,y_preds)]"
   ]
  },
  {
   "cell_type": "code",
   "execution_count": 88,
   "metadata": {},
   "outputs": [
    {
     "name": "stdout",
     "output_type": "stream",
     "text": [
      "kd_tree\n"
     ]
    }
   ],
   "source": [
    "print(regressor._fit_method)"
   ]
  },
  {
   "cell_type": "markdown",
   "metadata": {
    "id": "R7ZzdSUu2Iez"
   },
   "source": [
    "5. b) Compare it with the algorithm you built. [ you can use complexities, R2 score etc..]"
   ]
  },
  {
   "cell_type": "markdown",
   "metadata": {
    "id": "hmi9rZDF3MNB"
   },
   "source": [
    "**Complexity**\n",
    "- Scikit-Learn: $O(kN logN)$\n",
    "- Mine: $O(Ndk)$\n",
    "\n",
    "**R2 score**\n",
    "- Scikit-Learn: 0.952\n",
    "- Mine: 0.970\n",
    "\n",
    "**Runtime**\n",
    "- Scikit-Learn: Almost instant\n",
    "- Mine: 1hr"
   ]
  },
  {
   "cell_type": "markdown",
   "metadata": {
    "id": "Xa-vbZfY2OFO"
   },
   "source": [
    "6. From the above experiments, what do you think are advantages and disadvantages of the knn regression algorithm?\n"
   ]
  },
  {
   "cell_type": "markdown",
   "metadata": {
    "id": "hDCRj4H93Mu8"
   },
   "source": [
    "**Advantages**\n",
    "- Works on manifolds\n",
    "- Instance based learning\n",
    "- No training period / Lazy Learner\n",
    "- Easy to implement\n",
    "\n",
    "**Disadvantages**\n",
    "- High time complexity\n",
    "- High space complexity\n",
    "- Need feature scaling\n",
    "- Sensitive to outliers and missing data"
   ]
  },
  {
   "cell_type": "markdown",
   "metadata": {
    "id": "NlPGwmq2elOR"
   },
   "source": [
    "# **2)** **Linear Regression**\n",
    "\n",
    "Dataset - same as above (Diamond Price Detection)\n"
   ]
  },
  {
   "cell_type": "markdown",
   "metadata": {
    "id": "DB9Co3225uTa"
   },
   "source": [
    "2a) Implement a Linear Regression model (from the scratch) taking suitable independent variables from the dataset. \n",
    "\n",
    "Report and Calculate the error obtained.\n"
   ]
  },
  {
   "cell_type": "code",
   "execution_count": 60,
   "metadata": {
    "id": "wsckTq4zzxnx"
   },
   "outputs": [],
   "source": [
    "class LinearReg():\n",
    "    def __init__(self):\n",
    "        pass\n",
    "    def train(self,X,y,step_size=0.001,iters=5):\n",
    "        self.weights = np.random.randn(X.shape[1])\n",
    "        #self.weights = np.zeros(X.shape[1])\n",
    "        self.bias = np.random.randn()\n",
    "        self.step_size = step_size\n",
    "        for iter_n in range(iters):\n",
    "            for idx,x in enumerate(X):\n",
    "                curr = self.weights@x + self.bias\n",
    "                self.weights = self.weights - self.step_size*((curr - y[idx])*x)\n",
    "                self.bias = self.bias - self.step_size*(curr - y[idx])\n",
    "    def predict(self,X):\n",
    "        y = np.zeros(X.shape[0])\n",
    "        for idx,x in enumerate(X):\n",
    "            y[idx] = self.weights@x + self.bias\n",
    "        return y"
   ]
  },
  {
   "cell_type": "code",
   "execution_count": 61,
   "metadata": {},
   "outputs": [
    {
     "data": {
      "text/html": [
       "<div>\n",
       "<style scoped>\n",
       "    .dataframe tbody tr th:only-of-type {\n",
       "        vertical-align: middle;\n",
       "    }\n",
       "\n",
       "    .dataframe tbody tr th {\n",
       "        vertical-align: top;\n",
       "    }\n",
       "\n",
       "    .dataframe thead th {\n",
       "        text-align: right;\n",
       "    }\n",
       "</style>\n",
       "<table border=\"1\" class=\"dataframe\">\n",
       "  <thead>\n",
       "    <tr style=\"text-align: right;\">\n",
       "      <th></th>\n",
       "      <th>carat</th>\n",
       "      <th>cut</th>\n",
       "      <th>color</th>\n",
       "      <th>clarity</th>\n",
       "      <th>depth</th>\n",
       "      <th>table</th>\n",
       "      <th>price</th>\n",
       "      <th>x</th>\n",
       "      <th>y</th>\n",
       "      <th>z</th>\n",
       "    </tr>\n",
       "  </thead>\n",
       "  <tbody>\n",
       "    <tr>\n",
       "      <th>count</th>\n",
       "      <td>53940.000000</td>\n",
       "      <td>53940.000000</td>\n",
       "      <td>53940.000000</td>\n",
       "      <td>53940.000000</td>\n",
       "      <td>53940.000000</td>\n",
       "      <td>53940.000000</td>\n",
       "      <td>53940.000000</td>\n",
       "      <td>53940.000000</td>\n",
       "      <td>53940.000000</td>\n",
       "      <td>53940.000000</td>\n",
       "    </tr>\n",
       "    <tr>\n",
       "      <th>mean</th>\n",
       "      <td>0.797940</td>\n",
       "      <td>2.904097</td>\n",
       "      <td>3.405803</td>\n",
       "      <td>3.051020</td>\n",
       "      <td>61.749405</td>\n",
       "      <td>57.457184</td>\n",
       "      <td>3932.799722</td>\n",
       "      <td>5.731157</td>\n",
       "      <td>5.734526</td>\n",
       "      <td>3.538734</td>\n",
       "    </tr>\n",
       "    <tr>\n",
       "      <th>std</th>\n",
       "      <td>0.474011</td>\n",
       "      <td>1.116600</td>\n",
       "      <td>1.701105</td>\n",
       "      <td>1.647136</td>\n",
       "      <td>1.432621</td>\n",
       "      <td>2.234491</td>\n",
       "      <td>3989.439738</td>\n",
       "      <td>1.121761</td>\n",
       "      <td>1.142135</td>\n",
       "      <td>0.705699</td>\n",
       "    </tr>\n",
       "    <tr>\n",
       "      <th>min</th>\n",
       "      <td>0.200000</td>\n",
       "      <td>0.000000</td>\n",
       "      <td>0.000000</td>\n",
       "      <td>0.000000</td>\n",
       "      <td>43.000000</td>\n",
       "      <td>43.000000</td>\n",
       "      <td>326.000000</td>\n",
       "      <td>0.000000</td>\n",
       "      <td>0.000000</td>\n",
       "      <td>0.000000</td>\n",
       "    </tr>\n",
       "    <tr>\n",
       "      <th>25%</th>\n",
       "      <td>0.400000</td>\n",
       "      <td>2.000000</td>\n",
       "      <td>2.000000</td>\n",
       "      <td>2.000000</td>\n",
       "      <td>61.000000</td>\n",
       "      <td>56.000000</td>\n",
       "      <td>950.000000</td>\n",
       "      <td>4.710000</td>\n",
       "      <td>4.720000</td>\n",
       "      <td>2.910000</td>\n",
       "    </tr>\n",
       "    <tr>\n",
       "      <th>50%</th>\n",
       "      <td>0.700000</td>\n",
       "      <td>3.000000</td>\n",
       "      <td>3.000000</td>\n",
       "      <td>3.000000</td>\n",
       "      <td>61.800000</td>\n",
       "      <td>57.000000</td>\n",
       "      <td>2401.000000</td>\n",
       "      <td>5.700000</td>\n",
       "      <td>5.710000</td>\n",
       "      <td>3.530000</td>\n",
       "    </tr>\n",
       "    <tr>\n",
       "      <th>75%</th>\n",
       "      <td>1.040000</td>\n",
       "      <td>4.000000</td>\n",
       "      <td>5.000000</td>\n",
       "      <td>4.000000</td>\n",
       "      <td>62.500000</td>\n",
       "      <td>59.000000</td>\n",
       "      <td>5324.250000</td>\n",
       "      <td>6.540000</td>\n",
       "      <td>6.540000</td>\n",
       "      <td>4.040000</td>\n",
       "    </tr>\n",
       "    <tr>\n",
       "      <th>max</th>\n",
       "      <td>5.010000</td>\n",
       "      <td>4.000000</td>\n",
       "      <td>6.000000</td>\n",
       "      <td>7.000000</td>\n",
       "      <td>79.000000</td>\n",
       "      <td>95.000000</td>\n",
       "      <td>18823.000000</td>\n",
       "      <td>10.740000</td>\n",
       "      <td>58.900000</td>\n",
       "      <td>31.800000</td>\n",
       "    </tr>\n",
       "  </tbody>\n",
       "</table>\n",
       "</div>"
      ],
      "text/plain": [
       "              carat           cut         color       clarity         depth  \\\n",
       "count  53940.000000  53940.000000  53940.000000  53940.000000  53940.000000   \n",
       "mean       0.797940      2.904097      3.405803      3.051020     61.749405   \n",
       "std        0.474011      1.116600      1.701105      1.647136      1.432621   \n",
       "min        0.200000      0.000000      0.000000      0.000000     43.000000   \n",
       "25%        0.400000      2.000000      2.000000      2.000000     61.000000   \n",
       "50%        0.700000      3.000000      3.000000      3.000000     61.800000   \n",
       "75%        1.040000      4.000000      5.000000      4.000000     62.500000   \n",
       "max        5.010000      4.000000      6.000000      7.000000     79.000000   \n",
       "\n",
       "              table         price             x             y             z  \n",
       "count  53940.000000  53940.000000  53940.000000  53940.000000  53940.000000  \n",
       "mean      57.457184   3932.799722      5.731157      5.734526      3.538734  \n",
       "std        2.234491   3989.439738      1.121761      1.142135      0.705699  \n",
       "min       43.000000    326.000000      0.000000      0.000000      0.000000  \n",
       "25%       56.000000    950.000000      4.710000      4.720000      2.910000  \n",
       "50%       57.000000   2401.000000      5.700000      5.710000      3.530000  \n",
       "75%       59.000000   5324.250000      6.540000      6.540000      4.040000  \n",
       "max       95.000000  18823.000000     10.740000     58.900000     31.800000  "
      ]
     },
     "execution_count": 61,
     "metadata": {},
     "output_type": "execute_result"
    }
   ],
   "source": [
    "data.describe()"
   ]
  },
  {
   "cell_type": "code",
   "execution_count": 62,
   "metadata": {},
   "outputs": [
    {
     "data": {
      "text/plain": [
       "<matplotlib.axes._subplots.AxesSubplot at 0x14beaef84850>"
      ]
     },
     "execution_count": 62,
     "metadata": {},
     "output_type": "execute_result"
    },
    {
     "data": {
      "image/png": "[encoded data removed]",
      "text/plain": [
       "<Figure size 720x720 with 2 Axes>"
      ]
     },
     "metadata": {
      "needs_background": "light"
     },
     "output_type": "display_data"
    }
   ],
   "source": [
    "plt.figure(figsize=(10,10))\n",
    "sns.heatmap(np.corrcoef(data,rowvar=False),\n",
    "            xticklabels=data.columns,\n",
    "           yticklabels=data.columns,\n",
    "           annot=True,fmt='.2f')"
   ]
  },
  {
   "cell_type": "code",
   "execution_count": 63,
   "metadata": {},
   "outputs": [],
   "source": [
    "X = data[['carat','color','clarity','table','table','x']]\n",
    "y = data['price']\n",
    "categoricals = [1,2,3]\n",
    "X = X.to_numpy()\n",
    "y = y.to_numpy()\n",
    "\n",
    "X = (X-X.mean(axis=0))/X.std(axis=0)"
   ]
  },
  {
   "cell_type": "code",
   "execution_count": 64,
   "metadata": {},
   "outputs": [],
   "source": [
    "X_train, X_test, y_train, y_test  = train_test_split(X,y,test_size=0.2,random_state=42)"
   ]
  },
  {
   "cell_type": "code",
   "execution_count": 65,
   "metadata": {},
   "outputs": [],
   "source": [
    "regressor = LinearReg()\n",
    "regressor.train(X_train,y_train)\n",
    "\n",
    "y_preds = regressor.predict(X_test)\n",
    "y_test_lreg = y_test.copy()\n",
    "y_preds_lreg = y_preds.copy()"
   ]
  },
  {
   "cell_type": "code",
   "execution_count": 66,
   "metadata": {},
   "outputs": [
    {
     "name": "stdout",
     "output_type": "stream",
     "text": [
      "R2 score: 0.9023984757859743\n",
      "Mean Squared Error 1551554.0038011589\n",
      "Mean Abs Error 843.263829103228\n"
     ]
    }
   ],
   "source": [
    "print('R2 score:', r2_score(y_test,y_preds))\n",
    "print('Mean Squared Error', mean_squared_error(y_test,y_preds))\n",
    "print('Mean Abs Error', mean_absolute_error(y_test,y_preds))"
   ]
  },
  {
   "cell_type": "code",
   "execution_count": 67,
   "metadata": {},
   "outputs": [],
   "source": [
    "lreg_vals = pd.DataFrame(columns=['R2 Score','MSE','MAE'])\n",
    "lreg_vals.loc['Mine'] = [r2_score(y_test,y_preds),\n",
    "mean_squared_error(y_test,y_preds),\n",
    "mean_absolute_error(y_test,y_preds)]"
   ]
  },
  {
   "cell_type": "markdown",
   "metadata": {
    "id": "6PUfKXGU6DQ2"
   },
   "source": [
    "2b) What are the best suitable features you used to predict the price of the dataset and Why?\n",
    "\n",
    "Idea: Use Correlation to get the suitable features and Report the values accordingly."
   ]
  },
  {
   "cell_type": "code",
   "execution_count": 68,
   "metadata": {},
   "outputs": [],
   "source": [
    "def corr2_coeff(A, B):\n",
    "    A_mA = A - A.mean()\n",
    "    B_mB = B - B.mean()\n",
    "    ssA = (A_mA**2).sum()\n",
    "    ssB = (B_mB**2).sum()\n",
    "    return np.dot(A_mA, B_mB) / np.sqrt(np.dot(ssA,ssB))"
   ]
  },
  {
   "cell_type": "code",
   "execution_count": 69,
   "metadata": {},
   "outputs": [],
   "source": [
    "corrs = np.eye((data.shape[1]))"
   ]
  },
  {
   "cell_type": "code",
   "execution_count": 70,
   "metadata": {},
   "outputs": [
    {
     "data": {
      "text/plain": [
       "<matplotlib.axes._subplots.AxesSubplot at 0x14beaf1f9dd0>"
      ]
     },
     "execution_count": 70,
     "metadata": {},
     "output_type": "execute_result"
    },
    {
     "data": {
      "image/png": "[encoded data removed]",
      "text/plain": [
       "<Figure size 720x720 with 2 Axes>"
      ]
     },
     "metadata": {
      "needs_background": "light"
     },
     "output_type": "display_data"
    }
   ],
   "source": [
    "plt.figure(figsize=(10,10))\n",
    "\n",
    "for i in range(data.shape[1]):\n",
    "    for j in range(data.shape[1]):\n",
    "        corrs[i,j] = corr2_coeff(data[data.columns[i]],data[data.columns[j]])\n",
    "sns.heatmap(corrs,\n",
    "            xticklabels=data.columns,\n",
    "           yticklabels=data.columns,\n",
    "           annot=True,fmt='.2f')"
   ]
  },
  {
   "cell_type": "markdown",
   "metadata": {
    "id": "3QB-vCqz6u5z"
   },
   "source": [
    "Explanation for 2b) - \n",
    "\n",
    "Carat, color, clarity, table, x, y and z have absolute cross correlation with price more than 0.10.\n",
    "\n",
    "However, the variables x,y and z have a high cross correlation among themselves, so we can take only one of them, so we chose x, as that has highest correlation with price."
   ]
  },
  {
   "cell_type": "markdown",
   "metadata": {
    "id": "NNDl68N26yY3"
   },
   "source": [
    "2c) Use the module Linear Regression from sklearn to predict the price of diamonds(considering the same attributes as before) and compare the result obtained with the above. \n"
   ]
  },
  {
   "cell_type": "code",
   "execution_count": 71,
   "metadata": {
    "id": "50xYhwND64tM"
   },
   "outputs": [],
   "source": [
    "from sklearn.linear_model import LinearRegression"
   ]
  },
  {
   "cell_type": "code",
   "execution_count": 72,
   "metadata": {},
   "outputs": [],
   "source": [
    "regressor = LinearRegression()\n",
    "regressor.fit(X_train,y_train)\n",
    "\n",
    "y_preds = regressor.predict(X_test)"
   ]
  },
  {
   "cell_type": "code",
   "execution_count": 73,
   "metadata": {},
   "outputs": [
    {
     "name": "stdout",
     "output_type": "stream",
     "text": [
      "R2 score: 0.9036157752958263\n",
      "Mean Squared Error 1532202.810840336\n",
      "Mean Abs Error 821.2235552483422\n"
     ]
    }
   ],
   "source": [
    "print('R2 score:', r2_score(y_test,y_preds))\n",
    "print('Mean Squared Error', mean_squared_error(y_test,y_preds))\n",
    "print('Mean Abs Error', mean_absolute_error(y_test,y_preds))"
   ]
  },
  {
   "cell_type": "code",
   "execution_count": 74,
   "metadata": {},
   "outputs": [],
   "source": [
    "lreg_vals.loc['Scikit Learn'] = [r2_score(y_test,y_preds),\n",
    "mean_squared_error(y_test,y_preds),\n",
    "mean_absolute_error(y_test,y_preds)]"
   ]
  },
  {
   "cell_type": "code",
   "execution_count": 75,
   "metadata": {},
   "outputs": [
    {
     "data": {
      "text/html": [
       "<div>\n",
       "<style scoped>\n",
       "    .dataframe tbody tr th:only-of-type {\n",
       "        vertical-align: middle;\n",
       "    }\n",
       "\n",
       "    .dataframe tbody tr th {\n",
       "        vertical-align: top;\n",
       "    }\n",
       "\n",
       "    .dataframe thead th {\n",
       "        text-align: right;\n",
       "    }\n",
       "</style>\n",
       "<table border=\"1\" class=\"dataframe\">\n",
       "  <thead>\n",
       "    <tr style=\"text-align: right;\">\n",
       "      <th></th>\n",
       "      <th>R2 Score</th>\n",
       "      <th>MSE</th>\n",
       "      <th>MAE</th>\n",
       "    </tr>\n",
       "  </thead>\n",
       "  <tbody>\n",
       "    <tr>\n",
       "      <th>Mine</th>\n",
       "      <td>0.902398</td>\n",
       "      <td>1.551554e+06</td>\n",
       "      <td>843.263829</td>\n",
       "    </tr>\n",
       "    <tr>\n",
       "      <th>Scikit Learn</th>\n",
       "      <td>0.903616</td>\n",
       "      <td>1.532203e+06</td>\n",
       "      <td>821.223555</td>\n",
       "    </tr>\n",
       "  </tbody>\n",
       "</table>\n",
       "</div>"
      ],
      "text/plain": [
       "              R2 Score           MSE         MAE\n",
       "Mine          0.902398  1.551554e+06  843.263829\n",
       "Scikit Learn  0.903616  1.532203e+06  821.223555"
      ]
     },
     "execution_count": 75,
     "metadata": {},
     "output_type": "execute_result"
    }
   ],
   "source": [
    "lreg_vals"
   ]
  },
  {
   "cell_type": "markdown",
   "metadata": {},
   "source": [
    "Results from scikit-learn library linear regression are slightly better than my results."
   ]
  },
  {
   "cell_type": "markdown",
   "metadata": {
    "id": "121Z4wwx7CLk"
   },
   "source": [
    "2d) Now, using the whole dataset, predict the price of the Diamonds using the module of Linear Regression from sklearn. Report the changes you have observed compared to before? Adding extra features did it make the prediction better or worse.Comment? \n"
   ]
  },
  {
   "cell_type": "code",
   "execution_count": 89,
   "metadata": {},
   "outputs": [],
   "source": [
    "X = data[['carat', 'cut', 'color', 'clarity', 'depth', 'table',  'x', 'y','z']]\n",
    "y = data['price']\n",
    "categoricals = [1,2,3]\n",
    "X = X.to_numpy()\n",
    "y = y.to_numpy()\n",
    "\n",
    "X = (X-X.mean(axis=0))/X.std(axis=0)"
   ]
  },
  {
   "cell_type": "code",
   "execution_count": 90,
   "metadata": {},
   "outputs": [],
   "source": [
    "X_train, X_test, y_train, y_test  = train_test_split(X,y,test_size=0.2,random_state=42)"
   ]
  },
  {
   "cell_type": "code",
   "execution_count": 91,
   "metadata": {},
   "outputs": [],
   "source": [
    "regressor = LinearReg()\n",
    "regressor.train(X_train,y_train)\n",
    "\n",
    "y_preds = regressor.predict(X_test)\n",
    "y_test_lreg = y_test.copy()\n",
    "y_preds_lreg = y_preds.copy()"
   ]
  },
  {
   "cell_type": "code",
   "execution_count": 92,
   "metadata": {},
   "outputs": [
    {
     "name": "stdout",
     "output_type": "stream",
     "text": [
      "R2 score: 0.9035956053863345\n",
      "Mean Squared Error 1532523.4482902146\n",
      "Mean Abs Error 838.2495750834772\n"
     ]
    }
   ],
   "source": [
    "print('R2 score:', r2_score(y_test,y_preds))\n",
    "print('Mean Squared Error', mean_squared_error(y_test,y_preds))\n",
    "print('Mean Abs Error', mean_absolute_error(y_test,y_preds))"
   ]
  },
  {
   "cell_type": "code",
   "execution_count": 93,
   "metadata": {},
   "outputs": [],
   "source": [
    "overall_comp.loc['Linear Regression'] = [r2_score(y_test,y_preds),\n",
    "mean_squared_error(y_test,y_preds),\n",
    "mean_absolute_error(y_test,y_preds)]"
   ]
  },
  {
   "cell_type": "code",
   "execution_count": 94,
   "metadata": {},
   "outputs": [],
   "source": [
    "lreg_vals.loc['Full Dataset - Mine'] = [r2_score(y_test,y_preds),\n",
    "mean_squared_error(y_test,y_preds),\n",
    "mean_absolute_error(y_test,y_preds)]"
   ]
  },
  {
   "cell_type": "code",
   "execution_count": 95,
   "metadata": {
    "id": "Eo1pB2QB7Jqz"
   },
   "outputs": [
    {
     "data": {
      "text/html": [
       "<div>\n",
       "<style scoped>\n",
       "    .dataframe tbody tr th:only-of-type {\n",
       "        vertical-align: middle;\n",
       "    }\n",
       "\n",
       "    .dataframe tbody tr th {\n",
       "        vertical-align: top;\n",
       "    }\n",
       "\n",
       "    .dataframe thead th {\n",
       "        text-align: right;\n",
       "    }\n",
       "</style>\n",
       "<table border=\"1\" class=\"dataframe\">\n",
       "  <thead>\n",
       "    <tr style=\"text-align: right;\">\n",
       "      <th></th>\n",
       "      <th>R2 Score</th>\n",
       "      <th>MSE</th>\n",
       "      <th>MAE</th>\n",
       "    </tr>\n",
       "  </thead>\n",
       "  <tbody>\n",
       "    <tr>\n",
       "      <th>Mine</th>\n",
       "      <td>0.902398</td>\n",
       "      <td>1.551554e+06</td>\n",
       "      <td>843.263829</td>\n",
       "    </tr>\n",
       "    <tr>\n",
       "      <th>Scikit Learn</th>\n",
       "      <td>0.903616</td>\n",
       "      <td>1.532203e+06</td>\n",
       "      <td>821.223555</td>\n",
       "    </tr>\n",
       "    <tr>\n",
       "      <th>Full Dataset - Mine</th>\n",
       "      <td>0.903596</td>\n",
       "      <td>1.532523e+06</td>\n",
       "      <td>838.249575</td>\n",
       "    </tr>\n",
       "  </tbody>\n",
       "</table>\n",
       "</div>"
      ],
      "text/plain": [
       "                     R2 Score           MSE         MAE\n",
       "Mine                 0.902398  1.551554e+06  843.263829\n",
       "Scikit Learn         0.903616  1.532203e+06  821.223555\n",
       "Full Dataset - Mine  0.903596  1.532523e+06  838.249575"
      ]
     },
     "execution_count": 95,
     "metadata": {},
     "output_type": "execute_result"
    }
   ],
   "source": [
    "lreg_vals"
   ]
  },
  {
   "cell_type": "markdown",
   "metadata": {},
   "source": [
    "The results improved very very slightly. This indicates that the variables that were ignored don't have much noise, and however lower their correlation, they provide a little bit more information.\n",
    "\n",
    "Furthermore, it does confirm that we don't need to consider the variables that already have a  very high correlation with some other attribute (such as y and z had high correlation with x)."
   ]
  },
  {
   "cell_type": "markdown",
   "metadata": {
    "id": "cAqKLuCh7qP5"
   },
   "source": [
    "2e) Now, compare the algorithms KNN regression and Linear Regression. What are the differences you have observed? Which is better and why. Your statements should be backed up with statistics. \n"
   ]
  },
  {
   "cell_type": "code",
   "execution_count": 96,
   "metadata": {},
   "outputs": [
    {
     "data": {
      "text/html": [
       "<div>\n",
       "<style scoped>\n",
       "    .dataframe tbody tr th:only-of-type {\n",
       "        vertical-align: middle;\n",
       "    }\n",
       "\n",
       "    .dataframe tbody tr th {\n",
       "        vertical-align: top;\n",
       "    }\n",
       "\n",
       "    .dataframe thead th {\n",
       "        text-align: right;\n",
       "    }\n",
       "</style>\n",
       "<table border=\"1\" class=\"dataframe\">\n",
       "  <thead>\n",
       "    <tr style=\"text-align: right;\">\n",
       "      <th></th>\n",
       "      <th>R2 Score</th>\n",
       "      <th>MSE</th>\n",
       "      <th>MAE</th>\n",
       "    </tr>\n",
       "  </thead>\n",
       "  <tbody>\n",
       "    <tr>\n",
       "      <th>kNN</th>\n",
       "      <td>0.969005</td>\n",
       "      <td>4.927268e+05</td>\n",
       "      <td>361.264090</td>\n",
       "    </tr>\n",
       "    <tr>\n",
       "      <th>Linear Regression</th>\n",
       "      <td>0.903596</td>\n",
       "      <td>1.532523e+06</td>\n",
       "      <td>838.249575</td>\n",
       "    </tr>\n",
       "  </tbody>\n",
       "</table>\n",
       "</div>"
      ],
      "text/plain": [
       "                   R2 Score           MSE         MAE\n",
       "kNN                0.969005  4.927268e+05  361.264090\n",
       "Linear Regression  0.903596  1.532523e+06  838.249575"
      ]
     },
     "execution_count": 96,
     "metadata": {},
     "output_type": "execute_result"
    }
   ],
   "source": [
    "overall_comp"
   ]
  },
  {
   "cell_type": "markdown",
   "metadata": {
    "id": "4Qb2nIZ171vI"
   },
   "source": [
    "The kNN algorithm is far better than Linear Regression in final comparison metrics.\n",
    "This is because:\n",
    "1. kNN can fit on non linear data also.\n",
    "2. kNN works well on manifolds.\n",
    "3. Given large dataset size, the curse of dimensionality does little harm to kNN in this case.\n",
    "4. Even in high dimensionality, in case the data lies on a manifold, the problem of curse of dimensionality is reduced significantly."
   ]
  },
  {
   "cell_type": "markdown",
   "metadata": {
    "id": "vdAATTFJ8Lvn"
   },
   "source": [
    "2f) Plot the predicted values from KNN regression, Linear Regression and Actual Diamond Price.\n"
   ]
  },
  {
   "cell_type": "code",
   "execution_count": 99,
   "metadata": {
    "id": "Wts-tBCC8NiA"
   },
   "outputs": [
    {
     "data": {
      "image/png": "[encoded data removed]",
      "text/plain": [
       "<Figure size 432x288 with 1 Axes>"
      ]
     },
     "metadata": {
      "needs_background": "light"
     },
     "output_type": "display_data"
    }
   ],
   "source": [
    "idxs = np.argsort(y_test_knn)\n",
    "\n",
    "plt.plot(y_test_knn[idxs],y_preds_knn[idxs],label='kNN')\n",
    "plt.plot(y_test_lreg[idxs],y_preds_lreg[idxs],label='Linear Regression')\n",
    "plt.plot(y_test_lreg[idxs],y_test_lreg[idxs],label='Actual Price')\n",
    "\n",
    "plt.xlabel('Actual Price')\n",
    "plt.ylabel('Predicted Price')\n",
    "plt.legend()\n",
    "plt.show()"
   ]
  },
  {
   "cell_type": "markdown",
   "metadata": {
    "id": "-PkRYsKTzzLM"
   },
   "source": [
    "# **KNN Classifier**"
   ]
  },
  {
   "cell_type": "markdown",
   "metadata": {
    "id": "Ve2icBQ8Zuqq"
   },
   "source": [
    "In this problem you are required to train, test and validate a K-Nearest Neighbor Classifier on the famous CIFAR-10 dataset. The next few cells will guide you through the process. Follow along..."
   ]
  },
  {
   "cell_type": "code",
   "execution_count": 3,
   "metadata": {
    "colab": {
     "base_uri": "https://localhost:8080/"
    },
    "id": "1BZZyZZ3bq-3",
    "outputId": "655938a7-a592-4ef1-d81d-88bdae0612d2"
   },
   "outputs": [],
   "source": [
    "# Run some setup code for this notebook.\n",
    "\n",
    "import random\n",
    "import numpy as np\n",
    "import matplotlib.pyplot as plt\n",
    "import os\n",
    "\n",
    "\n",
    "from builtins import range\n",
    "from six.moves import cPickle as pickle\n",
    "from imageio import imread\n",
    "import platform\n",
    "\n",
    "# This is a bit of magic to make matplotlib figures appear inline in the notebook\n",
    "# rather than in a new window.\n",
    "%matplotlib inline\n",
    "plt.rcParams['figure.figsize'] = (10.0, 8.0) # set default size of plots\n",
    "plt.rcParams['image.interpolation'] = 'nearest'\n",
    "plt.rcParams['image.cmap'] = 'gray'\n",
    "\n",
    "# Some more magic so that the notebook will reload external python modules;\n",
    "# see http://stackoverflow.com/questions/1907993/autoreload-of-modules-in-ipython\n",
    "%load_ext autoreload\n",
    "%autoreload 2"
   ]
  },
  {
   "cell_type": "code",
   "execution_count": 4,
   "metadata": {
    "colab": {
     "base_uri": "https://localhost:8080/"
    },
    "id": "v9TLyifNd5eE",
    "outputId": "494f4c0b-e42f-4b31-8dac-b4ca23476088"
   },
   "outputs": [
    {
     "name": "stdout",
     "output_type": "stream",
     "text": [
      "--2021-02-06 13:17:17--  http://www.cs.toronto.edu/~kriz/cifar-10-python.tar.gz\n",
      "Resolving proxy.iiit.ac.in (proxy.iiit.ac.in)... 10.4.21.120\n",
      "Connecting to proxy.iiit.ac.in (proxy.iiit.ac.in)|10.4.21.120|:8080... connected.\n",
      "Proxy request sent, awaiting response... 200 OK\n",
      "Length: 170498071 (163M) [application/x-gzip]\n",
      "Saving to: ‘cifar-10-python.tar.gz’\n",
      "\n",
      "cifar-10-python.tar 100%[===================>] 162.60M  5.90MB/s    in 28s     \n",
      "\n",
      "2021-02-06 13:17:45 (5.83 MB/s) - ‘cifar-10-python.tar.gz’ saved [170498071/170498071]\n",
      "\n",
      "cifar-10-batches-py/\n",
      "cifar-10-batches-py/data_batch_4\n",
      "cifar-10-batches-py/readme.html\n",
      "cifar-10-batches-py/test_batch\n",
      "cifar-10-batches-py/data_batch_3\n",
      "cifar-10-batches-py/batches.meta\n",
      "cifar-10-batches-py/data_batch_2\n",
      "cifar-10-batches-py/data_batch_5\n",
      "cifar-10-batches-py/data_batch_1\n"
     ]
    }
   ],
   "source": [
    "# Download the dataset\n",
    "!wget http://www.cs.toronto.edu/~kriz/cifar-10-python.tar.gz -O cifar-10-python.tar.gz\n",
    "!tar -xzvf cifar-10-python.tar.gz\n",
    "!rm cifar-10-python.tar.gz"
   ]
  },
  {
   "cell_type": "code",
   "execution_count": 5,
   "metadata": {
    "colab": {
     "base_uri": "https://localhost:8080/"
    },
    "id": "LUWUH9G8dsAi",
    "outputId": "cf91cc6e-f85b-4dd4-f2ef-1b2af45e023f"
   },
   "outputs": [
    {
     "name": "stdout",
     "output_type": "stream",
     "text": [
      "Training data shape:  (50000, 32, 32, 3)\n",
      "Training labels shape:  (50000,)\n",
      "Test data shape:  (10000, 32, 32, 3)\n",
      "Test labels shape:  (10000,)\n"
     ]
    }
   ],
   "source": [
    "# This cell loads the training and testing dataset. Please note the variables at\n",
    "# the end of the cell as you would require them to access the train/test data \n",
    "# and labels throughout the assignment\n",
    "def load_pickle(f):\n",
    "    version = platform.python_version_tuple()\n",
    "    if version[0] == '2':\n",
    "        return  pickle.load(f)\n",
    "    elif version[0] == '3':\n",
    "        return  pickle.load(f, encoding='latin1')\n",
    "    raise ValueError(\"invalid python version: {}\".format(version))\n",
    "  \n",
    "def load_CIFAR_batch(filename):\n",
    "    \"\"\" load single batch of cifar \"\"\"\n",
    "    with open(filename, 'rb') as f:\n",
    "        datadict = load_pickle(f)\n",
    "        X = datadict['data']\n",
    "        Y = datadict['labels']\n",
    "        X = X.reshape(10000, 3, 32, 32).transpose(0,2,3,1).astype(\"float\")\n",
    "        Y = np.array(Y)\n",
    "        return X, Y\n",
    "\n",
    "def load_CIFAR10(ROOT):\n",
    "    \"\"\" load all of cifar \"\"\"\n",
    "    xs = []\n",
    "    ys = []\n",
    "    for b in range(1,6):\n",
    "        f = os.path.join(ROOT, 'data_batch_%d' % (b, ))\n",
    "        X, Y = load_CIFAR_batch(f)\n",
    "        xs.append(X)\n",
    "        ys.append(Y)\n",
    "    Xtr = np.concatenate(xs)\n",
    "    Ytr = np.concatenate(ys)\n",
    "    del X, Y\n",
    "    Xte, Yte = load_CIFAR_batch(os.path.join(ROOT, 'test_batch'))\n",
    "    return Xtr, Ytr, Xte, Yte\n",
    "\n",
    "\n",
    "cifar10_dir = 'cifar-10-batches-py'\n",
    "\n",
    "# Cleaning up variables to prevent loading data multiple times\n",
    "try:\n",
    "   del X_train, y_train\n",
    "   del X_test, y_test\n",
    "   print('Clear previously loaded data.')\n",
    "except:\n",
    "   pass\n",
    "\n",
    "X_train, y_train, X_test, y_test = load_CIFAR10(cifar10_dir)\n",
    "\n",
    "# As a sanity check, we print out the size of the training and test data.\n",
    "print('Training data shape: ', X_train.shape)\n",
    "print('Training labels shape: ', y_train.shape)\n",
    "print('Test data shape: ', X_test.shape)\n",
    "print('Test labels shape: ', y_test.shape)"
   ]
  },
  {
   "cell_type": "markdown",
   "metadata": {
    "id": "ImbVaneln_Vo"
   },
   "source": [
    "Next we visualize the CIFAR-10 dataset. Although these functions are being written for you, we highly recommend you go through the code and make yourself familiar as these are things you will be required to do very often when working on AI/ML projects"
   ]
  },
  {
   "cell_type": "code",
   "execution_count": 6,
   "metadata": {
    "colab": {
     "base_uri": "https://localhost:8080/",
     "height": 476
    },
    "id": "JBiR9dSyn1mV",
    "outputId": "718a41fd-c239-416b-9b2d-0f1cc14fa84d"
   },
   "outputs": [
    {
     "data": {
      "image/png": "[encoded data removed]",
      "text/plain": [
       "<Figure size 720x576 with 70 Axes>"
      ]
     },
     "metadata": {
      "needs_background": "light"
     },
     "output_type": "display_data"
    }
   ],
   "source": [
    "# Visualize some examples from the dataset.\n",
    "# We show a few examples of training images from each class.\n",
    "classes = ['plane', 'car', 'bird', 'cat', 'deer', 'dog', 'frog', 'horse', 'ship', 'truck']\n",
    "num_classes = len(classes)\n",
    "samples_per_class = 7\n",
    "for y, cls in enumerate(classes):\n",
    "    idxs = np.flatnonzero(y_train == y)\n",
    "    idxs = np.random.choice(idxs, samples_per_class, replace=False)\n",
    "    for i, idx in enumerate(idxs):\n",
    "        plt_idx = i * num_classes + y + 1\n",
    "        plt.subplot(samples_per_class, num_classes, plt_idx)\n",
    "        plt.imshow(X_train[idx].astype('uint8'))\n",
    "        plt.axis('off')\n",
    "        if i == 0:\n",
    "            plt.title(cls)\n",
    "plt.show()"
   ]
  },
  {
   "cell_type": "markdown",
   "metadata": {
    "id": "3J80qrXPoaIx"
   },
   "source": [
    "In the next cell we flatten each image into a single dimensional vector so that it is easy to process. You should be able to reason about the dimensions comfortable."
   ]
  },
  {
   "cell_type": "code",
   "execution_count": 7,
   "metadata": {
    "colab": {
     "base_uri": "https://localhost:8080/"
    },
    "id": "-FoCgA3Xn9K6",
    "outputId": "c77de095-88d5-4ad3-ae63-17814637ceae"
   },
   "outputs": [
    {
     "name": "stdout",
     "output_type": "stream",
     "text": [
      "(5000, 3072) (500, 3072)\n"
     ]
    }
   ],
   "source": [
    "# Subsample the data for more efficient code execution in this exercise\n",
    "num_training = 5000\n",
    "mask = list(range(num_training))\n",
    "X_train = X_train[mask]\n",
    "y_train = y_train[mask]\n",
    "\n",
    "num_test = 500\n",
    "mask = list(range(num_test))\n",
    "X_test = X_test[mask]\n",
    "y_test = y_test[mask]\n",
    "\n",
    "# Reshape the image data into rows\n",
    "X_train = np.reshape(X_train, (X_train.shape[0], -1))\n",
    "X_test = np.reshape(X_test, (X_test.shape[0], -1))\n",
    "print(X_train.shape, X_test.shape)"
   ]
  },
  {
   "cell_type": "markdown",
   "metadata": {
    "id": "Atyl_HGcgmb5"
   },
   "source": [
    "In the next cell you are going to implement the main KNearestNeighbor class and keep adding functions to it as and when required in the subsequent steps."
   ]
  },
  {
   "cell_type": "code",
   "execution_count": 8,
   "metadata": {
    "id": "kGM_wB3Wmenb"
   },
   "outputs": [],
   "source": [
    "# You will keep coming back to this cell to add more functions as and when\n",
    "# required. Right now it is very simple!\n",
    "class KNearestNeighbor(object):\n",
    "    \"\"\" a kNN classifier with L2 distance \"\"\"\n",
    "\n",
    "    def __init__(self):\n",
    "        pass\n",
    "    \n",
    "    def train(self,X,y):\n",
    "        self.X = X\n",
    "        self.y = y\n",
    "        \n",
    "    def distanceL2(self,x1,x2):\n",
    "        return np.sqrt(np.sum((x1-x2)**2))\n",
    "    \n",
    "    def compute_distances_two_loops(self,X):\n",
    "        distances = np.zeros((X.shape[0],self.X.shape[0]))\n",
    "        pbar = tqdm(total=X.shape[0])\n",
    "        for idx,x in enumerate(X):\n",
    "            for jdx,trainx in enumerate(self.X):\n",
    "                distances[idx,jdx] = self.distanceL2(trainx,x)\n",
    "            pbar.update()\n",
    "        pbar.refresh()\n",
    "        return distances\n",
    "    def compute_distances_one_loops(self,X):\n",
    "        distances = np.zeros((X.shape[0],self.X.shape[0]))\n",
    "        pbar = tqdm(total=X.shape[0])\n",
    "        for idx,x in enumerate(X):\n",
    "            distances[idx] = np.sqrt(np.sum((self.X-x)**2,axis=1))\n",
    "            #distances[idx] = np.vectorize(self.distanceL2,signature='(n),(n)->()')(self.X,x)\n",
    "            pbar.update()\n",
    "        pbar.refresh()\n",
    "        return distances\n",
    "    \n",
    "    def per_compute_distances_no_loops(self,x):\n",
    "        return np.vectorize(self.distanceL2,signature='(n),(n)->()')(self.X,x)\n",
    "    def compute_distances_no_loops(self,X):\n",
    "#         distances = np.zeros((X.shape[0],self.X.shape[0]))\n",
    "#         distances= np.vectorize(self.per_compute_distances_no_loops,signature='(n)->(m)')(X)\n",
    "        distances = np.sqrt(np.sum((self.X[:,None]-X)**2,axis=2)).T\n",
    "        return distances\n",
    "    def predict_labels(self,dists,k=3):\n",
    "        y = np.zeros(dists.shape[0])\n",
    "        for didx, dist in enumerate(dists):\n",
    "            idx = np.argpartition(dist, k)\n",
    "            possible_ys = self.y[idx[:k]]\n",
    "            unique, counts = np.unique(possible_ys, return_counts=True)\n",
    "            y[didx] = sorted(list(zip(unique, counts)),key=lambda x: x[1])[-1][0]\n",
    "        return y"
   ]
  },
  {
   "cell_type": "markdown",
   "metadata": {
    "id": "K0Rk36rKmwwK"
   },
   "source": [
    "Go back to KNearestNeighbor class and add a method to train the classifier. Your function will be called as below. In KNN classifier, this step is a simple memorization of the training data."
   ]
  },
  {
   "cell_type": "code",
   "execution_count": 9,
   "metadata": {
    "id": "MQy2OIH8nrPd"
   },
   "outputs": [],
   "source": [
    "# Make sure to add train() in the classifier class before executing this cell\n",
    "classifier = KNearestNeighbor()\n",
    "classifier.train(X_train, y_train)"
   ]
  },
  {
   "cell_type": "markdown",
   "metadata": {
    "id": "R3MZBeobnzN2"
   },
   "source": [
    "Go back to KNearestNeighbor class and add a method to compute distances between each pair of test image and train image. You can use two loops to do this. Remember we are using standard L-2 distance metric. Precisely your method should return a distance matrix($D$) where $D(i,j)$ = **L-2** distance between the $i^{th}$ test image and the $j^{th}$ train image. Your function will be called as below"
   ]
  },
  {
   "cell_type": "code",
   "execution_count": 14,
   "metadata": {
    "id": "r3ACfN_CqbPH"
   },
   "outputs": [
    {
     "data": {
      "application/vnd.jupyter.widget-view+json": {
       "model_id": "b88adf3e3f6541cc94cba22d9e4f49d1",
       "version_major": 2,
       "version_minor": 0
      },
      "text/plain": [
       "HBox(children=(FloatProgress(value=0.0, max=500.0), HTML(value='')))"
      ]
     },
     "metadata": {},
     "output_type": "display_data"
    },
    {
     "name": "stdout",
     "output_type": "stream",
     "text": [
      "(500, 5000)\n"
     ]
    }
   ],
   "source": [
    "# Make sure to add compute_distances_two_loops() in the classifier class \n",
    "# before executing this cell\n",
    "dists = classifier.compute_distances_two_loops(X_test)\n",
    "print(dists.shape)"
   ]
  },
  {
   "cell_type": "markdown",
   "metadata": {
    "id": "-PbMeV5Qq2NZ"
   },
   "source": [
    "Next implement the function to predict labels. Again go back to the KNearestNeighbor class cell. Your function will be called as below"
   ]
  },
  {
   "cell_type": "code",
   "execution_count": 150,
   "metadata": {
    "id": "5F8wO5_GrSK6"
   },
   "outputs": [
    {
     "name": "stdout",
     "output_type": "stream",
     "text": [
      "Got 137 / 500 correct => accuracy: 0.274000\n"
     ]
    }
   ],
   "source": [
    "# Make sure to add predict_labels() in the classifier class \n",
    "# before executing this cell\n",
    "y_test_pred = classifier.predict_labels(dists, k=1)\n",
    "\n",
    "# Compute and print the fraction of correctly predicted examples\n",
    "num_correct = np.sum(y_test_pred == y_test)\n",
    "accuracy = float(num_correct) / num_test\n",
    "print('Got %d / %d correct => accuracy: %f' % (num_correct, num_test, accuracy))"
   ]
  },
  {
   "cell_type": "code",
   "execution_count": 151,
   "metadata": {
    "id": "3EfaDb59rcdq"
   },
   "outputs": [
    {
     "name": "stdout",
     "output_type": "stream",
     "text": [
      "k=1 Got 137 / 500 correct => accuracy: 0.274000\n",
      "k=3 Got 142 / 500 correct => accuracy: 0.284000\n",
      "k=5 Got 143 / 500 correct => accuracy: 0.286000\n",
      "k=7 Got 151 / 500 correct => accuracy: 0.302000\n"
     ]
    }
   ],
   "source": [
    "for k in [1,3,5,7]:\n",
    "    y_test_pred = classifier.predict_labels(dists, k=k)\n",
    "\n",
    "    # Compute and print the fraction of correctly predicted examples\n",
    "    num_correct = np.sum(y_test_pred == y_test)\n",
    "    accuracy = float(num_correct) / num_test\n",
    "    print('k=%d Got %d / %d correct => accuracy: %f' % (k,num_correct, num_test, accuracy))\n",
    "# Use this cell to compute accuracies for k = 3, 5, 7"
   ]
  },
  {
   "cell_type": "markdown",
   "metadata": {
    "id": "tcR0kTEWsDDj"
   },
   "source": [
    "Now we have a basic classifier ready but it is extremely inefficient. In Machine Learning writing vectorised code is one of the most important skills. \n",
    "\n",
    "Now you have to again go back to the KNearestNeighbor class cell and add functions to compute the distance matrix using:\n",
    "1.   single loop\n",
    "2.   no loops\n",
    "\n",
    "From here onwards we won't do as much hand holding as done before. You are expected to write all the code from scratch\n",
    "\n"
   ]
  },
  {
   "cell_type": "code",
   "execution_count": 15,
   "metadata": {
    "id": "E-RvqyKWtZpp"
   },
   "outputs": [
    {
     "data": {
      "application/vnd.jupyter.widget-view+json": {
       "model_id": "31e6ed9f74b44d3791a46efccdbb07a3",
       "version_major": 2,
       "version_minor": 0
      },
      "text/plain": [
       "HBox(children=(FloatProgress(value=0.0, max=500.0), HTML(value='')))"
      ]
     },
     "metadata": {},
     "output_type": "display_data"
    },
    {
     "name": "stdout",
     "output_type": "stream",
     "text": [
      "Two loops, time taken: 41.54048204421997 seconds\n"
     ]
    }
   ],
   "source": [
    "# Use this cell to call the functions\n",
    "start_time = time.time()\n",
    "dists = classifier.compute_distances_two_loops(X_test)\n",
    "print('Two loops, time taken: {} seconds'.format(time.time()-start_time))"
   ]
  },
  {
   "cell_type": "code",
   "execution_count": 12,
   "metadata": {
    "id": "E-RvqyKWtZpp"
   },
   "outputs": [
    {
     "data": {
      "application/vnd.jupyter.widget-view+json": {
       "model_id": "4866c42073e443a4871497020da4ef93",
       "version_major": 2,
       "version_minor": 0
      },
      "text/plain": [
       "HBox(children=(FloatProgress(value=0.0, max=500.0), HTML(value='')))"
      ]
     },
     "metadata": {},
     "output_type": "display_data"
    },
    {
     "name": "stdout",
     "output_type": "stream",
     "text": [
      "One loop, time taken: 33.770911693573 seconds\n"
     ]
    }
   ],
   "source": [
    "start_time = time.time()\n",
    "dists = classifier.compute_distances_one_loops(X_test)\n",
    "print('One loop, time taken: {} seconds'.format(time.time()-start_time))"
   ]
  },
  {
   "cell_type": "code",
   "execution_count": 16,
   "metadata": {
    "id": "E-RvqyKWtZpp"
   },
   "outputs": [
    {
     "name": "stdout",
     "output_type": "stream",
     "text": [
      "No loops, time taken: 39.75618815422058 seconds\n"
     ]
    }
   ],
   "source": [
    "start_time = time.time()\n",
    "dists = classifier.compute_distances_no_loops(X_test)\n",
    "print('No loops, time taken: {} seconds'.format(time.time()-start_time))"
   ]
  },
  {
   "cell_type": "markdown",
   "metadata": {},
   "source": [
    "Numpy is optimized for vector operations. However handling a lot of memory at the same time causes too many cache misses. Thus, 1 loop is the fastest, followed by no loop followed by 2 loops."
   ]
  },
  {
   "cell_type": "markdown",
   "metadata": {
    "id": "1J8F3PB3tgPf"
   },
   "source": [
    "Next, you are required to tabulate the time taken to compute the distance matrix using each of the three above methods implemented for k = 1, 3, 5, 7."
   ]
  },
  {
   "cell_type": "code",
   "execution_count": 17,
   "metadata": {
    "id": "E-RvqyKWtZpp"
   },
   "outputs": [
    {
     "name": "stdout",
     "output_type": "stream",
     "text": [
      "\n",
      "\n",
      "\n"
     ]
    },
    {
     "data": {
      "application/vnd.jupyter.widget-view+json": {
       "model_id": "df9072ae38f441198f6071c048b57e8a",
       "version_major": 2,
       "version_minor": 0
      },
      "text/plain": [
       "HBox(children=(FloatProgress(value=0.0, max=500.0), HTML(value='')))"
      ]
     },
     "metadata": {},
     "output_type": "display_data"
    },
    {
     "name": "stdout",
     "output_type": "stream",
     "text": [
      "Two loops, time taken: 41.60369658470154 seconds\n",
      "k=1 Got 137 / 500 correct => accuracy: 0.274000\n",
      "k=3 Got 142 / 500 correct => accuracy: 0.284000\n",
      "k=5 Got 143 / 500 correct => accuracy: 0.286000\n",
      "k=7 Got 151 / 500 correct => accuracy: 0.302000\n",
      "\n"
     ]
    },
    {
     "data": {
      "application/vnd.jupyter.widget-view+json": {
       "model_id": "1fa720b43a054bff81142c4306156dc9",
       "version_major": 2,
       "version_minor": 0
      },
      "text/plain": [
       "HBox(children=(FloatProgress(value=0.0, max=500.0), HTML(value='')))"
      ]
     },
     "metadata": {},
     "output_type": "display_data"
    },
    {
     "name": "stdout",
     "output_type": "stream",
     "text": [
      "One loop, time taken: 33.56493091583252 seconds\n",
      "k=1 Got 137 / 500 correct => accuracy: 0.274000\n",
      "k=3 Got 142 / 500 correct => accuracy: 0.284000\n",
      "k=5 Got 143 / 500 correct => accuracy: 0.286000\n",
      "k=7 Got 151 / 500 correct => accuracy: 0.302000\n",
      "No loops, time taken: 39.692336320877075 seconds\n",
      "k=1 Got 137 / 500 correct => accuracy: 0.274000\n",
      "k=3 Got 142 / 500 correct => accuracy: 0.284000\n",
      "k=5 Got 143 / 500 correct => accuracy: 0.286000\n",
      "k=7 Got 151 / 500 correct => accuracy: 0.302000\n"
     ]
    }
   ],
   "source": [
    "# Use this cell to call the functions\n",
    "start_time = time.time()\n",
    "dists = classifier.compute_distances_two_loops(X_test)\n",
    "print('Two loops, time taken: {} seconds'.format(time.time()-start_time))\n",
    "for k in [1,3,5,7]:\n",
    "    y_test_pred = classifier.predict_labels(dists, k=k)\n",
    "\n",
    "    # Compute and print the fraction of correctly predicted examples\n",
    "    num_correct = np.sum(y_test_pred == y_test)\n",
    "    accuracy = float(num_correct) / num_test\n",
    "    print('k=%d Got %d / %d correct => accuracy: %f' % (k,num_correct, num_test, accuracy))\n",
    "\n",
    "start_time = time.time()\n",
    "dists = classifier.compute_distances_one_loops(X_test)\n",
    "print('One loop, time taken: {} seconds'.format(time.time()-start_time))\n",
    "for k in [1,3,5,7]:\n",
    "    y_test_pred = classifier.predict_labels(dists, k=k)\n",
    "\n",
    "    # Compute and print the fraction of correctly predicted examples\n",
    "    num_correct = np.sum(y_test_pred == y_test)\n",
    "    accuracy = float(num_correct) / num_test\n",
    "    print('k=%d Got %d / %d correct => accuracy: %f' % (k,num_correct, num_test, accuracy))\n",
    "\n",
    "start_time = time.time()\n",
    "dists = classifier.compute_distances_no_loops(X_test)\n",
    "print('No loops, time taken: {} seconds'.format(time.time()-start_time))\n",
    "for k in [1,3,5,7]:\n",
    "    y_test_pred = classifier.predict_labels(dists, k=k)\n",
    "\n",
    "    # Compute and print the fraction of correctly predicted examples\n",
    "    num_correct = np.sum(y_test_pred == y_test)\n",
    "    accuracy = float(num_correct) / num_test\n",
    "    print('k=%d Got %d / %d correct => accuracy: %f' % (k,num_correct, num_test, accuracy))\n"
   ]
  },
  {
   "cell_type": "markdown",
   "metadata": {
    "id": "Tw0j1o8JuBZu"
   },
   "source": [
    "As you can see that in KNN algorithm it is important to tune the hyperparameter K. We will do this using Cross Validation Leave One Out approach. The idea is to split the train set into few folds(here we recommend you to set the fold number to 5). Then, for each value of K, we leave one of these folds out to evaluate performance but use the others to train. Repeat this by leaving each fold out once. You will get 5 accuracies in this case, one for leaving out each fold. Depending on the average accuracy decide on the optimal value of K. Report the same. We also expect you to present plots showing the average accuracy and standard deviation for each value of K."
   ]
  },
  {
   "cell_type": "code",
   "execution_count": 167,
   "metadata": {},
   "outputs": [
    {
     "data": {
      "text/plain": [
       "array([ 2.,  7., 12., 17.])"
      ]
     },
     "execution_count": 167,
     "metadata": {},
     "output_type": "execute_result"
    }
   ],
   "source": [
    "np.arange(20).reshape((4,5)).mean(1)"
   ]
  },
  {
   "cell_type": "code",
   "execution_count": 173,
   "metadata": {
    "id": "JwKY3D05vw4h"
   },
   "outputs": [
    {
     "name": "stdout",
     "output_type": "stream",
     "text": [
      "1 0 0.263\n",
      "3 0 0.252\n",
      "5 0 0.266\n",
      "7 0 0.261\n",
      "1 1 0.257\n",
      "3 1 0.281\n",
      "5 1 0.285\n",
      "7 1 0.298\n",
      "1 2 0.264\n",
      "3 2 0.266\n",
      "5 2 0.29\n",
      "7 2 0.295\n",
      "1 3 0.278\n",
      "3 3 0.29\n",
      "5 3 0.303\n",
      "7 3 0.295\n",
      "1 4 0.266\n",
      "3 4 0.281\n",
      "5 4 0.284\n",
      "7 4 0.293\n",
      "[[0.263 0.257 0.264 0.278 0.266]\n",
      " [0.252 0.281 0.266 0.29  0.281]\n",
      " [0.266 0.285 0.29  0.303 0.284]\n",
      " [0.261 0.298 0.295 0.295 0.293]]\n",
      "Optimal k = 7\n"
     ]
    }
   ],
   "source": [
    "r = 5\n",
    "# np.random.shuffle(X_train)\n",
    "divisions = [int((i)/r*(X_train.shape[0])) for i in range(r+1)]\n",
    "errors_k = list()\n",
    "ks = [1,3,5,7]\n",
    "accuracies = np.zeros((len(ks),r))\n",
    "for i in range(r):\n",
    "    classifier = KNearestNeighbor()\n",
    "    X_train_ = np.vstack([X_train[:divisions[i]],X_train[divisions[i+1]:]])\n",
    "    y_train_ = np.concatenate((y_train[:divisions[i]],y_train[divisions[i+1]:]))\n",
    "    X_test_ = X_train[divisions[i]:divisions[i+1]]\n",
    "    y_test_ = y_train[divisions[i]:divisions[i+1]]\n",
    "\n",
    "    classifier.train(X_train_, y_train_)\n",
    "\n",
    "    dists = classifier.compute_distances_no_loops(X_test_)\n",
    "\n",
    "    for k_idx,k in enumerate(ks):    \n",
    "        y_test_pred = classifier.predict_labels(dists, k=k)\n",
    "        num_correct = np.sum(y_test_pred == y_test_)\n",
    "        accuracy = float(num_correct) / y_test_.shape[0]\n",
    "        print(k,i,accuracy)\n",
    "        accuracies[k_idx,i] = accuracy\n",
    "    \n",
    "print(accuracies)\n",
    "accs_k = np.mean(accuracies,axis=1)\n",
    "print(\"Optimal k =\",ks[np.argmax(accs_k)])"
   ]
  },
  {
   "cell_type": "code",
   "execution_count": 175,
   "metadata": {},
   "outputs": [
    {
     "data": {
      "text/plain": [
       "array([0.2656, 0.274 , 0.2856, 0.2884])"
      ]
     },
     "execution_count": 175,
     "metadata": {},
     "output_type": "execute_result"
    }
   ],
   "source": [
    "accs_k"
   ]
  },
  {
   "cell_type": "markdown",
   "metadata": {},
   "source": [
    "Optimal Value of k = 7"
   ]
  },
  {
   "cell_type": "markdown",
   "metadata": {
    "id": "JvpBcX8av5P1"
   },
   "source": [
    "In this last part of the notebook you are expected to do the following and present appropriate reports/results:\n",
    "\n",
    "1. Try subtracting the mean from each pixel in each image. This mean is computed across all pixels in all images. Report accuracies on the test set for k = 1,3,5,7. Is there any change in the accuracy? Why?\n",
    "2. Try subtracting the mean from each pixel in each image. This mean is computed across all pixels at that position from all images. Report accuracies on the test set for k = 1,3,5,7. Is there any change in the accuracy? Why?\n",
    "3. What is the time complexity of training using KNN classifier? What is the time complexity while testing? Is KNN a linear classifier or can it learn any boundary?\n",
    "4. Bonus: Explore what image features you can use to better the performance of KNN classifier.\n",
    "\n",
    "\n"
   ]
  },
  {
   "cell_type": "code",
   "execution_count": 189,
   "metadata": {},
   "outputs": [
    {
     "name": "stdout",
     "output_type": "stream",
     "text": [
      "120.73323100142045\n"
     ]
    }
   ],
   "source": [
    "mean_x = np.vstack([X_train,X_test]).mean()\n",
    "print(mean_x)\n",
    "X_train_ = X_train-mean_x\n",
    "X_test_ = X_test - mean_x"
   ]
  },
  {
   "cell_type": "code",
   "execution_count": 190,
   "metadata": {},
   "outputs": [
    {
     "data": {
      "text/plain": [
       "-0.27599760298294873"
      ]
     },
     "execution_count": 190,
     "metadata": {},
     "output_type": "execute_result"
    }
   ],
   "source": [
    "X_train_.mean()"
   ]
  },
  {
   "cell_type": "code",
   "execution_count": 191,
   "metadata": {},
   "outputs": [
    {
     "name": "stdout",
     "output_type": "stream",
     "text": [
      "k=1 Got 137 / 500 correct => accuracy: 0.274000\n",
      "k=3 Got 142 / 500 correct => accuracy: 0.284000\n",
      "k=5 Got 143 / 500 correct => accuracy: 0.286000\n",
      "k=7 Got 151 / 500 correct => accuracy: 0.302000\n"
     ]
    }
   ],
   "source": [
    "classifier = KNearestNeighbor()\n",
    "classifier.train(X_train_, y_train)\n",
    "dists = classifier.compute_distances_no_loops(X_test_)\n",
    "for k in [1,3,5,7]:\n",
    "    y_test_pred = classifier.predict_labels(dists, k=k)\n",
    "\n",
    "    # Compute and print the fraction of correctly predicted examples\n",
    "    num_correct = np.sum(y_test_pred == y_test)\n",
    "    accuracy = float(num_correct) / num_test\n",
    "    print('k=%d Got %d / %d correct => accuracy: %f' % (k,num_correct, num_test, accuracy))"
   ]
  },
  {
   "cell_type": "code",
   "execution_count": 192,
   "metadata": {},
   "outputs": [
    {
     "name": "stdout",
     "output_type": "stream",
     "text": [
      "(3072,)\n"
     ]
    }
   ],
   "source": [
    "mean_x = np.vstack([X_train,X_test]).mean(axis=0)\n",
    "print(mean_x.shape)"
   ]
  },
  {
   "cell_type": "code",
   "execution_count": 193,
   "metadata": {},
   "outputs": [],
   "source": [
    "X_train_ = X_train-mean_x\n",
    "X_test_ = X_test - mean_x"
   ]
  },
  {
   "cell_type": "code",
   "execution_count": 196,
   "metadata": {},
   "outputs": [
    {
     "data": {
      "text/plain": [
       "-0.27599760298295284"
      ]
     },
     "execution_count": 196,
     "metadata": {},
     "output_type": "execute_result"
    }
   ],
   "source": [
    "X_train_.mean()"
   ]
  },
  {
   "cell_type": "code",
   "execution_count": 197,
   "metadata": {},
   "outputs": [
    {
     "name": "stdout",
     "output_type": "stream",
     "text": [
      "k=1 Got 137 / 500 correct => accuracy: 0.274000\n",
      "k=3 Got 142 / 500 correct => accuracy: 0.284000\n",
      "k=5 Got 143 / 500 correct => accuracy: 0.286000\n",
      "k=7 Got 151 / 500 correct => accuracy: 0.302000\n"
     ]
    }
   ],
   "source": [
    "classifier = KNearestNeighbor()\n",
    "classifier.train(X_train_, y_train)\n",
    "dists = classifier.compute_distances_no_loops(X_test_)\n",
    "for k in [1,3,5,7]:\n",
    "    y_test_pred = classifier.predict_labels(dists, k=k)\n",
    "\n",
    "    # Compute and print the fraction of correctly predicted examples\n",
    "    num_correct = np.sum(y_test_pred == y_test)\n",
    "    accuracy = float(num_correct) / num_test\n",
    "    print('k=%d Got %d / %d correct => accuracy: %f' % (k,num_correct, num_test, accuracy))"
   ]
  },
  {
   "cell_type": "markdown",
   "metadata": {},
   "source": [
    "1. No change in accuracy. This is because the data given is already in a fixed range and even after that we are subtracting the entire vector by the same value. We need to subtract mean, and ideally also divide by standard deviation, for images, when using Deep Learning, to keep the gradients in limit. Here we don't need to do such a thing. This is for minkowski distances. Suppose it would have been distance metric like Cosine Distance, the accuracy would've been decreased, as, mean+$\\delta$ and mean-$\\delta$ should not make much difference in images, but in cosine distance, the distance metric will have a sudden increase.\n",
    "\n",
    "\n",
    "2. No change in accuracy. This is because the data given is already in a fixed range and even though we are subtracting value of different attributes by respective means, it still makes little difference. We need to subtract mean, and ideally also divide by standard deviation, for images, when using Deep Learning, to keep the gradients in limit. Here we don't need to do such a thing. This is for minkowski distances. Suppose it would have been distance metric like Cosine Distance, the accuracy would've been decreased, as, mean+$\\delta$ and mean-$\\delta$ should not make much difference in images, but in cosine distance, the distance metric will have a sudden increase.\n",
    "\n",
    "\n",
    "3. kNN is Lazy Learner, and Instance Based Classifier. Thus takes no training time.\n",
    "For our current bruteforce kNN classifier, the Testing Time Complexity is $O(Ndk)$ for each sample.\n",
    "kNN can learn any type of boundary.\n",
    "\n",
    "4. We can use PCA to decide linear combinations of the given attributes as the important features for this dataset. However I believe showing and plotting them is out of the scope of current assignment. :)"
   ]
  },
  {
   "cell_type": "markdown",
   "metadata": {
    "id": "6poNZp96z1gN"
   },
   "source": [
    "# **Decision Trees**\n",
    "\n",
    "The Wisconsin Breast Cancer Dataset(WBCD) can be found here(https://archive.ics.uci.edu/ml/machine-learning-databases/breast-cancer-wisconsin/breast-cancer-wisconsin.data)\n",
    "\n",
    "This dataset describes the characteristics of the cell nuclei of various patients with and without breast cancer. The task is to classify a decision tree to predict if a patient has a benign or a malignant tumour based on these features.\n",
    "\n",
    "Attribute Information:\n",
    "```\n",
    "#  Attribute                     Domain\n",
    "   -- -----------------------------------------\n",
    "   1. Sample code number            id number\n",
    "   2. Clump Thickness               1 - 10\n",
    "   3. Uniformity of Cell Size       1 - 10\n",
    "   4. Uniformity of Cell Shape      1 - 10\n",
    "   5. Marginal Adhesion             1 - 10\n",
    "   6. Single Epithelial Cell Size   1 - 10\n",
    "   7. Bare Nuclei                   1 - 10\n",
    "   8. Bland Chromatin               1 - 10\n",
    "   9. Normal Nucleoli               1 - 10\n",
    "  10. Mitoses                       1 - 10\n",
    "  11. Class:                        (2 for benign, 4 for malignant)\n",
    "```\n"
   ]
  },
  {
   "cell_type": "code",
   "execution_count": 18,
   "metadata": {
    "id": "q14LTptiDDZ4"
   },
   "outputs": [
    {
     "data": {
      "text/html": [
       "<div>\n",
       "<style scoped>\n",
       "    .dataframe tbody tr th:only-of-type {\n",
       "        vertical-align: middle;\n",
       "    }\n",
       "\n",
       "    .dataframe tbody tr th {\n",
       "        vertical-align: top;\n",
       "    }\n",
       "\n",
       "    .dataframe thead th {\n",
       "        text-align: right;\n",
       "    }\n",
       "</style>\n",
       "<table border=\"1\" class=\"dataframe\">\n",
       "  <thead>\n",
       "    <tr style=\"text-align: right;\">\n",
       "      <th></th>\n",
       "      <th>CT</th>\n",
       "      <th>UCSize</th>\n",
       "      <th>UCShape</th>\n",
       "      <th>MA</th>\n",
       "      <th>SECSize</th>\n",
       "      <th>BN</th>\n",
       "      <th>BC</th>\n",
       "      <th>NN</th>\n",
       "      <th>Mitoses</th>\n",
       "      <th>Diagnosis</th>\n",
       "    </tr>\n",
       "  </thead>\n",
       "  <tbody>\n",
       "    <tr>\n",
       "      <th>count</th>\n",
       "      <td>699.000000</td>\n",
       "      <td>699.000000</td>\n",
       "      <td>699.000000</td>\n",
       "      <td>699.000000</td>\n",
       "      <td>699.000000</td>\n",
       "      <td>699.000000</td>\n",
       "      <td>699.000000</td>\n",
       "      <td>699.000000</td>\n",
       "      <td>699.000000</td>\n",
       "      <td>699.000000</td>\n",
       "    </tr>\n",
       "    <tr>\n",
       "      <th>mean</th>\n",
       "      <td>4.417740</td>\n",
       "      <td>3.134478</td>\n",
       "      <td>3.207439</td>\n",
       "      <td>2.806867</td>\n",
       "      <td>3.216023</td>\n",
       "      <td>3.463519</td>\n",
       "      <td>3.437768</td>\n",
       "      <td>2.866953</td>\n",
       "      <td>1.589413</td>\n",
       "      <td>2.689557</td>\n",
       "    </tr>\n",
       "    <tr>\n",
       "      <th>std</th>\n",
       "      <td>2.815741</td>\n",
       "      <td>3.051459</td>\n",
       "      <td>2.971913</td>\n",
       "      <td>2.855379</td>\n",
       "      <td>2.214300</td>\n",
       "      <td>3.640708</td>\n",
       "      <td>2.438364</td>\n",
       "      <td>3.053634</td>\n",
       "      <td>1.715078</td>\n",
       "      <td>0.951273</td>\n",
       "    </tr>\n",
       "    <tr>\n",
       "      <th>min</th>\n",
       "      <td>1.000000</td>\n",
       "      <td>1.000000</td>\n",
       "      <td>1.000000</td>\n",
       "      <td>1.000000</td>\n",
       "      <td>1.000000</td>\n",
       "      <td>0.000000</td>\n",
       "      <td>1.000000</td>\n",
       "      <td>1.000000</td>\n",
       "      <td>1.000000</td>\n",
       "      <td>2.000000</td>\n",
       "    </tr>\n",
       "    <tr>\n",
       "      <th>25%</th>\n",
       "      <td>2.000000</td>\n",
       "      <td>1.000000</td>\n",
       "      <td>1.000000</td>\n",
       "      <td>1.000000</td>\n",
       "      <td>2.000000</td>\n",
       "      <td>1.000000</td>\n",
       "      <td>2.000000</td>\n",
       "      <td>1.000000</td>\n",
       "      <td>1.000000</td>\n",
       "      <td>2.000000</td>\n",
       "    </tr>\n",
       "    <tr>\n",
       "      <th>50%</th>\n",
       "      <td>4.000000</td>\n",
       "      <td>1.000000</td>\n",
       "      <td>1.000000</td>\n",
       "      <td>1.000000</td>\n",
       "      <td>2.000000</td>\n",
       "      <td>1.000000</td>\n",
       "      <td>3.000000</td>\n",
       "      <td>1.000000</td>\n",
       "      <td>1.000000</td>\n",
       "      <td>2.000000</td>\n",
       "    </tr>\n",
       "    <tr>\n",
       "      <th>75%</th>\n",
       "      <td>6.000000</td>\n",
       "      <td>5.000000</td>\n",
       "      <td>5.000000</td>\n",
       "      <td>4.000000</td>\n",
       "      <td>4.000000</td>\n",
       "      <td>5.000000</td>\n",
       "      <td>5.000000</td>\n",
       "      <td>4.000000</td>\n",
       "      <td>1.000000</td>\n",
       "      <td>4.000000</td>\n",
       "    </tr>\n",
       "    <tr>\n",
       "      <th>max</th>\n",
       "      <td>10.000000</td>\n",
       "      <td>10.000000</td>\n",
       "      <td>10.000000</td>\n",
       "      <td>10.000000</td>\n",
       "      <td>10.000000</td>\n",
       "      <td>10.000000</td>\n",
       "      <td>10.000000</td>\n",
       "      <td>10.000000</td>\n",
       "      <td>10.000000</td>\n",
       "      <td>4.000000</td>\n",
       "    </tr>\n",
       "  </tbody>\n",
       "</table>\n",
       "</div>"
      ],
      "text/plain": [
       "               CT      UCSize     UCShape          MA     SECSize          BN  \\\n",
       "count  699.000000  699.000000  699.000000  699.000000  699.000000  699.000000   \n",
       "mean     4.417740    3.134478    3.207439    2.806867    3.216023    3.463519   \n",
       "std      2.815741    3.051459    2.971913    2.855379    2.214300    3.640708   \n",
       "min      1.000000    1.000000    1.000000    1.000000    1.000000    0.000000   \n",
       "25%      2.000000    1.000000    1.000000    1.000000    2.000000    1.000000   \n",
       "50%      4.000000    1.000000    1.000000    1.000000    2.000000    1.000000   \n",
       "75%      6.000000    5.000000    5.000000    4.000000    4.000000    5.000000   \n",
       "max     10.000000   10.000000   10.000000   10.000000   10.000000   10.000000   \n",
       "\n",
       "               BC          NN     Mitoses   Diagnosis  \n",
       "count  699.000000  699.000000  699.000000  699.000000  \n",
       "mean     3.437768    2.866953    1.589413    2.689557  \n",
       "std      2.438364    3.053634    1.715078    0.951273  \n",
       "min      1.000000    1.000000    1.000000    2.000000  \n",
       "25%      2.000000    1.000000    1.000000    2.000000  \n",
       "50%      3.000000    1.000000    1.000000    2.000000  \n",
       "75%      5.000000    4.000000    1.000000    4.000000  \n",
       "max     10.000000   10.000000   10.000000    4.000000  "
      ]
     },
     "execution_count": 18,
     "metadata": {},
     "output_type": "execute_result"
    }
   ],
   "source": [
    "import pandas as pd\n",
    "headers = [\"ID\",\"CT\",\"UCSize\",\"UCShape\",\"MA\",\"SECSize\",\"BN\",\"BC\",\"NN\",\"Mitoses\",\"Diagnosis\"]\n",
    "data = pd.read_csv('breast-cancer-wisconsin.data', na_values='?',    \n",
    "         header=None, index_col=['ID'], names = headers) \n",
    "data = data.reset_index(drop=True)\n",
    "data = data.fillna(0)\n",
    "data.describe()"
   ]
  },
  {
   "cell_type": "code",
   "execution_count": 23,
   "metadata": {},
   "outputs": [
    {
     "data": {
      "text/plain": [
       "array([2, 4])"
      ]
     },
     "execution_count": 23,
     "metadata": {},
     "output_type": "execute_result"
    }
   ],
   "source": [
    "data['Diagnosis'].unique()"
   ]
  },
  {
   "cell_type": "code",
   "execution_count": 22,
   "metadata": {},
   "outputs": [
    {
     "data": {
      "text/plain": [
       "[('CT', dtype('int64')),\n",
       " ('UCSize', dtype('int64')),\n",
       " ('UCShape', dtype('int64')),\n",
       " ('MA', dtype('int64')),\n",
       " ('SECSize', dtype('int64')),\n",
       " ('BN', dtype('float64')),\n",
       " ('BC', dtype('int64')),\n",
       " ('NN', dtype('int64')),\n",
       " ('Mitoses', dtype('int64')),\n",
       " ('Diagnosis', dtype('int64'))]"
      ]
     },
     "execution_count": 22,
     "metadata": {},
     "output_type": "execute_result"
    }
   ],
   "source": [
    "[ (x,data[x].dtype) for x in data.columns]"
   ]
  },
  {
   "cell_type": "markdown",
   "metadata": {
    "id": "eo1BRpN8-jFd"
   },
   "source": [
    "1. a) Implement a decision tree(from scratch using only python data structures) as a class."
   ]
  },
  {
   "cell_type": "code",
   "execution_count": null,
   "metadata": {
    "id": "SZ2-nGGPz3WK"
   },
   "outputs": [],
   "source": []
  },
  {
   "cell_type": "markdown",
   "metadata": {
    "id": "N8tisI0rABrd"
   },
   "source": [
    "1. b) Train a decision tree object of the above class on the WBC dataset using misclassification rate, entropy and Gini as the splitting metrics."
   ]
  },
  {
   "cell_type": "code",
   "execution_count": null,
   "metadata": {
    "id": "PM_O8jULEVn2"
   },
   "outputs": [],
   "source": []
  },
  {
   "cell_type": "markdown",
   "metadata": {
    "id": "KS_5y9sPFrYv"
   },
   "source": [
    "1. c) Report the accuracies in each of the above splitting metrics and give the best result. "
   ]
  },
  {
   "cell_type": "code",
   "execution_count": null,
   "metadata": {
    "id": "1jDvTBgPHE19"
   },
   "outputs": [],
   "source": []
  },
  {
   "cell_type": "markdown",
   "metadata": {
    "id": "CotPmJDKHD0c"
   },
   "source": [
    "1. d) Experiment with different approaches to decide when to terminate the tree(number of layers, purity measure, etc). Report and give explanations for all approaches. "
   ]
  },
  {
   "cell_type": "code",
   "execution_count": null,
   "metadata": {
    "id": "n_PJLrIUHZEm"
   },
   "outputs": [],
   "source": []
  },
  {
   "cell_type": "markdown",
   "metadata": {
    "id": "E3BO_sxvHZ3m"
   },
   "source": [
    "1. e) Does standardisation and normalisation help in this case? Report"
   ]
  },
  {
   "cell_type": "markdown",
   "metadata": {
    "id": "bsox4fb5H0vO"
   },
   "source": [
    "Answer:"
   ]
  },
  {
   "cell_type": "markdown",
   "metadata": {
    "id": "PcCvNmtvH84l"
   },
   "source": [
    "2. Compare your trained model with a model trained by the scikit-learn DecisionTreeClassifier module. Compare accuracies."
   ]
  },
  {
   "cell_type": "code",
   "execution_count": null,
   "metadata": {
    "id": "OzSDqUoNHaOg"
   },
   "outputs": [],
   "source": []
  },
  {
   "cell_type": "markdown",
   "metadata": {
    "id": "TXOy8NUqIHlh"
   },
   "source": [
    "3. Output a depth first traversal of your decision tree in a file named ```outputimp.txt``` respectively in the following format and submit it along with the assignment.\n",
    "\n",
    "\n",
    "```\n",
    "<Node classification criteria in words.>\n",
    "<Branch label>\n",
    "  ... And so on, recursively.\n",
    "```\n",
    " \n",
    "For example,\n",
    "a depth first search traversal for the below decision tree would be:\n",
    "\n",
    "![Decision tree (4).png](data:image/png;base64,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)\n",
    "```\n",
    "Is A>5?\n",
    "True Branch\n",
    "  Is B>10?\n",
    "  True Branch\n",
    "    Versicolor\n",
    "  Is B>10?\n",
    "  False Branch\n",
    "    Setosa\n",
    "Is A>5?\n",
    "False Branch\n",
    "\tVirginica\n",
    "\n",
    "```\n",
    "\n",
    "\n"
   ]
  },
  {
   "cell_type": "code",
   "execution_count": null,
   "metadata": {
    "id": "nvqtvFyFOZXF"
   },
   "outputs": [],
   "source": []
  },
  {
   "cell_type": "markdown",
   "metadata": {
    "id": "ZS1jGnaKOaG7"
   },
   "source": [
    "4. Experiment with removing features that are redundant, highly correlated with other features and report accuracies of the resulting model. Explain your approach."
   ]
  },
  {
   "cell_type": "code",
   "execution_count": null,
   "metadata": {
    "id": "2vMLvn1UOZu7"
   },
   "outputs": [],
   "source": []
  },
  {
   "cell_type": "markdown",
   "metadata": {
    "id": "IrDwLUnaPdaQ"
   },
   "source": [
    "5. Report the advantages and disadvantages of decision trees based on the above question."
   ]
  },
  {
   "cell_type": "markdown",
   "metadata": {
    "id": "glMTM1WTPfwO"
   },
   "source": [
    "Answer:"
   ]
  }
 ],
 "metadata": {
  "colab": {
   "collapsed_sections": [
    "6poNZp96z1gN"
   ],
   "name": "SMAI -Assignment1.ipynb",
   "provenance": []
  },
  "kernelspec": {
   "display_name": "env",
   "language": "python",
   "name": "env"
  },
  "language_info": {
   "codemirror_mode": {
    "name": "ipython",
    "version": 3
   },
   "file_extension": ".py",
   "mimetype": "text/x-python",
   "name": "python",
   "nbconvert_exporter": "python",
   "pygments_lexer": "ipython3",
   "version": "3.7.4"
  }
 },
 "nbformat": 4,
 "nbformat_minor": 1
}
